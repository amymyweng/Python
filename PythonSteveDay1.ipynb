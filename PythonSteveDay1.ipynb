{
 "cells": [
  {
   "cell_type": "markdown",
   "metadata": {},
   "source": [
    "# Module_00 課程簡介--Python先修\n",
    ">### CoreLab Web : http://colab.iiiedu.org.tw  註冊帳戶, 登入姓名請用中文全名, 因會影響考試成績之辨識。\n",
    ">### 課程名稱 : DEM5121 - Python程式設計 (8/8 ~ 8/10)\n",
    ">### 邀請碼 : sZbkNn (注意大小寫)\n",
    "---\n",
    ">### 1.  課堂上多思考程式邏輯\n",
    ">### 2.  座位固定 (可協調後換座位)\n",
    ">### 3.  多參加線上社團學習, 如 FB-python Taiwan....etc.\n",
    "---"
   ]
  },
  {
   "cell_type": "markdown",
   "metadata": {},
   "source": [
    "><img src=\".\\img\\pythonLogo.png\"  style='height:400px; width:900px'></img>\n",
    "## 程式語言的成長趨勢\n",
    "><img src=\".\\img\\PythonTrend.png\"  style='height:450px; width:900px'>\n",
    "><img src=\".\\img\\PythonTrend01.png\"  style='height:450px; width:900px'>"
   ]
  },
  {
   "cell_type": "markdown",
   "metadata": {},
   "source": [
    "---"
   ]
  },
  {
   "cell_type": "markdown",
   "metadata": {},
   "source": [
    "# 0-3, Python 特色\n",
    ">### 1. 物件導向式語言架構(Object-Oriented Program Language)\n",
    ">### 2. 直譯式, 又稱作腳本語言(Scripting language)\n",
    ">### 3. 省略變數類型宣告動作\n",
    ">### 4. 自動化的記憶體管理\n",
    ">### 5. 內建許多高階實用的資料型態, 提供許多標準函式庫及第三方套件(package)\n",
    ">### 6. 跨平台與圖形介面延伸, 膠水語言(glue language)，能與其他語言結合\n",
    ">### 7. 優雅簡潔，易學易用"
   ]
  },
  {
   "cell_type": "markdown",
   "metadata": {},
   "source": [
    "---"
   ]
  },
  {
   "cell_type": "markdown",
   "metadata": {},
   "source": [
    "# Python2.X\n",
    ">## 穩定版本\n",
    ">## version2.7 為最終版本(2020-01-01 終止支援)\n",
    "\n",
    "# Python3.X\n",
    ">## 現在進行式同時也是未來趨勢\n",
    ">## 活絡發展中\n",
    ">## 對初學者較友善"
   ]
  },
  {
   "cell_type": "markdown",
   "metadata": {},
   "source": [
    "---"
   ]
  },
  {
   "cell_type": "markdown",
   "metadata": {},
   "source": [
    "# Python 科學堆疊\n",
    "><img src=\".\\img\\scipy-stack.png\"  style='height:450px; width:900px'>\n",
    "### https://pypi.org/"
   ]
  },
  {
   "cell_type": "markdown",
   "metadata": {},
   "source": [
    "---"
   ]
  },
  {
   "cell_type": "markdown",
   "metadata": {},
   "source": [
    "# Module_01_Python簡介"
   ]
  },
  {
   "cell_type": "markdown",
   "metadata": {},
   "source": [
    ">## Top IDEs (Integrated Development Environment) for Text Editor\n",
    "\n",
    "><img src=\".\\img\\mostide01.jpg\" style='height:550px; width:900px'>"
   ]
  },
  {
   "cell_type": "markdown",
   "metadata": {},
   "source": [
    "# IDE (開發工具箱)\n",
    ">## IDLE (Python 提供的)\n",
    ">## VS code\n",
    ">## Jupyter lab (網站架構<HTML>) "
   ]
  },
  {
   "cell_type": "markdown",
   "metadata": {},
   "source": [
    "# Top Python IDEs for Data Science in 2019\n",
    "><img src=\".\\img\\mostIde.jpg\"  style='height:550px; width:900px'>"
   ]
  },
  {
   "cell_type": "markdown",
   "metadata": {},
   "source": [
    "# 電腦硬體基本架構 : CPU, Memory, I/O\n",
    "><img src=\".\\img\\computerHW.jpg\"  style='height:350px; width:900px'>"
   ]
  },
  {
   "cell_type": "markdown",
   "metadata": {},
   "source": [
    "# 原始碼(source code)、位元組碼(byte code)、機械碼(machine code)"
   ]
  },
  {
   "cell_type": "markdown",
   "metadata": {},
   "source": [
    "><img src=\".\\img\\Py-pyc03.png\"  style='height:450px; width:900px'>"
   ]
  },
  {
   "cell_type": "markdown",
   "metadata": {},
   "source": [
    "# 1-10 安裝 Python, VS code\n",
    ">## 硬碟檢視\n",
    ">## Python : Download 64位元 Windows x86-64 executable installer\n",
    ">## 安裝參考講義 1-10\n",
    "><img src=\".\\img\\pythonInstall01.jpg\"  style='height:350px; width:900px'>"
   ]
  },
  {
   "cell_type": "markdown",
   "metadata": {},
   "source": [
    "### 1-10 python document\n",
    "\n",
    ">#### https://docs.python.org/3/\n",
    ">#### PEP 8 Tab and space\n",
    ">#### Google \"buildin function\" "
   ]
  },
  {
   "cell_type": "markdown",
   "metadata": {},
   "source": [
    "# IDLE & VScode\n",
    ">### https://code.visualstudio.com/download\n",
    ">### VSCodeUserSetup-x64-1.45.1.exe\n",
    ">### ctrl + shift + p, python interpreter"
   ]
  },
  {
   "cell_type": "markdown",
   "metadata": {},
   "source": [
    "# Using Jupyter Lab\n",
    "\n",
    ">## Note :\n",
    ">#### 1.  Ipython 就是 Jupyter Python 的 Kernal (ipython : 互動式)\n",
    ">#### 2.  在 (Windows PowerShell 系統管理員)身分下打 pip install jupyterlab 指令(灌程式)\n",
    ">#### 3.  在 (Windows PowerShell 一般身分)下打 jupyter lab (執行程式)(shell> jupyter lab)\n",
    ">#### 4.  or install Anaconda ( :>jupyter notebook) (暫不建議, 為了維持一套 python 在電腦中)\n",
    "https://medium.com/python4u/jupyter-notebook%E5%AE%8C%E6%95%B4%E4%BB%8B%E7%B4%B9%E5%8F%8A%E5%AE%89%E8%A3%9D%E8%AA%AA%E6%98%8E-b8fcadba15f"
   ]
  },
  {
   "cell_type": "markdown",
   "metadata": {},
   "source": [
    "---"
   ]
  },
  {
   "cell_type": "code",
   "execution_count": 7,
   "metadata": {},
   "outputs": [
    {
     "name": "stdout",
     "output_type": "stream",
     "text": [
      "jupyter core     : 4.6.3\n",
      "jupyter-notebook : 6.1.4\n",
      "qtconsole        : not installed\n",
      "ipython          : 7.18.1\n",
      "ipykernel        : 5.3.4\n",
      "jupyter client   : 6.1.7\n",
      "jupyter lab      : 2.2.8\n",
      "nbconvert        : 6.0.7\n",
      "ipywidgets       : not installed\n",
      "nbformat         : 5.0.7\n",
      "traitlets        : 5.0.4\n"
     ]
    }
   ],
   "source": [
    "!jupyter --version"
   ]
  },
  {
   "cell_type": "code",
   "execution_count": 60,
   "metadata": {},
   "outputs": [
    {
     "data": {
      "text/plain": [
       "'3.7.6 (tags/v3.7.6:43364a7ae0, Dec 19 2019, 00:42:30) [MSC v.1916 64 bit (AMD64)]'"
      ]
     },
     "execution_count": 60,
     "metadata": {},
     "output_type": "execute_result"
    }
   ],
   "source": [
    "import sys\n",
    "sys.version"
   ]
  },
  {
   "cell_type": "code",
   "execution_count": 4,
   "metadata": {},
   "outputs": [
    {
     "name": "stdout",
     "output_type": "stream",
     "text": [
      "Help on built-in function print in module builtins:\n",
      "\n",
      "print(...)\n",
      "    print(value, ..., sep=' ', end='\\n', file=sys.stdout, flush=False)\n",
      "    \n",
      "    Prints the values to a stream, or to sys.stdout by default.\n",
      "    Optional keyword arguments:\n",
      "    file:  a file-like object (stream); defaults to the current sys.stdout.\n",
      "    sep:   string inserted between values, default a space.\n",
      "    end:   string appended after the last value, default a newline.\n",
      "    flush: whether to forcibly flush the stream.\n",
      "\n"
     ]
    },
    {
     "data": {
      "text/plain": [
       "<function print>"
      ]
     },
     "execution_count": 4,
     "metadata": {},
     "output_type": "execute_result"
    }
   ],
   "source": [
    "help(print)  # shift + tab,  see whatever you want to check.  change 'len' in quotation.\n",
    "print"
   ]
  },
  {
   "cell_type": "code",
   "execution_count": 7,
   "metadata": {},
   "outputs": [
    {
     "data": {
      "text/plain": [
       "\u001b[1;31mSignature:\u001b[0m \u001b[0mlen\u001b[0m\u001b[1;33m(\u001b[0m\u001b[0mobj\u001b[0m\u001b[1;33m,\u001b[0m \u001b[1;33m/\u001b[0m\u001b[1;33m)\u001b[0m\u001b[1;33m\u001b[0m\u001b[1;33m\u001b[0m\u001b[0m\n",
       "\u001b[1;31mDocstring:\u001b[0m Return the number of items in a container.\n",
       "\u001b[1;31mType:\u001b[0m      builtin_function_or_method\n"
      ]
     },
     "metadata": {},
     "output_type": "display_data"
    }
   ],
   "source": [
    "len?"
   ]
  },
  {
   "cell_type": "code",
   "execution_count": 6,
   "metadata": {},
   "outputs": [
    {
     "data": {
      "text/plain": [
       "3"
      ]
     },
     "execution_count": 6,
     "metadata": {},
     "output_type": "execute_result"
    }
   ],
   "source": [
    "L = [1, 2, 3]\n",
    "len(L)"
   ]
  },
  {
   "cell_type": "code",
   "execution_count": 8,
   "metadata": {},
   "outputs": [
    {
     "name": "stdout",
     "output_type": "stream",
     "text": [
      "  4           0 LOAD_FAST                0 (a)\n",
      "              2 LOAD_FAST                1 (b)\n",
      "              4 BINARY_ADD\n",
      "              6 RETURN_VALUE\n"
     ]
    }
   ],
   "source": [
    "# show 位元碼\n",
    "import dis\n",
    "def add(a,b):\n",
    "    return a+b\n",
    "add.__code__.co_code\n",
    "# print(add.__code__.co_code)\n",
    "dis.dis(add)"
   ]
  },
  {
   "cell_type": "markdown",
   "metadata": {},
   "source": [
    "# Module_02_認識變數與基本數學運算\n",
    "\n",
    ">### 特此申明 : 在Jupyter 中盡量不要用 print 指令，但為了初學者容易閱讀起見, 不得已我們會用一些\n",
    ">### 原因如下: y 是 '數字' 還是 '文字' 傻傻分不清"
   ]
  },
  {
   "cell_type": "code",
   "execution_count": 6,
   "metadata": {},
   "outputs": [
    {
     "data": {
      "text/plain": [
       "'5'"
      ]
     },
     "execution_count": 6,
     "metadata": {},
     "output_type": "execute_result"
    }
   ],
   "source": [
    "y = '5'\n",
    "#print(y)   # y 數字還是文字傻傻分不清\n",
    "y\n",
    "aInt = 5\n",
    "aInt\n",
    "y"
   ]
  },
  {
   "cell_type": "code",
   "execution_count": 2,
   "metadata": {},
   "outputs": [
    {
     "name": "stdout",
     "output_type": "stream",
     "text": [
      "Python is simple; Python is simple; Python is simple; Python is simple;  3 enjoy!\n"
     ]
    }
   ],
   "source": [
    "print('Python is simple; '*4 ,'3','enjoy!')  # print就是一函數(函式), "
   ]
  },
  {
   "cell_type": "markdown",
   "metadata": {},
   "source": [
    "## 2-2 keyword list"
   ]
  },
  {
   "cell_type": "code",
   "execution_count": 1,
   "metadata": {},
   "outputs": [
    {
     "name": "stdout",
     "output_type": "stream",
     "text": [
      "['False', 'None', 'True', 'and', 'as', 'assert', 'async', 'await', 'break', 'class', 'continue', 'def', 'del', 'elif', 'else', 'except', 'finally', 'for', 'from', 'global', 'if', 'import', 'in', 'is', 'lambda', 'nonlocal', 'not', 'or', 'pass', 'raise', 'return', 'try', 'while', 'with', 'yield']\n",
      "\n",
      "\n",
      "dict_keys(['__name__', '__doc__', '__package__', '__loader__', '__spec__', '__build_class__', '__import__', 'abs', 'all', 'any', 'ascii', 'bin', 'breakpoint', 'callable', 'chr', 'compile', 'delattr', 'dir', 'divmod', 'eval', 'exec', 'format', 'getattr', 'globals', 'hasattr', 'hash', 'hex', 'id', 'input', 'isinstance', 'issubclass', 'iter', 'len', 'locals', 'max', 'min', 'next', 'oct', 'ord', 'pow', 'print', 'repr', 'round', 'setattr', 'sorted', 'sum', 'vars', 'None', 'Ellipsis', 'NotImplemented', 'False', 'True', 'bool', 'memoryview', 'bytearray', 'bytes', 'classmethod', 'complex', 'dict', 'enumerate', 'filter', 'float', 'frozenset', 'property', 'int', 'list', 'map', 'object', 'range', 'reversed', 'set', 'slice', 'staticmethod', 'str', 'super', 'tuple', 'type', 'zip', '__debug__', 'BaseException', 'Exception', 'TypeError', 'StopAsyncIteration', 'StopIteration', 'GeneratorExit', 'SystemExit', 'KeyboardInterrupt', 'ImportError', 'ModuleNotFoundError', 'OSError', 'EnvironmentError', 'IOError', 'WindowsError', 'EOFError', 'RuntimeError', 'RecursionError', 'NotImplementedError', 'NameError', 'UnboundLocalError', 'AttributeError', 'SyntaxError', 'IndentationError', 'TabError', 'LookupError', 'IndexError', 'KeyError', 'ValueError', 'UnicodeError', 'UnicodeEncodeError', 'UnicodeDecodeError', 'UnicodeTranslateError', 'AssertionError', 'ArithmeticError', 'FloatingPointError', 'OverflowError', 'ZeroDivisionError', 'SystemError', 'ReferenceError', 'MemoryError', 'BufferError', 'Warning', 'UserWarning', 'DeprecationWarning', 'PendingDeprecationWarning', 'SyntaxWarning', 'RuntimeWarning', 'FutureWarning', 'ImportWarning', 'UnicodeWarning', 'BytesWarning', 'ResourceWarning', 'ConnectionError', 'BlockingIOError', 'BrokenPipeError', 'ChildProcessError', 'ConnectionAbortedError', 'ConnectionRefusedError', 'ConnectionResetError', 'FileExistsError', 'FileNotFoundError', 'IsADirectoryError', 'NotADirectoryError', 'InterruptedError', 'PermissionError', 'ProcessLookupError', 'TimeoutError', 'open', 'copyright', 'credits', 'license', 'help', '__IPYTHON__', 'display', 'get_ipython'])\n"
     ]
    }
   ],
   "source": [
    "import keyword\n",
    "print(keyword.kwlist)\n",
    "print('\\n')\n",
    "\n",
    "# list all built-in keywords\n",
    "print(vars(__builtin__).keys(),)"
   ]
  },
  {
   "cell_type": "code",
   "execution_count": 16,
   "metadata": {},
   "outputs": [
    {
     "name": "stdout",
     "output_type": "stream",
     "text": [
      "abc\n"
     ]
    }
   ],
   "source": [
    "# 關鍵字拿去用會有問題\n",
    "#print=1  \n",
    "print('abc')  # error"
   ]
  },
  {
   "cell_type": "code",
   "execution_count": 15,
   "metadata": {},
   "outputs": [
    {
     "name": "stdout",
     "output_type": "stream",
     "text": [
      "abc\n"
     ]
    }
   ],
   "source": [
    "del print  # del = bash unset\n",
    "print('abc')"
   ]
  },
  {
   "cell_type": "code",
   "execution_count": 19,
   "metadata": {},
   "outputs": [
    {
     "data": {
      "text/plain": [
       "368063488259223267894700840060521865838338232037353204655959621437025609300472231530103873614505175218691345257589896391130393189447969771645832382192366076536631132001776175977932178658703660778465765811830827876982014124022948671975678131724958064427949902810498973271030787716781467419524180040734398996952930832508934116945966120176735120823151959779536852290090377452502236990839453416790640456116471139751546750048602189291028640970574762600185950226138244530187489211615864021135312077912018844630780307462205252807737757672094320692373101032517459518497524015120165166724189816766397247824175394802028228160027100623998873667435799073054618906855460488351426611310634023489044291860510352301912426608488807462312126590206830413782664554260411266378866626653755763627796569082931785645600816236891168141774993267488171702172191072731069216881668294625679492696148976999868715671440874206427212056717373099639711168901197440416590226524192782842896415414611688187391232048327738965820265934093108172054875188246591760877131657895633586576611857277011782497943522945011248430439201297015119468730712364007639373910811953430309476832453230123996750235710787086641070310288725389595138936784715274150426495416196669832679980253436807864187160054589045664027158817958549374490512399055448819148487049363674611664609890030088549591992466360050042566270348330911795487647045949301286614658650071299695652245266080672989921799342509291635330827874264789587306974472327718704306352445925996155619153783913237212716010410294999877569745287353422903443387562746452522860420416689019732913798073773281533570910205207767157128174184873357050830752777900041943256738499067821488421053870869022738698816059810579221002560882999884763252161747566893835178558961142349304466506402373556318707175710866983035313122068321102457824112014969387225476259342872866363550383840720010832906695360553556647545295849966279980830561242960013654529514995113584909050813015198928283202189194615501403435553060147713139766323195743324848047347575473228198492343231496580885057330510949058490527738662697480293583612233134502078182014347192522391449087738579081585795613547198599661273567662441490401862839817822686573112998663038868314974259766039340894024308383451039874674061160538242392803580758232755749310843694194787991556647907091849600704712003371103926967137408125713631396699343733288014254084819379380555174777020843568689927348949484201042595271932630685747613835385434424807024615161848223715989797178155169951121052285149157137697718850449708843330475301440373094611119631361702936342263219382793996895988331701890693689862459020775599439506870005130750427949747071390095256759203426671803377068109744629909769176319526837824364926844730545524646494321826241925107158040561607706364484910978348669388142016838792902926158979355432483611517588605967745393958061959024834251565197963477521095821435651996730128376734574843289089682710350244222290017891280419782767803785277960834729869249991658417000499998999"
      ]
     },
     "execution_count": 19,
     "metadata": {},
     "output_type": "execute_result"
    }
   ],
   "source": [
    "999**999  # INT no overflow"
   ]
  },
  {
   "cell_type": "code",
   "execution_count": null,
   "metadata": {},
   "outputs": [],
   "source": [
    "999.**999 # floating overflow"
   ]
  },
  {
   "cell_type": "code",
   "execution_count": 2,
   "metadata": {},
   "outputs": [
    {
     "data": {
      "text/plain": [
       "sys.int_info(bits_per_digit=30, sizeof_digit=4)"
      ]
     },
     "execution_count": 2,
     "metadata": {},
     "output_type": "execute_result"
    }
   ],
   "source": [
    "# max floating number\n",
    "import sys\n",
    "sys.float_info.max"
   ]
  },
  {
   "cell_type": "code",
   "execution_count": 4,
   "metadata": {},
   "outputs": [
    {
     "data": {
      "text/plain": [
       "sys.int_info(bits_per_digit=30, sizeof_digit=4)"
      ]
     },
     "execution_count": 4,
     "metadata": {},
     "output_type": "execute_result"
    }
   ],
   "source": [
    "sys.int_info"
   ]
  },
  {
   "cell_type": "code",
   "execution_count": 5,
   "metadata": {},
   "outputs": [
    {
     "ename": "AttributeError",
     "evalue": "'sys.int_info' object has no attribute 'max'",
     "output_type": "error",
     "traceback": [
      "\u001b[1;31m---------------------------------------------------------------------------\u001b[0m",
      "\u001b[1;31mAttributeError\u001b[0m                            Traceback (most recent call last)",
      "\u001b[1;32m<ipython-input-5-d8c8c41ff1f1>\u001b[0m in \u001b[0;36m<module>\u001b[1;34m\u001b[0m\n\u001b[1;32m----> 1\u001b[1;33m \u001b[0msys\u001b[0m\u001b[1;33m.\u001b[0m\u001b[0mint_info\u001b[0m\u001b[1;33m.\u001b[0m\u001b[0mmax\u001b[0m\u001b[1;33m\u001b[0m\u001b[1;33m\u001b[0m\u001b[0m\n\u001b[0m",
      "\u001b[1;31mAttributeError\u001b[0m: 'sys.int_info' object has no attribute 'max'"
     ]
    }
   ],
   "source": [
    "sys.int_info.max"
   ]
  },
  {
   "cell_type": "markdown",
   "metadata": {},
   "source": [
    "## sizeof int,float,string"
   ]
  },
  {
   "cell_type": "code",
   "execution_count": 24,
   "metadata": {},
   "outputs": [
    {
     "data": {
      "text/plain": [
       "28"
      ]
     },
     "execution_count": 24,
     "metadata": {},
     "output_type": "execute_result"
    }
   ],
   "source": [
    "sys.getsizeof(1)"
   ]
  },
  {
   "cell_type": "code",
   "execution_count": 6,
   "metadata": {},
   "outputs": [
    {
     "data": {
      "text/plain": [
       "28"
      ]
     },
     "execution_count": 6,
     "metadata": {},
     "output_type": "execute_result"
    }
   ],
   "source": [
    "sys.getsizeof(100)"
   ]
  },
  {
   "cell_type": "code",
   "execution_count": 7,
   "metadata": {},
   "outputs": [
    {
     "data": {
      "text/plain": [
       "24"
      ]
     },
     "execution_count": 7,
     "metadata": {},
     "output_type": "execute_result"
    }
   ],
   "source": [
    "sys.getsizeof(0.001)"
   ]
  },
  {
   "cell_type": "code",
   "execution_count": 8,
   "metadata": {},
   "outputs": [
    {
     "data": {
      "text/plain": [
       "28"
      ]
     },
     "execution_count": 8,
     "metadata": {},
     "output_type": "execute_result"
    }
   ],
   "source": [
    "sys.getsizeof(-100)"
   ]
  },
  {
   "cell_type": "code",
   "execution_count": 10,
   "metadata": {},
   "outputs": [
    {
     "data": {
      "text/plain": [
       "50"
      ]
     },
     "execution_count": 10,
     "metadata": {},
     "output_type": "execute_result"
    }
   ],
   "source": [
    "sys.getsizeof('a')"
   ]
  },
  {
   "cell_type": "code",
   "execution_count": 11,
   "metadata": {},
   "outputs": [
    {
     "data": {
      "text/plain": [
       "51"
      ]
     },
     "execution_count": 11,
     "metadata": {},
     "output_type": "execute_result"
    }
   ],
   "source": [
    "sys.getsizeof('ab')"
   ]
  },
  {
   "cell_type": "code",
   "execution_count": 9,
   "metadata": {},
   "outputs": [
    {
     "data": {
      "text/plain": [
       "52"
      ]
     },
     "execution_count": 9,
     "metadata": {},
     "output_type": "execute_result"
    }
   ],
   "source": [
    "sys.getsizeof('abc')"
   ]
  },
  {
   "cell_type": "markdown",
   "metadata": {},
   "source": [
    "## 2-5"
   ]
  },
  {
   "cell_type": "code",
   "execution_count": 6,
   "metadata": {},
   "outputs": [
    {
     "name": "stdout",
     "output_type": "stream",
     "text": [
      "50\n"
     ]
    }
   ],
   "source": [
    "print(50)"
   ]
  },
  {
   "cell_type": "code",
   "execution_count": 7,
   "metadata": {},
   "outputs": [
    {
     "data": {
      "text/plain": [
       "'John'"
      ]
     },
     "execution_count": 7,
     "metadata": {},
     "output_type": "execute_result"
    }
   ],
   "source": [
    "name = 'John'\n",
    "name"
   ]
  },
  {
   "cell_type": "code",
   "execution_count": 8,
   "metadata": {},
   "outputs": [
    {
     "data": {
      "text/plain": [
       "'John'"
      ]
     },
     "execution_count": 8,
     "metadata": {},
     "output_type": "execute_result"
    }
   ],
   "source": [
    "name = \"John\"\n",
    "name"
   ]
  },
  {
   "cell_type": "code",
   "execution_count": 12,
   "metadata": {},
   "outputs": [
    {
     "data": {
      "text/plain": [
       "477.5"
      ]
     },
     "execution_count": 12,
     "metadata": {},
     "output_type": "execute_result"
    }
   ],
   "source": [
    "miles = 477.5\n",
    "miles"
   ]
  },
  {
   "cell_type": "code",
   "execution_count": 13,
   "metadata": {},
   "outputs": [
    {
     "name": "stdout",
     "output_type": "stream",
     "text": [
      "1 2.0 John\n"
     ]
    },
    {
     "data": {
      "text/plain": [
       "(1, 2.0, 'John')"
      ]
     },
     "execution_count": 13,
     "metadata": {},
     "output_type": "execute_result"
    }
   ],
   "source": [
    "a, b, c = 1, 2., \"John\"\n",
    "print(a, b, c)\n",
    "a, b, c  # tuple"
   ]
  },
  {
   "cell_type": "code",
   "execution_count": 14,
   "metadata": {},
   "outputs": [],
   "source": [
    "# 練習\n",
    "# print (......) # str, int float"
   ]
  },
  {
   "cell_type": "code",
   "execution_count": 15,
   "metadata": {},
   "outputs": [
    {
     "name": "stdout",
     "output_type": "stream",
     "text": [
      "7\n",
      "7\n",
      "46\n",
      "81\n",
      "4\n",
      "-5\n"
     ]
    }
   ],
   "source": [
    "print(+7); print(++7)\n",
    "print(12+34)\n",
    "print(9**2)\n",
    "print(9//2)  # 整數除法\n",
    "print(-9//2) # ??? what happen??  地板式整除"
   ]
  },
  {
   "cell_type": "code",
   "execution_count": null,
   "metadata": {},
   "outputs": [],
   "source": [
    "print('17*6\\t=', 17*6)\n",
    "print('17*6\\t=', 17*6, '\\t17%6 = ', 17%6)\n",
    "print()  # 下一行\n",
    "print('17*6\\t=', 17*6, '\\n')  # '\\n'\n",
    "print('17/6\\t=', 17*6, '\\t17%6 = ', 17%6)"
   ]
  },
  {
   "cell_type": "code",
   "execution_count": null,
   "metadata": {},
   "outputs": [],
   "source": [
    "a = 5; b = 3; a = a/b\n",
    "a"
   ]
  },
  {
   "cell_type": "code",
   "execution_count": 16,
   "metadata": {},
   "outputs": [
    {
     "name": "stdout",
     "output_type": "stream",
     "text": [
      "7\n"
     ]
    }
   ],
   "source": [
    "a = 5; b = 2\n",
    "a = a + b  # a += b  # 初學者不建議這種寫法\n",
    "print(a)"
   ]
  },
  {
   "cell_type": "code",
   "execution_count": 17,
   "metadata": {},
   "outputs": [
    {
     "name": "stdout",
     "output_type": "stream",
     "text": [
      "2\n",
      "5\n"
     ]
    }
   ],
   "source": [
    "a=5; b=2\n",
    "a,b = b,a\n",
    "print(a)    \n",
    "print(b)    "
   ]
  },
  {
   "cell_type": "markdown",
   "metadata": {},
   "source": [
    "# 2-9"
   ]
  },
  {
   "cell_type": "code",
   "execution_count": 18,
   "metadata": {},
   "outputs": [
    {
     "data": {
      "text/plain": [
       "2.0"
      ]
     },
     "execution_count": 18,
     "metadata": {},
     "output_type": "execute_result"
    }
   ],
   "source": [
    "12/6   # int / int = float, not in java"
   ]
  },
  {
   "cell_type": "code",
   "execution_count": 20,
   "metadata": {},
   "outputs": [
    {
     "data": {
      "text/plain": [
       "35"
      ]
     },
     "execution_count": 20,
     "metadata": {},
     "output_type": "execute_result"
    }
   ],
   "source": [
    "5*7"
   ]
  },
  {
   "cell_type": "code",
   "execution_count": 19,
   "metadata": {},
   "outputs": [
    {
     "data": {
      "text/plain": [
       "35.0"
      ]
     },
     "execution_count": 19,
     "metadata": {},
     "output_type": "execute_result"
    }
   ],
   "source": [
    "5.0*7 # try 5.0"
   ]
  },
  {
   "cell_type": "code",
   "execution_count": 21,
   "metadata": {},
   "outputs": [
    {
     "data": {
      "text/plain": [
       "2"
      ]
     },
     "execution_count": 21,
     "metadata": {},
     "output_type": "execute_result"
    }
   ],
   "source": [
    "17%5"
   ]
  },
  {
   "cell_type": "code",
   "execution_count": 22,
   "metadata": {},
   "outputs": [
    {
     "data": {
      "text/plain": [
       "2.0"
      ]
     },
     "execution_count": 22,
     "metadata": {},
     "output_type": "execute_result"
    }
   ],
   "source": [
    "17.0%5"
   ]
  },
  {
   "cell_type": "code",
   "execution_count": 23,
   "metadata": {},
   "outputs": [
    {
     "data": {
      "text/plain": [
       "2.1000000000000014"
      ]
     },
     "execution_count": 23,
     "metadata": {},
     "output_type": "execute_result"
    }
   ],
   "source": [
    "17.1%5"
   ]
  },
  {
   "cell_type": "code",
   "execution_count": 14,
   "metadata": {},
   "outputs": [
    {
     "data": {
      "text/plain": [
       "5.149999999999999"
      ]
     },
     "execution_count": 14,
     "metadata": {},
     "output_type": "execute_result"
    }
   ],
   "source": [
    "17.15%6  # try 17.0"
   ]
  },
  {
   "cell_type": "code",
   "execution_count": 15,
   "metadata": {},
   "outputs": [
    {
     "data": {
      "text/plain": [
       "-5.0"
      ]
     },
     "execution_count": 15,
     "metadata": {},
     "output_type": "execute_result"
    }
   ],
   "source": [
    "-9.0//2 # try -9/2,  floored"
   ]
  },
  {
   "cell_type": "code",
   "execution_count": 24,
   "metadata": {},
   "outputs": [
    {
     "data": {
      "text/plain": [
       "4.5"
      ]
     },
     "execution_count": 24,
     "metadata": {},
     "output_type": "execute_result"
    }
   ],
   "source": [
    "9/2"
   ]
  },
  {
   "cell_type": "markdown",
   "metadata": {},
   "source": [
    "# 2-11"
   ]
  },
  {
   "cell_type": "code",
   "execution_count": 16,
   "metadata": {},
   "outputs": [
    {
     "data": {
      "text/plain": [
       "12"
      ]
     },
     "execution_count": 16,
     "metadata": {},
     "output_type": "execute_result"
    }
   ],
   "source": [
    "a = 5\n",
    "a+=7  # a = a + 1\n",
    "a\n",
    "#try a-=7,  a*=7, a/=7"
   ]
  },
  {
   "cell_type": "code",
   "execution_count": 17,
   "metadata": {},
   "outputs": [
    {
     "data": {
      "text/plain": [
       "9"
      ]
     },
     "execution_count": 17,
     "metadata": {},
     "output_type": "execute_result"
    }
   ],
   "source": [
    "++9"
   ]
  },
  {
   "cell_type": "code",
   "execution_count": 18,
   "metadata": {},
   "outputs": [
    {
     "data": {
      "text/plain": [
       "-9"
      ]
     },
     "execution_count": 18,
     "metadata": {},
     "output_type": "execute_result"
    }
   ],
   "source": [
    "-+9"
   ]
  },
  {
   "cell_type": "code",
   "execution_count": 25,
   "metadata": {},
   "outputs": [
    {
     "data": {
      "text/plain": [
       "-9"
      ]
     },
     "execution_count": 25,
     "metadata": {},
     "output_type": "execute_result"
    }
   ],
   "source": [
    "+-9"
   ]
  },
  {
   "cell_type": "code",
   "execution_count": 19,
   "metadata": {},
   "outputs": [
    {
     "ename": "SyntaxError",
     "evalue": "invalid syntax (<ipython-input-19-16f83c48c9f8>, line 1)",
     "output_type": "error",
     "traceback": [
      "\u001b[1;36m  File \u001b[1;32m\"<ipython-input-19-16f83c48c9f8>\"\u001b[1;36m, line \u001b[1;32m1\u001b[0m\n\u001b[1;33m    9++\u001b[0m\n\u001b[1;37m       ^\u001b[0m\n\u001b[1;31mSyntaxError\u001b[0m\u001b[1;31m:\u001b[0m invalid syntax\n"
     ]
    }
   ],
   "source": [
    "9++"
   ]
  },
  {
   "cell_type": "code",
   "execution_count": 27,
   "metadata": {},
   "outputs": [
    {
     "name": "stdout",
     "output_type": "stream",
     "text": [
      "1.414214\n"
     ]
    }
   ],
   "source": [
    "# colab ch02\n",
    "print(f'{2**0.5:.6f}')  # 8.6f or .6f\n"
   ]
  },
  {
   "cell_type": "markdown",
   "metadata": {},
   "source": [
    "---"
   ]
  },
  {
   "cell_type": "markdown",
   "metadata": {},
   "source": [
    "# Module_03_Python數值資料型態"
   ]
  },
  {
   "cell_type": "markdown",
   "metadata": {},
   "source": [
    ">## Object(物件) 三要件 : \n",
    ">>### 1.  type (int, float, str...),\n",
    ">>### 2.  id (記憶體位置),\n",
    ">>### 3.  value (1, 2.0, 'john')"
   ]
  },
  {
   "cell_type": "markdown",
   "metadata": {},
   "source": [
    ">>![memoryIndex](.\\img\\memoryIndex01.png)\n",
    ">>![memoryIndex](.\\img\\memoryIndex02.jpg)"
   ]
  },
  {
   "cell_type": "code",
   "execution_count": 36,
   "metadata": {},
   "outputs": [
    {
     "name": "stdout",
     "output_type": "stream",
     "text": [
      "type(a)\t= <class 'int'>\n",
      "type(b)\t= <class 'int'>\n",
      "True \n",
      "\n",
      "id(a)\t: 2520323666928\n",
      "id(b)\t: 2520323666992\n",
      "False \n",
      "\n",
      "a\t= 300\n",
      "b\t= 300\n",
      "True \n",
      "\n"
     ]
    }
   ],
   "source": [
    "#c=100.00; \n",
    "a = 300; b = 300;\n",
    "# type\n",
    "print('type(a)\\t=', type(a))\n",
    "print('type(b)\\t=', type(b))\n",
    "print(type(a)==type(b),'\\n')\n",
    "\n",
    "# memory address\n",
    "print('id(a)\\t:', id(a))        # 記憶體位置 memory address\n",
    "print('id(b)\\t:', id(b))  # 記憶體位置 memory address\n",
    "print(id(a)==id(b),'\\n')\n",
    "\n",
    "# values\n",
    "print('a\\t=', a)\n",
    "print('b\\t=', b)\n",
    "print(a==b,'\\n')"
   ]
  },
  {
   "cell_type": "code",
   "execution_count": 29,
   "metadata": {},
   "outputs": [
    {
     "data": {
      "text/plain": [
       "2360943423056"
      ]
     },
     "execution_count": 29,
     "metadata": {},
     "output_type": "execute_result"
    }
   ],
   "source": [
    "type(0.01)  #float\n",
    "id(0.01)  #"
   ]
  },
  {
   "cell_type": "markdown",
   "metadata": {},
   "source": [
    "# 3-4 Python no Boolean.  It is 整數的子型態(subtpye of integers)\n",
    ">## True = 1, False = 0"
   ]
  },
  {
   "cell_type": "code",
   "execution_count": 37,
   "metadata": {},
   "outputs": [
    {
     "data": {
      "text/plain": [
       "2"
      ]
     },
     "execution_count": 37,
     "metadata": {},
     "output_type": "execute_result"
    }
   ],
   "source": [
    "1 + True"
   ]
  },
  {
   "cell_type": "code",
   "execution_count": 38,
   "metadata": {},
   "outputs": [
    {
     "data": {
      "text/plain": [
       "1"
      ]
     },
     "execution_count": 38,
     "metadata": {},
     "output_type": "execute_result"
    }
   ],
   "source": [
    "1 + False"
   ]
  },
  {
   "cell_type": "code",
   "execution_count": 39,
   "metadata": {},
   "outputs": [
    {
     "data": {
      "text/plain": [
       "2"
      ]
     },
     "execution_count": 39,
     "metadata": {},
     "output_type": "execute_result"
    }
   ],
   "source": [
    "True + True"
   ]
  },
  {
   "cell_type": "code",
   "execution_count": 30,
   "metadata": {},
   "outputs": [
    {
     "data": {
      "text/plain": [
       "5.0"
      ]
     },
     "execution_count": 30,
     "metadata": {},
     "output_type": "execute_result"
    }
   ],
   "source": [
    "True*5.0"
   ]
  },
  {
   "cell_type": "markdown",
   "metadata": {},
   "source": [
    "# 3-5"
   ]
  },
  {
   "cell_type": "code",
   "execution_count": 40,
   "metadata": {},
   "outputs": [
    {
     "name": "stdout",
     "output_type": "stream",
     "text": [
      "12\n",
      "12.6\n",
      "12.0\n",
      "(12+0j)\n",
      "(12+3j)\n"
     ]
    },
    {
     "data": {
      "text/plain": [
       "'12.6'"
      ]
     },
     "execution_count": 40,
     "metadata": {},
     "output_type": "execute_result"
    }
   ],
   "source": [
    "print(int(12.6))\n",
    "print(str(12.6))\n",
    "print(float(12))\n",
    "print(complex(12))\n",
    "print(complex(12,3))\n",
    "str(12.6)"
   ]
  },
  {
   "cell_type": "code",
   "execution_count": 50,
   "metadata": {},
   "outputs": [
    {
     "data": {
      "text/plain": [
       "str"
      ]
     },
     "execution_count": 50,
     "metadata": {},
     "output_type": "execute_result"
    }
   ],
   "source": [
    "type('abc')"
   ]
  },
  {
   "cell_type": "code",
   "execution_count": 31,
   "metadata": {},
   "outputs": [
    {
     "data": {
      "text/plain": [
       "bool"
      ]
     },
     "execution_count": 31,
     "metadata": {},
     "output_type": "execute_result"
    }
   ],
   "source": [
    "type(True)"
   ]
  },
  {
   "cell_type": "markdown",
   "metadata": {},
   "source": [
    "# 3-6"
   ]
  },
  {
   "cell_type": "code",
   "execution_count": 41,
   "metadata": {},
   "outputs": [
    {
     "data": {
      "text/plain": [
       "3"
      ]
     },
     "execution_count": 41,
     "metadata": {},
     "output_type": "execute_result"
    }
   ],
   "source": [
    "0b11 # binary"
   ]
  },
  {
   "cell_type": "code",
   "execution_count": 42,
   "metadata": {},
   "outputs": [
    {
     "data": {
      "text/plain": [
       "27"
      ]
     },
     "execution_count": 42,
     "metadata": {},
     "output_type": "execute_result"
    }
   ],
   "source": [
    "0o33 # octal"
   ]
  },
  {
   "cell_type": "code",
   "execution_count": 43,
   "metadata": {},
   "outputs": [
    {
     "data": {
      "text/plain": [
       "26"
      ]
     },
     "execution_count": 43,
     "metadata": {},
     "output_type": "execute_result"
    }
   ],
   "source": [
    "0x1a # hexadecimal"
   ]
  },
  {
   "cell_type": "markdown",
   "metadata": {},
   "source": [
    ">![binary](.\\img\\binary01.png)"
   ]
  },
  {
   "cell_type": "code",
   "execution_count": 32,
   "metadata": {},
   "outputs": [
    {
     "name": "stdout",
     "output_type": "stream",
     "text": [
      " type(a) = <class 'int'>\n",
      "\n",
      " type(a) = <class 'int'>\n",
      "\n",
      "float\t\t: 20.00\n",
      "binary\t\t: 10100\n",
      "octal\t\t: 24\n",
      "hex\t\t: 14\n",
      "\n"
     ]
    }
   ],
   "source": [
    "a = 20\n",
    "print(F' type(a) = {type(a)}\\n')\n",
    "\n",
    "print(f' type(a) = {type(a)}\\n')\n",
    "\n",
    "print(f'float\\t\\t: {a:3.2f}')\n",
    "print(f'binary\\t\\t: {a:b}')\n",
    "print(f'octal\\t\\t: {a:o}')\n",
    "print(f'hex\\t\\t: {a:x}\\n')"
   ]
  },
  {
   "cell_type": "code",
   "execution_count": 53,
   "metadata": {},
   "outputs": [
    {
     "name": "stdout",
     "output_type": "stream",
     "text": [
      "id(a)\t: 140718827181920\n",
      "id(b)\t: 140718827181920 \n",
      "\n",
      "id(b)\t: 140718827182336\n",
      "False\n"
     ]
    }
   ],
   "source": [
    "a = 7;  b = a\n",
    "\n",
    "print('id(a)\\t:', id(a))\n",
    "print('id(b)\\t:', id(b), '\\n')\n",
    "\n",
    "b = 20\n",
    "print('id(b)\\t:', id(b))\n",
    "print(id(a) == id(b))\n",
    "# practice "
   ]
  },
  {
   "cell_type": "code",
   "execution_count": 33,
   "metadata": {},
   "outputs": [
    {
     "ename": "TypeError",
     "evalue": "can only concatenate str (not \"int\") to str",
     "output_type": "error",
     "traceback": [
      "\u001b[1;31m---------------------------------------------------------------------------\u001b[0m",
      "\u001b[1;31mTypeError\u001b[0m                                 Traceback (most recent call last)",
      "\u001b[1;32m<ipython-input-33-269c29be6c1f>\u001b[0m in \u001b[0;36m<module>\u001b[1;34m\u001b[0m\n\u001b[1;32m----> 1\u001b[1;33m \u001b[0mstr\u001b[0m\u001b[1;33m(\u001b[0m\u001b[1;36m10\u001b[0m\u001b[1;33m)\u001b[0m\u001b[1;33m+\u001b[0m\u001b[1;36m10\u001b[0m  \u001b[1;31m# error str + int,  java 可以這麼寫\u001b[0m\u001b[1;33m\u001b[0m\u001b[1;33m\u001b[0m\u001b[0m\n\u001b[0m",
      "\u001b[1;31mTypeError\u001b[0m: can only concatenate str (not \"int\") to str"
     ]
    }
   ],
   "source": [
    "str(10)+10  # error str + int,  java 可以這麼寫"
   ]
  },
  {
   "cell_type": "markdown",
   "metadata": {},
   "source": [
    "---"
   ]
  },
  {
   "cell_type": "markdown",
   "metadata": {},
   "source": [
    "# Module_04_Python運算子"
   ]
  },
  {
   "cell_type": "markdown",
   "metadata": {},
   "source": [
    "# 4-3"
   ]
  },
  {
   "cell_type": "code",
   "execution_count": 34,
   "metadata": {},
   "outputs": [
    {
     "name": "stdout",
     "output_type": "stream",
     "text": [
      "x == 2\t: True\n",
      "x != 2\t: False\n",
      "x < 5\t: True\n",
      "x > 2\t: False\n",
      "x <= 2\t: True\n",
      "x >= 2\t: True\n"
     ]
    }
   ],
   "source": [
    "x = 2\n",
    "print('x == 2\\t:', x == 2)\n",
    "print('x != 2\\t:', x != 2)\n",
    "print('x < 5\\t:', x < 5)\n",
    "print('x > 2\\t:', x > 2)\n",
    "print('x <= 2\\t:', x <= 2)\n",
    "print('x >= 2\\t:', x >= 2)"
   ]
  },
  {
   "cell_type": "code",
   "execution_count": 35,
   "metadata": {},
   "outputs": [
    {
     "data": {
      "text/plain": [
       "2"
      ]
     },
     "execution_count": 35,
     "metadata": {},
     "output_type": "execute_result"
    }
   ],
   "source": [
    "a = 5; b = 7\n",
    "(a < b) * 2  # True * 2 = 1 * 2"
   ]
  },
  {
   "cell_type": "code",
   "execution_count": 36,
   "metadata": {},
   "outputs": [
    {
     "ename": "TypeError",
     "evalue": "'<' not supported between instances of 'int' and 'str'",
     "output_type": "error",
     "traceback": [
      "\u001b[1;31m---------------------------------------------------------------------------\u001b[0m",
      "\u001b[1;31mTypeError\u001b[0m                                 Traceback (most recent call last)",
      "\u001b[1;32m<ipython-input-36-396df7320eb7>\u001b[0m in \u001b[0;36m<module>\u001b[1;34m\u001b[0m\n\u001b[1;32m----> 1\u001b[1;33m \u001b[1;36m10\u001b[0m\u001b[1;33m<\u001b[0m\u001b[1;34m'10'\u001b[0m\u001b[1;33m\u001b[0m\u001b[1;33m\u001b[0m\u001b[0m\n\u001b[0m",
      "\u001b[1;31mTypeError\u001b[0m: '<' not supported between instances of 'int' and 'str'"
     ]
    }
   ],
   "source": [
    "10<'10'"
   ]
  },
  {
   "cell_type": "markdown",
   "metadata": {},
   "source": [
    "# 4-4"
   ]
  },
  {
   "cell_type": "code",
   "execution_count": 37,
   "metadata": {},
   "outputs": [
    {
     "name": "stdout",
     "output_type": "stream",
     "text": [
      "4 <= 6 > 7\t\t: False\n",
      "4 <= 6 and 6 > 7\t: False\n"
     ]
    },
    {
     "data": {
      "text/plain": [
       "False"
      ]
     },
     "execution_count": 37,
     "metadata": {},
     "output_type": "execute_result"
    }
   ],
   "source": [
    "print('4 <= 6 > 7\\t\\t:', 4 <= 6 > 7)\n",
    "print('4 <= 6 and 6 > 7\\t:', 4<= 6 and 6>7)  # 6 > 7 false\n",
    "5>6>3"
   ]
  },
  {
   "cell_type": "code",
   "execution_count": 38,
   "metadata": {},
   "outputs": [
    {
     "data": {
      "text/plain": [
       "2"
      ]
     },
     "execution_count": 38,
     "metadata": {},
     "output_type": "execute_result"
    }
   ],
   "source": [
    "4^6  #char XOR"
   ]
  },
  {
   "cell_type": "code",
   "execution_count": 57,
   "metadata": {},
   "outputs": [
    {
     "data": {
      "text/plain": [
       "100"
      ]
     },
     "execution_count": 57,
     "metadata": {},
     "output_type": "execute_result"
    }
   ],
   "source": [
    "4 ^ 6 ^ 4 ^ 100 ^ 6  "
   ]
  },
  {
   "cell_type": "markdown",
   "metadata": {},
   "source": [
    "# 4-5 真值表 (Truth Table)\n",
    "><img src=\".\\img\\truth-Table.png\"  style='height:300px; width:950px'>"
   ]
  },
  {
   "cell_type": "code",
   "execution_count": 39,
   "metadata": {},
   "outputs": [
    {
     "data": {
      "text/plain": [
       "False"
      ]
     },
     "execution_count": 39,
     "metadata": {},
     "output_type": "execute_result"
    }
   ],
   "source": [
    "not 3"
   ]
  },
  {
   "cell_type": "code",
   "execution_count": 40,
   "metadata": {},
   "outputs": [
    {
     "data": {
      "text/plain": [
       "True"
      ]
     },
     "execution_count": 40,
     "metadata": {},
     "output_type": "execute_result"
    }
   ],
   "source": [
    "not 0"
   ]
  },
  {
   "cell_type": "code",
   "execution_count": 41,
   "metadata": {},
   "outputs": [
    {
     "data": {
      "text/plain": [
       "0"
      ]
     },
     "execution_count": 41,
     "metadata": {},
     "output_type": "execute_result"
    }
   ],
   "source": [
    "22%2"
   ]
  },
  {
   "cell_type": "code",
   "execution_count": 42,
   "metadata": {},
   "outputs": [
    {
     "name": "stdout",
     "output_type": "stream",
     "text": [
      "26.8 ns ± 6.22 ns per loop (mean ± std. dev. of 7 runs, 10000000 loops each)\n"
     ]
    }
   ],
   "source": [
    "%timeit 22%2==0  # slow"
   ]
  },
  {
   "cell_type": "code",
   "execution_count": 44,
   "metadata": {},
   "outputs": [
    {
     "name": "stdout",
     "output_type": "stream",
     "text": [
      "6.09 ns ± 0.0564 ns per loop (mean ± std. dev. of 7 runs, 100000000 loops each)\n"
     ]
    }
   ],
   "source": [
    "%timeit not 22%2  # fast"
   ]
  },
  {
   "cell_type": "code",
   "execution_count": 58,
   "metadata": {},
   "outputs": [
    {
     "name": "stdout",
     "output_type": "stream",
     "text": [
      "not x\t\t: False\n",
      "x and y\t\t: False\n",
      "x or y\t\t: True\n",
      "x ^ y\t\t: True\n"
     ]
    }
   ],
   "source": [
    "x = True; y = False  # or x = 1; y = 0\n",
    "print('not x\\t\\t:', not x)\n",
    "print('x and y\\t\\t:', x and y)\n",
    "print('x or y\\t\\t:', x or y)\n",
    "print('x ^ y\\t\\t:', x ^ y)"
   ]
  },
  {
   "cell_type": "code",
   "execution_count": 43,
   "metadata": {},
   "outputs": [
    {
     "data": {
      "text/plain": [
       "True"
      ]
     },
     "execution_count": 43,
     "metadata": {},
     "output_type": "execute_result"
    }
   ],
   "source": [
    "bool(-1)"
   ]
  },
  {
   "cell_type": "markdown",
   "metadata": {},
   "source": [
    "# 4-7"
   ]
  },
  {
   "cell_type": "code",
   "execution_count": 74,
   "metadata": {},
   "outputs": [
    {
     "name": "stdout",
     "output_type": "stream",
     "text": [
      "x and y\t: 6\n",
      "0 and y\t: 0\n",
      "1 and y\t: 6 \n",
      "\n",
      "x or y\t: 5\n",
      "1 or y\t: 1\n",
      "0 or y\t: 6 \n",
      "\n",
      "not x\t: False\n",
      "not y\t: False\n",
      "not 0\t: True\n",
      "not 3\t: False\n"
     ]
    }
   ],
   "source": [
    "x = 5 ; y = 6\n",
    "print('x and y\\t:', x and y)        # 若 x 為 Ture 就看 y 的值\n",
    "print('0 and y\\t:', 0 and y)        # 若 x 為 False 就 為 0\n",
    "print('1 and y\\t:', 1 and y, '\\n')  # if x == true then y \n",
    "\n",
    "print('x or y\\t:', x or y)         # if x == trun then x else y\n",
    "print('1 or y\\t:', 1 or y)\n",
    "print('0 or y\\t:', 0 or y, '\\n')\n",
    "\n",
    "print('not x\\t:', not x)\n",
    "print('not y\\t:', not y)\n",
    "print('not 0\\t:', not 0)\n",
    "print('not 3\\t:', not 3)"
   ]
  },
  {
   "cell_type": "code",
   "execution_count": 75,
   "metadata": {},
   "outputs": [
    {
     "data": {
      "text/plain": [
       "6"
      ]
     },
     "execution_count": 75,
     "metadata": {},
     "output_type": "execute_result"
    }
   ],
   "source": [
    "6 or 0"
   ]
  },
  {
   "cell_type": "code",
   "execution_count": 77,
   "metadata": {},
   "outputs": [
    {
     "data": {
      "text/plain": [
       "6"
      ]
     },
     "execution_count": 77,
     "metadata": {},
     "output_type": "execute_result"
    }
   ],
   "source": [
    "0 or 6"
   ]
  },
  {
   "cell_type": "code",
   "execution_count": 78,
   "metadata": {},
   "outputs": [
    {
     "data": {
      "text/plain": [
       "6"
      ]
     },
     "execution_count": 78,
     "metadata": {},
     "output_type": "execute_result"
    }
   ],
   "source": [
    "6 or 1"
   ]
  },
  {
   "cell_type": "code",
   "execution_count": 79,
   "metadata": {},
   "outputs": [
    {
     "data": {
      "text/plain": [
       "1"
      ]
     },
     "execution_count": 79,
     "metadata": {},
     "output_type": "execute_result"
    }
   ],
   "source": [
    "1 or 6 "
   ]
  },
  {
   "cell_type": "code",
   "execution_count": 84,
   "metadata": {},
   "outputs": [
    {
     "data": {
      "text/plain": [
       "6"
      ]
     },
     "execution_count": 84,
     "metadata": {},
     "output_type": "execute_result"
    }
   ],
   "source": [
    "6 or 1 or 6 or 1"
   ]
  },
  {
   "cell_type": "markdown",
   "metadata": {},
   "source": [
    "# 4-8"
   ]
  },
  {
   "cell_type": "code",
   "execution_count": 45,
   "metadata": {},
   "outputs": [
    {
     "name": "stdout",
     "output_type": "stream",
     "text": [
      "a == b\t\t: False\n",
      "a is b\t\t: False\n",
      "a is not b\t: True \n",
      "\n",
      "a is c\t\t: False\n",
      "b is c\t\t: True\n"
     ]
    }
   ],
   "source": [
    "a = 7; b = 8; c = 8\n",
    "print('a == b\\t\\t:', a == b)\n",
    "print('a is b\\t\\t:', a is b)   # memory address\n",
    "print('a is not b\\t:', a is not b, '\\n')  \n",
    "\n",
    "print('a is c\\t\\t:', a is c)\n",
    "print('b is c\\t\\t:', b is c)  # id 相同, value 一定一樣 memory address"
   ]
  },
  {
   "cell_type": "code",
   "execution_count": 46,
   "metadata": {},
   "outputs": [
    {
     "name": "stdout",
     "output_type": "stream",
     "text": [
      "id(x)\t\t: 140717711847984 \n",
      "\n",
      "id(x)\t\t: 140717711848304\n",
      "x is a\t\t: False\n",
      "id(x) == id(a)\t: False \n",
      "\n",
      "a is y\t\t: True\n"
     ]
    }
   ],
   "source": [
    "x = 10\n",
    "print('id(x)\\t\\t:', id(x), '\\n')\n",
    "\n",
    "a = x; x = 20                # a = 10, x =20\n",
    "print('id(x)\\t\\t:', id(x))\n",
    "print('x is a\\t\\t:', x is a)\n",
    "print('id(x) == id(a)\\t:', id(x) == id(a), '\\n')\n",
    "\n",
    "y = 10                     # y =10\n",
    "print('a is y\\t\\t:', a is y)  # possible false"
   ]
  },
  {
   "cell_type": "markdown",
   "metadata": {},
   "source": [
    "# 4-9"
   ]
  },
  {
   "cell_type": "code",
   "execution_count": 14,
   "metadata": {},
   "outputs": [
    {
     "name": "stdout",
     "output_type": "stream",
     "text": [
      "True\n",
      "140717711847984\n",
      "140717711847984 \n",
      "\n",
      "x is y\t\t: True\n",
      "x is not y\t: False\n"
     ]
    },
    {
     "data": {
      "text/plain": [
       "True"
      ]
     },
     "execution_count": 14,
     "metadata": {},
     "output_type": "execute_result"
    }
   ],
   "source": [
    "x = 10;y = 10  # try x = 300,  y = 300  99% False,  low possibility True\n",
    "            ##python 在整數 -5 ~ 256 之間，相同記憶體空間\n",
    "\n",
    "print(x == y)  # == check value\n",
    "print(id(x))\n",
    "print(id(y), '\\n')\n",
    "\n",
    "print('x is y\\t\\t:',x is y)       # 'is' check memory address\n",
    "print('x is not y\\t:',x is not y)   # 'is' check memory address\n",
    "id(x) == id(y)"
   ]
  },
  {
   "cell_type": "code",
   "execution_count": 2,
   "metadata": {},
   "outputs": [
    {
     "data": {
      "text/plain": [
       "False"
      ]
     },
     "execution_count": 2,
     "metadata": {},
     "output_type": "execute_result"
    }
   ],
   "source": [
    "c=300; d=300\n",
    "c is d"
   ]
  },
  {
   "cell_type": "code",
   "execution_count": 4,
   "metadata": {},
   "outputs": [
    {
     "data": {
      "text/plain": [
       "False"
      ]
     },
     "execution_count": 4,
     "metadata": {},
     "output_type": "execute_result"
    }
   ],
   "source": [
    "c, d = 300, 300\n",
    "c is d"
   ]
  },
  {
   "cell_type": "code",
   "execution_count": 6,
   "metadata": {},
   "outputs": [
    {
     "data": {
      "text/plain": [
       "True"
      ]
     },
     "execution_count": 6,
     "metadata": {},
     "output_type": "execute_result"
    }
   ],
   "source": [
    "c = d = 300\n",
    "c is d"
   ]
  },
  {
   "cell_type": "markdown",
   "metadata": {},
   "source": [
    "# python 在整數 -5 ~ 256 之間，相同記憶體空間\n",
    "https://docs.python.org/3/c-api/long.html"
   ]
  },
  {
   "cell_type": "code",
   "execution_count": null,
   "metadata": {},
   "outputs": [],
   "source": [
    "x = -5; y = -5\n",
    "\n",
    "print(x == y)   # '==' check value\n",
    "print(id(x))\n",
    "print(id(y),'\\n')\n",
    "\n",
    "print(x is y)   # 'is' check memory address\n",
    "id(x) == id(y)"
   ]
  },
  {
   "cell_type": "markdown",
   "metadata": {},
   "source": [
    "# 4-13"
   ]
  },
  {
   "cell_type": "markdown",
   "metadata": {},
   "source": [
    "><img src=\".\\img\\binary.png\"  style='height:350px; width:750px'></img>\n",
    ">### 60|13 == ??\n",
    ">### 60^13 == ??"
   ]
  },
  {
   "cell_type": "code",
   "execution_count": 15,
   "metadata": {},
   "outputs": [
    {
     "name": "stdout",
     "output_type": "stream",
     "text": [
      "12\n",
      "13\n"
     ]
    }
   ],
   "source": [
    "print(60 & 13)\n",
    "print(60 and 13)"
   ]
  },
  {
   "cell_type": "code",
   "execution_count": null,
   "metadata": {},
   "outputs": [],
   "source": []
  },
  {
   "cell_type": "code",
   "execution_count": 17,
   "metadata": {},
   "outputs": [
    {
     "name": "stdout",
     "output_type": "stream",
     "text": [
      "binary of k\t= 00111100\n",
      "binary of k\t= 00001101\n",
      "k<<2\t\t: 11110000\t, 十進位 : 240\n",
      "k>>2\t\t: 1111\t\t, 十進位 : 15\n",
      "k*(2**2)\t: 240\n",
      "k/(2**2)\t: 15.0 \n",
      "\n"
     ]
    }
   ],
   "source": [
    "k= 60; \n",
    "\n",
    "print(f'binary of k\\t= {k:08b}')  # b 二進位\n",
    "print(f'binary of k\\t= {13:08b}')  # b 二進位\n",
    "\n",
    "print(f'k<<2\\t\\t: {k<<2:b}\\t, 十進位 : {k<<2}')  # 2 ** 2\n",
    "print(f'k>>2\\t\\t: {k>>2:b}\\t\\t, 十進位 : {k>>2}') # / 2 ** 2\n",
    "\n",
    "print(f'k*(2**2)\\t: {k*(2**2)}')\n",
    "print(f'k/(2**2)\\t: {k/(2**2)} \\n')"
   ]
  },
  {
   "cell_type": "code",
   "execution_count": 18,
   "metadata": {},
   "outputs": [
    {
     "name": "stdout",
     "output_type": "stream",
     "text": [
      "0b101 0o6 0x5\n",
      "x:b = 101\ty:b = 110\n",
      "x & y : 4\n"
     ]
    }
   ],
   "source": [
    "x = 5; y = 6\n",
    "print(bin(5), oct(y), hex(5))\n",
    "print(f'x:b = {x:b}\\ty:b = {y:b}')\n",
    "print('x & y :', x & y)"
   ]
  },
  {
   "cell_type": "markdown",
   "metadata": {},
   "source": [
    "# 4-16"
   ]
  },
  {
   "cell_type": "markdown",
   "metadata": {},
   "source": [
    "## 運算子優先順序 :\n",
    "https://www.programiz.com/python-programming/precedence-associativity\n",
    "\n",
    ">![OpPriority](.\\img\\OpPriority.png)"
   ]
  },
  {
   "cell_type": "code",
   "execution_count": 19,
   "metadata": {},
   "outputs": [
    {
     "name": "stdout",
     "output_type": "stream",
     "text": [
      "a = 0,\tb = 9\n",
      "a>10|b<15\t\t\t: False\n",
      "(a>10)|(b<15)\t\t\t: True \n",
      "\n"
     ]
    }
   ],
   "source": [
    "a, b = 0, 9\n",
    "print(f'a = {a},\\tb = {b}')\n",
    "print('a>10|b<15\\t\\t\\t:', a>10|b<15)                          # False    1. 10|b = 11, a>11 = False, 11<15= True \n",
    "# print('a>10 and 10|b and b<15\\t\\t:', a>10 and 10|b and b<15)  # False    0 and 11 and True\n",
    "print('(a>10)|(b<15)\\t\\t\\t:', (a>10)|(b<15) , '\\n')           # True     (0|1)"
   ]
  },
  {
   "cell_type": "code",
   "execution_count": null,
   "metadata": {},
   "outputs": [],
   "source": [
    "a, b = 0, 9\n",
    "# a is not b & a < b\n",
    "# [a is not (b & a)] < b\n",
    "\n",
    "print('(b & a)\\t\\t\\t:', b & a)  # 0\n",
    "print('[a is not (b & a)]\\t:', a is not b & a)  # \n",
    "print('[a is not (b & a)]< b\\t:', a is not b & a < b)  # 0\n",
    "a is not 0 < b # a is not False     &, is not -> <"
   ]
  },
  {
   "cell_type": "code",
   "execution_count": null,
   "metadata": {},
   "outputs": [],
   "source": [
    "print('10|b\\t\\t\\t\\t:', 10|b)                    # bitwise 1001 or 1010 等於 1011\n",
    "print('11==10|b\\t\\t\\t:', 11==10|b)              # True 先算 | 等於11, 再算 11 == 11, 11==(10|b)\n",
    "print('11==10 and 10|b\\t\\t\\t:', 11==10 and 10|b)# False  F and 11"
   ]
  },
  {
   "cell_type": "code",
   "execution_count": 86,
   "metadata": {},
   "outputs": [
    {
     "data": {
      "text/plain": [
       "False"
      ]
     },
     "execution_count": 86,
     "metadata": {},
     "output_type": "execute_result"
    }
   ],
   "source": [
    "# Xor\n",
    "a=1; b=1\n",
    "(a and not(b)) or (not(a) and b)"
   ]
  },
  {
   "cell_type": "markdown",
   "metadata": {},
   "source": [
    "---"
   ]
  },
  {
   "cell_type": "markdown",
   "metadata": {},
   "source": [
    "# Module_05_Python文字資料型態與成員運算子"
   ]
  },
  {
   "cell_type": "markdown",
   "metadata": {},
   "source": [
    "# 5-3 index"
   ]
  },
  {
   "cell_type": "markdown",
   "metadata": {},
   "source": [
    ">![StrIndex](.\\img\\strindex01.png)"
   ]
  },
  {
   "cell_type": "code",
   "execution_count": 87,
   "metadata": {},
   "outputs": [
    {
     "name": "stdout",
     "output_type": "stream",
     "text": [
      "var1[:6]\t: Hello \n",
      "var1[0]\t\t: H\n",
      "var1[1:5]\t: ello\n",
      "var1[-1]\t: d\n",
      "var1[3:-2]\t: lo Wor\n",
      "var1[3:-2:2]\t: l o\n",
      "var1[::2]\t: HloWrd \n",
      "\n",
      "Hello Hello Hello Hello Hello Hello Python\n"
     ]
    }
   ],
   "source": [
    "var1 = 'Hello World'\n",
    "\n",
    "print('var1[:6]\\t:', var1[:6])  # inc. space index[5]\n",
    "print('var1[0]\\t\\t:', var1[0])\n",
    "print('var1[1:5]\\t:', var1[1:5])\n",
    "print('var1[-1]\\t:', var1[-1])\n",
    "print('var1[3:-2]\\t:', var1[3:-2])\n",
    "print('var1[3:-2:2]\\t:', var1[3:-2:2])\n",
    "print('var1[::2]\\t:', var1[::2],'\\n')\n",
    "\n",
    "var2 = var1[:6]*6+ \"Python\"\n",
    "print(var2)"
   ]
  },
  {
   "cell_type": "code",
   "execution_count": 99,
   "metadata": {},
   "outputs": [
    {
     "data": {
      "text/plain": [
       "'edcba'"
      ]
     },
     "execution_count": 99,
     "metadata": {},
     "output_type": "execute_result"
    }
   ],
   "source": [
    "# [start:end(not include end):step]\n",
    "x = 'abcde'\n",
    "x[5::-1]"
   ]
  },
  {
   "cell_type": "code",
   "execution_count": 37,
   "metadata": {},
   "outputs": [
    {
     "name": "stdout",
     "output_type": "stream",
     "text": [
      "['some', 'words', 'in', 'a', 'string', 'with', 'spaces']\n",
      "some\n",
      "['spaces', 'with', 'string', 'a', 'in', 'words']\n",
      "emos\n"
     ]
    },
    {
     "data": {
      "text/plain": [
       "['', 'ome word', ' in a ', 'tring   with  ', 'pace', '']"
      ]
     },
     "execution_count": 37,
     "metadata": {},
     "output_type": "execute_result"
    }
   ],
   "source": [
    "s = 'some words in a string   with  spaces'\n",
    "sSplit = s.split()\n",
    "print(sSplit)\n",
    "print(sSplit[0])\n",
    "print(sSplit[-1:0:-1])\n",
    "print(sSplit[0][-1::-1])\n",
    "s.split('s')"
   ]
  },
  {
   "cell_type": "markdown",
   "metadata": {},
   "source": [
    "# str 不可改變 (immutable)"
   ]
  },
  {
   "cell_type": "code",
   "execution_count": 38,
   "metadata": {},
   "outputs": [
    {
     "ename": "NameError",
     "evalue": "name 'var1' is not defined",
     "output_type": "error",
     "traceback": [
      "\u001b[1;31m---------------------------------------------------------------------------\u001b[0m",
      "\u001b[1;31mNameError\u001b[0m                                 Traceback (most recent call last)",
      "\u001b[1;32m<ipython-input-38-4e276da75f6d>\u001b[0m in \u001b[0;36m<module>\u001b[1;34m\u001b[0m\n\u001b[1;32m----> 1\u001b[1;33m \u001b[0mvar1\u001b[0m\u001b[1;33m[\u001b[0m\u001b[1;36m4\u001b[0m\u001b[1;33m]\u001b[0m\u001b[1;33m=\u001b[0m\u001b[1;34m'W'\u001b[0m  \u001b[1;31m# error\u001b[0m\u001b[1;33m\u001b[0m\u001b[1;33m\u001b[0m\u001b[0m\n\u001b[0m",
      "\u001b[1;31mNameError\u001b[0m: name 'var1' is not defined"
     ]
    }
   ],
   "source": [
    "var1[4]='W'  # error"
   ]
  },
  {
   "cell_type": "code",
   "execution_count": 40,
   "metadata": {},
   "outputs": [
    {
     "name": "stdout",
     "output_type": "stream",
     "text": [
      "a\t= this is a string\n",
      "a[10]\t: s\n"
     ]
    },
    {
     "data": {
      "text/plain": [
       "'this is a longer string'"
      ]
     },
     "execution_count": 40,
     "metadata": {},
     "output_type": "execute_result"
    }
   ],
   "source": [
    "a = 'this is a string'\n",
    "print('a\\t=', a)\n",
    "print('a[10]\\t:', a[10])\n",
    "# a[10] = 'f'\n",
    "b = a.replace('string', 'longer string')\n",
    "b"
   ]
  },
  {
   "cell_type": "code",
   "execution_count": 41,
   "metadata": {},
   "outputs": [
    {
     "name": "stdout",
     "output_type": "stream",
     "text": [
      "This is a long string\t that contains several lines and\n",
      " some non-printable \\character\n"
     ]
    }
   ],
   "source": [
    "#\\n  \\t\n",
    "print('This is a long string\\t that contains several lines and\\n some non-printable \\\\character')"
   ]
  },
  {
   "cell_type": "code",
   "execution_count": 42,
   "metadata": {},
   "outputs": [
    {
     "name": "stdout",
     "output_type": "stream",
     "text": [
      "c:/test/app\n",
      "c:\\test\\app\n",
      "c:\test/app\n"
     ]
    }
   ],
   "source": [
    "print('c:/test/app')\n",
    "print('c:\\\\test\\\\app')\n",
    "print('c:\\test/app')"
   ]
  },
  {
   "cell_type": "code",
   "execution_count": 43,
   "metadata": {},
   "outputs": [
    {
     "ename": "SyntaxError",
     "evalue": "EOL while scanning string literal (<ipython-input-43-956fbd90bfd4>, line 1)",
     "output_type": "error",
     "traceback": [
      "\u001b[1;36m  File \u001b[1;32m\"<ipython-input-43-956fbd90bfd4>\"\u001b[1;36m, line \u001b[1;32m1\u001b[0m\n\u001b[1;33m    text_para = 'This is a long string that contains\u001b[0m\n\u001b[1;37m                                                    ^\u001b[0m\n\u001b[1;31mSyntaxError\u001b[0m\u001b[1;31m:\u001b[0m EOL while scanning string literal\n"
     ]
    }
   ],
   "source": [
    "text_para = 'This is a long string that contains\n",
    "several lines and some non-printable characters, \n",
    "such as TAB(\\t) or NEWLINE(\\n). For triple-quoted strings, \n",
    "always use double quote characters to be consistent \n",
    "with the docstring convention in PEP 257.'\n",
    "\n",
    "text_para   # error. no \\ or '''      '''"
   ]
  },
  {
   "cell_type": "code",
   "execution_count": 44,
   "metadata": {},
   "outputs": [
    {
     "name": "stdout",
     "output_type": "stream",
     "text": [
      "This is a long string that contains\n",
      "several lines and some non-printable characters, \n",
      "such as TAB(\t) or NEWLINE(\n",
      "). For triple-quoted strings, \n",
      "always use double quote characters to be consistent \n",
      "with the docstring convention in PEP 257. This is a long string. \n",
      " 261 \n",
      "\n",
      "text_para.count('a')  : 14\n",
      "text_para.count('is') : 5\n",
      "text_para.find('is')  : 2\n",
      "text_para.rfind('is') : 244\n"
     ]
    }
   ],
   "source": [
    "text_para = \"\"\"This is a long string that contains\n",
    "several lines and some non-printable characters, \n",
    "such as TAB(\\t) or NEWLINE(\\n). For triple-quoted strings, \n",
    "always use double quote characters to be consistent \n",
    "with the docstring convention in PEP 257. This is a long string.\"\"\"\n",
    "print(text_para, '\\n', len(text_para), '\\n')\n",
    "\n",
    "# string count\n",
    "print(\"text_para.count('a')  :\", text_para.count('a'))    # total count\n",
    "print(\"text_para.count('is') :\", text_para.count('is'))   # total count\n",
    "print(\"text_para.find('is')  :\", text_para.find('is'))    # first position\n",
    "print(\"text_para.rfind('is') :\", text_para.rfind('is'))   # last position\n",
    "# practice"
   ]
  },
  {
   "cell_type": "code",
   "execution_count": 45,
   "metadata": {},
   "outputs": [
    {
     "data": {
      "text/plain": [
       "Counter({'This': 2,\n",
       "         'is': 2,\n",
       "         'a': 2,\n",
       "         'long': 2,\n",
       "         'string': 1,\n",
       "         'that': 1,\n",
       "         'contains': 1,\n",
       "         'several': 1,\n",
       "         'lines': 1,\n",
       "         'and': 1,\n",
       "         'some': 1,\n",
       "         'non-printable': 1,\n",
       "         'characters,': 1,\n",
       "         'such': 1,\n",
       "         'as': 1,\n",
       "         'TAB(': 1,\n",
       "         ')': 1,\n",
       "         'or': 1,\n",
       "         'NEWLINE(': 1,\n",
       "         ').': 1,\n",
       "         'For': 1,\n",
       "         'triple-quoted': 1,\n",
       "         'strings,': 1,\n",
       "         'always': 1,\n",
       "         'use': 1,\n",
       "         'double': 1,\n",
       "         'quote': 1,\n",
       "         'characters': 1,\n",
       "         'to': 1,\n",
       "         'be': 1,\n",
       "         'consistent': 1,\n",
       "         'with': 1,\n",
       "         'the': 1,\n",
       "         'docstring': 1,\n",
       "         'convention': 1,\n",
       "         'in': 1,\n",
       "         'PEP': 1,\n",
       "         '257.': 1,\n",
       "         'string.': 1})"
      ]
     },
     "execution_count": 45,
     "metadata": {},
     "output_type": "execute_result"
    }
   ],
   "source": [
    "from collections import Counter\n",
    "Counter(text_para.split())"
   ]
  },
  {
   "cell_type": "markdown",
   "metadata": {},
   "source": [
    "## 5-9"
   ]
  },
  {
   "cell_type": "code",
   "execution_count": 46,
   "metadata": {},
   "outputs": [
    {
     "name": "stdout",
     "output_type": "stream",
     "text": [
      "True\n",
      "False\n"
     ]
    }
   ],
   "source": [
    "x = 3; y = [1, 2, 3, 4, 5]\n",
    "\n",
    "print(x in y)\n",
    "print(x not in y)"
   ]
  },
  {
   "cell_type": "code",
   "execution_count": 47,
   "metadata": {},
   "outputs": [
    {
     "name": "stdout",
     "output_type": "stream",
     "text": [
      "True\n"
     ]
    }
   ],
   "source": [
    "a = 'Hello World';   b = 'Hello '\n",
    "\n",
    "print(b in a)"
   ]
  },
  {
   "cell_type": "markdown",
   "metadata": {},
   "source": [
    "## 5-11"
   ]
  },
  {
   "cell_type": "code",
   "execution_count": 48,
   "metadata": {},
   "outputs": [
    {
     "name": "stdout",
     "output_type": "stream",
     "text": [
      "a = Hello\tb = Python\t   c =3\n",
      "a+b\t\t: HelloPython\n",
      "a*8\t\t: HelloHelloHelloHelloHelloHelloHelloHello\n",
      "'H' in a\t: True\n",
      "'m' not in a\t: True\n",
      "len(a)\t\t: 5\n"
     ]
    }
   ],
   "source": [
    "a = 'Hello';   b = 'Python';   c = 3\n",
    "\n",
    "print(f'a = {a}\\tb = {b}\\t   c ={c}')\n",
    "\n",
    "print('a+b\\t\\t:', a+b)\n",
    "print('a*8\\t\\t:', a*8)\n",
    "print(\"'H' in a\\t:\",'H' in a)\n",
    "print(\"'m' not in a\\t:\", 'm' not in a) \n",
    "print('len(a)\\t\\t:', len(a))"
   ]
  },
  {
   "cell_type": "code",
   "execution_count": 49,
   "metadata": {},
   "outputs": [
    {
     "name": "stdout",
     "output_type": "stream",
     "text": [
      "This is a long string\t that contains several lines and\n",
      " some non-printable \\character \n",
      "\n",
      "This is a long string\\t that contains several lines and\\n some non-printable \\\\character\n"
     ]
    }
   ],
   "source": [
    "#\\r or \\R\n",
    "print('This is a long string\\t that contains several lines and\\n some non-printable \\\\character', '\\n')\n",
    "print(r'This is a long string\\t that contains several lines and\\n some non-printable \\\\character')"
   ]
  },
  {
   "cell_type": "markdown",
   "metadata": {},
   "source": [
    "# 5-12"
   ]
  },
  {
   "cell_type": "code",
   "execution_count": 50,
   "metadata": {},
   "outputs": [
    {
     "name": "stdout",
     "output_type": "stream",
     "text": [
      "l\t\t\t= the Zen of Python\n",
      "upper\t\t\t: THE ZEN OF PYTHON\n",
      "lower\t\t\t: the zen of python\n",
      "capitalize\t\t: The zen of python\n",
      "title\t\t\t: The Zen Of Python\n",
      "swapcase\t\t: THE zEN OF pYTHON\n",
      "\n",
      "endswith(\"on\")\t\t: True\n",
      "startswith(\"the\")\t: True\n"
     ]
    }
   ],
   "source": [
    "l = 'the Zen of Python'\n",
    "print(f'l\\t\\t\\t= {l}')\n",
    "print(f'upper\\t\\t\\t: {l.upper()}')\n",
    "print(f'lower\\t\\t\\t: {l.lower()}')\n",
    "print(f'capitalize\\t\\t: {l.capitalize()}')\n",
    "print(f'title\\t\\t\\t: {l.title()}')\n",
    "print(f'swapcase\\t\\t: {l.swapcase()}\\n')  # upper -> lower,  lower -> upper\n",
    "\n",
    "print(f'endswith(\"on\")\\t\\t: {l.endswith(\"on\")}')        #True\n",
    "print(f'startswith(\"the\")\\t: {l.startswith(\"the\")}')    #True"
   ]
  },
  {
   "cell_type": "code",
   "execution_count": 51,
   "metadata": {},
   "outputs": [
    {
     "name": "stdout",
     "output_type": "stream",
     "text": [
      "a.isalpha()\t: False\n",
      "a.isspace()\t: False \n",
      "\n",
      "a.isupper()\t: False\n",
      "a.islower()\t: True \n",
      "\n",
      "a.isdigit()\t: False\n",
      "a isinstance()\t: True\n",
      "\n",
      " False \n",
      "\n"
     ]
    }
   ],
   "source": [
    "a = 'hello123'\n",
    "\n",
    "print('a.isalpha()\\t:', a.isalpha())\n",
    "print('a.isspace()\\t:', a.isspace(), '\\n')  # empty\n",
    "\n",
    "print('a.isupper()\\t:', a.isupper())\n",
    "print('a.islower()\\t:', a.islower(), '\\n')\n",
    "\n",
    "print('a.isdigit()\\t:', a.isdigit())\n",
    "print('a isinstance()\\t:', isinstance(a, (int, float, str)))\n",
    "\n",
    "print('\\n',isinstance(a,(int)),'\\n')\n",
    "\n",
    "# print('a.isalnum()\\t:', a.isalnum())"
   ]
  },
  {
   "cell_type": "markdown",
   "metadata": {},
   "source": [
    "## 5-14"
   ]
  },
  {
   "cell_type": "code",
   "execution_count": 52,
   "metadata": {},
   "outputs": [
    {
     "name": "stdout",
     "output_type": "stream",
     "text": [
      "  #### this is a book ####\n",
      "#### this is a book ####   \n",
      "#### this is a book #### \n",
      "\n",
      " this is a book \n",
      "this is a boo\n"
     ]
    }
   ],
   "source": [
    "word = '  #### this is a book ####   '\n",
    "print(word.rstrip())\n",
    "print(word.lstrip())\n",
    "print(word.strip(), '\\n')\n",
    "\n",
    "word = '#### this is a book ####'\n",
    "print(word.strip('#'))\n",
    "print(word.strip('#').strip(' ').strip('k'))"
   ]
  },
  {
   "cell_type": "code",
   "execution_count": 53,
   "metadata": {},
   "outputs": [
    {
     "data": {
      "text/plain": [
       "'mississ'"
      ]
     },
     "execution_count": 53,
     "metadata": {},
     "output_type": "execute_result"
    }
   ],
   "source": [
    "'mississippi'.rstrip('ipz')"
   ]
  },
  {
   "cell_type": "code",
   "execution_count": 56,
   "metadata": {},
   "outputs": [
    {
     "data": {
      "text/plain": [
       "'mississ'"
      ]
     },
     "execution_count": 56,
     "metadata": {},
     "output_type": "execute_result"
    }
   ],
   "source": [
    "'mississippi'.rstrip('pi')"
   ]
  },
  {
   "cell_type": "code",
   "execution_count": 59,
   "metadata": {},
   "outputs": [
    {
     "ename": "AttributeError",
     "evalue": "'str' object has no attribute 'removesuffix'",
     "output_type": "error",
     "traceback": [
      "\u001b[1;31m---------------------------------------------------------------------------\u001b[0m",
      "\u001b[1;31mAttributeError\u001b[0m                            Traceback (most recent call last)",
      "\u001b[1;32m<ipython-input-59-256605f7a9d7>\u001b[0m in \u001b[0;36m<module>\u001b[1;34m\u001b[0m\n\u001b[1;32m----> 1\u001b[1;33m \u001b[1;34m'mississippi'\u001b[0m\u001b[1;33m.\u001b[0m\u001b[0mremovesuffix\u001b[0m\u001b[1;33m(\u001b[0m\u001b[1;34m'pi'\u001b[0m\u001b[1;33m)\u001b[0m\u001b[1;33m\u001b[0m\u001b[1;33m\u001b[0m\u001b[0m\n\u001b[0m",
      "\u001b[1;31mAttributeError\u001b[0m: 'str' object has no attribute 'removesuffix'"
     ]
    }
   ],
   "source": [
    "'mississippi'.removesuffix('pi') #python 3.9"
   ]
  },
  {
   "cell_type": "code",
   "execution_count": 4,
   "metadata": {},
   "outputs": [
    {
     "name": "stdout",
     "output_type": "stream",
     "text": [
      "!\"#$%&'()*+,-./:;<=>?@[\\]^_`{|}~\n"
     ]
    },
    {
     "data": {
      "text/plain": [
       "' \\t\\n\\r\\x0b\\x0c'"
      ]
     },
     "execution_count": 4,
     "metadata": {},
     "output_type": "execute_result"
    }
   ],
   "source": [
    "import string\n",
    "print(string.punctuation)\n",
    "string.whitespace  #空白   #useful for strip"
   ]
  },
  {
   "cell_type": "markdown",
   "metadata": {},
   "source": [
    "# str -> list"
   ]
  },
  {
   "cell_type": "code",
   "execution_count": 111,
   "metadata": {},
   "outputs": [
    {
     "name": "stdout",
     "output_type": "stream",
     "text": [
      "['20190908.162050.txt']\n",
      "['20190908', '162050', 'txt']\n",
      "162050\n"
     ]
    }
   ],
   "source": [
    "data = '20190908.162050.txt'\n",
    "print(data.split())\n",
    "print(data.split('.')) # how about : or o....else\n",
    "print(data.split('.')[-2])"
   ]
  },
  {
   "cell_type": "markdown",
   "metadata": {},
   "source": [
    "# list -> str"
   ]
  },
  {
   "cell_type": "code",
   "execution_count": 64,
   "metadata": {},
   "outputs": [
    {
     "data": {
      "text/plain": [
       "'20190908.162050.xt'"
      ]
     },
     "execution_count": 64,
     "metadata": {},
     "output_type": "execute_result"
    }
   ],
   "source": [
    "data = ['20190908', '162050', 'xt']\n",
    "'.'.join(data)"
   ]
  },
  {
   "cell_type": "code",
   "execution_count": 65,
   "metadata": {},
   "outputs": [
    {
     "data": {
      "text/plain": [
       "'20190908*162050*xt'"
      ]
     },
     "execution_count": 65,
     "metadata": {},
     "output_type": "execute_result"
    }
   ],
   "source": [
    "'*'.join(data)"
   ]
  },
  {
   "cell_type": "markdown",
   "metadata": {},
   "source": [
    "---"
   ]
  },
  {
   "cell_type": "markdown",
   "metadata": {},
   "source": [
    "# Module_06_基本輸入與輸出"
   ]
  },
  {
   "cell_type": "markdown",
   "metadata": {},
   "source": [
    "# 6-3\n",
    ">## 基本輸入裝置 : 鍵盤 keyboard\n",
    ">## 基本輸出裝置 : 螢幕 monitor"
   ]
  },
  {
   "cell_type": "markdown",
   "metadata": {},
   "source": [
    "### 所有 OS 在啟動時, 都會開啟 3 個程式 :\n",
    ">### standard out (stdout) -- screen >> Java : system.out\n",
    ">### stand input  (stdin)-- keyboard   >> Java : system.in\n",
    ">### standard error(stderr) -- sreen    >>   java : system.err"
   ]
  },
  {
   "cell_type": "code",
   "execution_count": 66,
   "metadata": {},
   "outputs": [
    {
     "name": "stdout",
     "output_type": "stream",
     "text": [
      "11?22?33\n",
      "11?22?33\n",
      "11?22?33....11 22 33\n"
     ]
    }
   ],
   "source": [
    "print(11, 22, 33, sep='?')  # try end = '\\n', ''\n",
    "print(11, 22, 33, sep='?', end='\\n')  # try end = '\\n', ''\n",
    "print(11, 22, 33, sep='?', end='....')  # try end = '\\n', ''\n",
    "print(11, 22, 33)"
   ]
  },
  {
   "cell_type": "code",
   "execution_count": 67,
   "metadata": {},
   "outputs": [
    {
     "name": "stdout",
     "output_type": "stream",
     "text": [
      "x is\t: 3.0\n",
      "x is\t:3.0\n",
      "x is\t: 3.0\n",
      "\n"
     ]
    }
   ],
   "source": [
    "x = 3.000\n",
    "# python2\n",
    "# print'x is' + str(x)\n",
    "\n",
    "#python 3\n",
    "print('x is\\t:', x)\n",
    "print('x is\\t:'+str(x))\n",
    "print(f'x is\\t: {x}\\n')"
   ]
  },
  {
   "cell_type": "code",
   "execution_count": 68,
   "metadata": {},
   "outputs": [
    {
     "name": "stdout",
     "output_type": "stream",
     "text": [
      "Hello 3.0\n"
     ]
    },
    {
     "ename": "TypeError",
     "evalue": "can only concatenate str (not \"float\") to str",
     "output_type": "error",
     "traceback": [
      "\u001b[1;31m---------------------------------------------------------------------------\u001b[0m",
      "\u001b[1;31mTypeError\u001b[0m                                 Traceback (most recent call last)",
      "\u001b[1;32m<ipython-input-68-610ad4a79a44>\u001b[0m in \u001b[0;36m<module>\u001b[1;34m\u001b[0m\n\u001b[0;32m      1\u001b[0m \u001b[0mprint\u001b[0m\u001b[1;33m(\u001b[0m\u001b[1;34m'Hello '\u001b[0m\u001b[1;33m+\u001b[0m\u001b[0mstr\u001b[0m\u001b[1;33m(\u001b[0m\u001b[0mx\u001b[0m\u001b[1;33m)\u001b[0m\u001b[1;33m)\u001b[0m\u001b[1;33m\u001b[0m\u001b[1;33m\u001b[0m\u001b[0m\n\u001b[1;32m----> 2\u001b[1;33m \u001b[0mprint\u001b[0m\u001b[1;33m(\u001b[0m\u001b[1;34m'Hello'\u001b[0m\u001b[1;33m+\u001b[0m \u001b[0mx\u001b[0m\u001b[1;33m)\u001b[0m  \u001b[1;31m# error, but java OK\u001b[0m\u001b[1;33m\u001b[0m\u001b[1;33m\u001b[0m\u001b[0m\n\u001b[0m",
      "\u001b[1;31mTypeError\u001b[0m: can only concatenate str (not \"float\") to str"
     ]
    }
   ],
   "source": [
    "print('Hello '+str(x))\n",
    "print('Hello'+ x)  # error, but java OK"
   ]
  },
  {
   "cell_type": "code",
   "execution_count": 69,
   "metadata": {},
   "outputs": [
    {
     "name": "stdin",
     "output_type": "stream",
     "text": [
      "x =  10\n"
     ]
    },
    {
     "data": {
      "text/plain": [
       "'10'"
      ]
     },
     "execution_count": 69,
     "metadata": {},
     "output_type": "execute_result"
    }
   ],
   "source": [
    "x = input('x = ')  # x= is prompt\n",
    "x  # x is str"
   ]
  },
  {
   "cell_type": "code",
   "execution_count": 70,
   "metadata": {},
   "outputs": [
    {
     "name": "stdin",
     "output_type": "stream",
     "text": [
      "x =  100\n"
     ]
    },
    {
     "data": {
      "text/plain": [
       "100"
      ]
     },
     "execution_count": 70,
     "metadata": {},
     "output_type": "execute_result"
    }
   ],
   "source": [
    "x = int(input('x = '))\n",
    "x  # x is int"
   ]
  },
  {
   "cell_type": "markdown",
   "metadata": {},
   "source": [
    "# 6-4"
   ]
  },
  {
   "cell_type": "code",
   "execution_count": 71,
   "metadata": {},
   "outputs": [
    {
     "ename": "TypeError",
     "evalue": "eval() arg 1 must be a string, bytes or code object",
     "output_type": "error",
     "traceback": [
      "\u001b[1;31m---------------------------------------------------------------------------\u001b[0m",
      "\u001b[1;31mTypeError\u001b[0m                                 Traceback (most recent call last)",
      "\u001b[1;32m<ipython-input-71-3ad7786adc31>\u001b[0m in \u001b[0;36m<module>\u001b[1;34m\u001b[0m\n\u001b[1;32m----> 1\u001b[1;33m \u001b[0meval\u001b[0m\u001b[1;33m(\u001b[0m\u001b[1;36m5\u001b[0m\u001b[1;33m**\u001b[0m\u001b[1;36m30\u001b[0m\u001b[1;33m)\u001b[0m  \u001b[1;31m# error : shall be string\u001b[0m\u001b[1;33m\u001b[0m\u001b[1;33m\u001b[0m\u001b[0m\n\u001b[0m",
      "\u001b[1;31mTypeError\u001b[0m: eval() arg 1 must be a string, bytes or code object"
     ]
    }
   ],
   "source": [
    "eval(5**30)  # error : shall be string"
   ]
  },
  {
   "cell_type": "code",
   "execution_count": 72,
   "metadata": {},
   "outputs": [
    {
     "data": {
      "text/plain": [
       "931322574615478515625"
      ]
     },
     "execution_count": 72,
     "metadata": {},
     "output_type": "execute_result"
    }
   ],
   "source": [
    "eval('5**30') # correct"
   ]
  },
  {
   "cell_type": "code",
   "execution_count": 73,
   "metadata": {},
   "outputs": [
    {
     "name": "stdin",
     "output_type": "stream",
     "text": [
      "input number (ex. 5*6+8/6 or 9/4+8-4): 1+14\n"
     ]
    },
    {
     "data": {
      "text/plain": [
       "15"
      ]
     },
     "execution_count": 73,
     "metadata": {},
     "output_type": "execute_result"
    }
   ],
   "source": [
    "num= eval(input('input number (ex. 5*6+8/6 or 9/4+8-4):'))  # like 3*5\n",
    "num   # it is a number"
   ]
  },
  {
   "cell_type": "markdown",
   "metadata": {},
   "source": [
    "## 舊式% [optional] [寬度] (digit, float, string)"
   ]
  },
  {
   "cell_type": "code",
   "execution_count": 7,
   "metadata": {},
   "outputs": [
    {
     "name": "stdout",
     "output_type": "stream",
     "text": [
      "a=4321\n",
      "a= 4321\n",
      "a=      4321\n",
      "a= 4321 \n",
      "\n",
      "b=3.141593\n",
      "b=3.1416\n",
      "b=3.1\n",
      "b=000003.142 \n",
      "\n",
      "c=abcd\n",
      "c= abcd\n",
      "c=  abcd \n",
      "\n",
      "a=4321, b=3.141593, c=abcd\n"
     ]
    }
   ],
   "source": [
    "a = 4321; b = 3.1415926; c = 'abcd'\n",
    "\n",
    "print('a=%d' %a)    # without space\n",
    "print('a=% d' %a)   # with space\n",
    "print('a=%10d' %a)\n",
    "print('a=% 3d' %a,'\\n')\n",
    "\n",
    "print('b=%f' %b)\n",
    "print('b=%3.4f' %b)\n",
    "print('b=%2.1f' %b)\n",
    "print('b=%010.3f' %b,'\\n')   #寬度10d, 剩餘補0\n",
    "\n",
    "print('c=%s' %c)\n",
    "print('c= %s' %c)\n",
    "print('c=  %s' %c,'\\n')\n",
    "\n",
    "print(\"a=%d, b=%f, c=%s\" %(a,b,c))  #多個資料用tuple裝"
   ]
  },
  {
   "cell_type": "markdown",
   "metadata": {},
   "source": [
    "# 6-7\n",
    "## 最新式f-string(Python 3.6以上) :   f'{ 變數 : [填補字元] [靠左<, ^置中, 靠右>] [寬度][b/f/...] }'"
   ]
  },
  {
   "cell_type": "code",
   "execution_count": 76,
   "metadata": {},
   "outputs": [
    {
     "name": "stdout",
     "output_type": "stream",
     "text": [
      "III***** was established in **1979**.\n",
      "74\n",
      "000074.000\n"
     ]
    }
   ],
   "source": [
    "name = 'III'; est  = 1979\n",
    "\n",
    "print(f'{name:*<8} was established in {est:*^8}.') \n",
    "print(f'{2*37}')\n",
    "print(f'{2*37:0>10.3f}')"
   ]
  },
  {
   "cell_type": "code",
   "execution_count": 77,
   "metadata": {},
   "outputs": [
    {
     "name": "stdout",
     "output_type": "stream",
     "text": [
      "a=4321000000\n",
      "a=0000004321\n",
      "b=003.456000\n",
      "c=999999abcd\n"
     ]
    }
   ],
   "source": [
    "a=4321; b=3.456; c='abcd'\n",
    "\n",
    "print(f'a={a:0<10d}')  # a 整數\n",
    "print(f'a={a:0>10d}') \n",
    "\n",
    "print(f'b={b:0>10f}') \n",
    "print(f'c={c:9>10s}') "
   ]
  },
  {
   "cell_type": "code",
   "execution_count": 80,
   "metadata": {},
   "outputs": [
    {
     "name": "stdout",
     "output_type": "stream",
     "text": [
      "num\t: 12.56789678\n",
      "06.2f\t: 012.57\n",
      ".0f\t: 13\n",
      "3.2f\t: 12.57\n",
      "0>15.6f\t: 00000012.567897\n",
      "0^15f\t: 00012.567897000\n",
      "0<15.3f\t: 12.568000000000\n",
      "\n",
      "88:b\t: 1011000\n"
     ]
    }
   ],
   "source": [
    "# 字串格式化\n",
    "num = 12.56789678\n",
    "print(f'num\\t: {num}')\n",
    "print(f'06.2f\\t: {num:06.2f}')\n",
    "print(f'.0f\\t: {num:.0f}')\n",
    "print(f'3.2f\\t: {num:3.2f}')\n",
    "print(f'0>15.6f\\t: {num:0>15.6f}')  #靠右\n",
    "print(f'0^15f\\t: {num:0^15f}')  #置中\n",
    "print(f'0<15.3f\\t: {num:0<15.3f}\\n')  #靠左\n",
    "\n",
    "print(f'88:b\\t: {88:b}')"
   ]
  },
  {
   "cell_type": "code",
   "execution_count": 25,
   "metadata": {},
   "outputs": [
    {
     "name": "stdout",
     "output_type": "stream",
     "text": [
      "x=999, y=10.123, z='apple'\n"
     ]
    }
   ],
   "source": [
    "#快速debug寫法\n",
    "x = 999\n",
    "y = 10.123\n",
    "z = 'apple'\n",
    "print(f'{x=}, {y=}, {z=}')"
   ]
  },
  {
   "cell_type": "markdown",
   "metadata": {},
   "source": [
    "## {} 與 .format()    新式:python 2.6以上"
   ]
  },
  {
   "cell_type": "code",
   "execution_count": 20,
   "metadata": {},
   "outputs": [
    {
     "name": "stdout",
     "output_type": "stream",
     "text": [
      "the woodstock is in the lake\n",
      "the lake is in the woodstock\n",
      "the woodstock is in the lake\n",
      "\n",
      "The duck is in the bathhub\n"
     ]
    }
   ],
   "source": [
    "# .format()\n",
    "thing = 'woodstock'\n",
    "place = 'lake'\n",
    "print('the {} is in the {}'.format(thing,place))\n",
    "print('the {1} is in the {0}'.format(thing,place))  #也可用位置指定arg\n",
    "print('the {a} is in the {b}\\n'.format(a='woodstock',b='lake'))  #也可用具名argument\n",
    "\n",
    "d={'thing':'duck', 'place':'bathhub'}\n",
    "print('The {0[thing]} is in the {0[place]}'.format(d))  #可用dict"
   ]
  },
  {
   "cell_type": "markdown",
   "metadata": {},
   "source": [
    "## 6-9"
   ]
  },
  {
   "cell_type": "code",
   "execution_count": 81,
   "metadata": {},
   "outputs": [
    {
     "data": {
      "text/plain": [
       "'Hi III.You are a scientist. You like Python.'"
      ]
     },
     "execution_count": 81,
     "metadata": {},
     "output_type": "execute_result"
    }
   ],
   "source": [
    "# (), [], {} 可換行 \n",
    "\n",
    "name = 'III'; prof = 'scientist'; lang = 'Python'\n",
    "message = (\n",
    "    f'Hi {name}.'\n",
    "    f'You are a {prof}. ' \n",
    "    f'You like {lang}.' \n",
    ")\n",
    "message"
   ]
  },
  {
   "cell_type": "markdown",
   "metadata": {},
   "source": [
    "## 6-10"
   ]
  },
  {
   "cell_type": "code",
   "execution_count": 83,
   "metadata": {},
   "outputs": [
    {
     "name": "stdout",
     "output_type": "stream",
     "text": [
      "data\t\t= 12.345678 \n",
      "\n",
      "data 4.0f\t=   12\n",
      "data 04.0f\t= 0012\n",
      "data 5.2f\t= 12.35\n",
      "data 06.2f\t= 012.35\n",
      "data 3.2f\t= 12.35\n",
      "data .2f\t= 12.35\n"
     ]
    }
   ],
   "source": [
    "# pratice\n",
    "data=12.345678\n",
    "# default decimal 6 digits\n",
    "print('data\\t\\t=', data, '\\n')\n",
    "print(f'data 4.0f\\t= {data:4.0f}')\n",
    "print(f'data 04.0f\\t= {data:04.0f}')\n",
    "print(f'data 5.2f\\t= {data:5.2f}')\n",
    "print(f'data 06.2f\\t= {data:06.2f}')\n",
    "print(f'data 3.2f\\t= {data:3.2f}')\n",
    "print(f'data .2f\\t= {data:.2f}')"
   ]
  },
  {
   "cell_type": "markdown",
   "metadata": {},
   "source": [
    "# datetime : 1000-01-01 ~ 9999-12-31\n",
    "# timestamp : 1970-01-01 ~ 2038-01-19"
   ]
  },
  {
   "cell_type": "code",
   "execution_count": 84,
   "metadata": {},
   "outputs": [
    {
     "data": {
      "text/plain": [
       "datetime.datetime(2020, 10, 12, 21, 18, 41, 164308)"
      ]
     },
     "execution_count": 84,
     "metadata": {},
     "output_type": "execute_result"
    }
   ],
   "source": [
    "from datetime import datetime, date, time, timezone\n",
    "datetime.now()"
   ]
  },
  {
   "cell_type": "code",
   "execution_count": 85,
   "metadata": {},
   "outputs": [
    {
     "name": "stdout",
     "output_type": "stream",
     "text": [
      "0.0\n"
     ]
    }
   ],
   "source": [
    "dt = datetime(1970, 1, 1, 0, 0, 0, tzinfo=timezone.utc).timestamp()\n",
    "print(dt)"
   ]
  },
  {
   "cell_type": "code",
   "execution_count": 86,
   "metadata": {},
   "outputs": [
    {
     "name": "stdout",
     "output_type": "stream",
     "text": [
      "dt\t\t: 2011-10-29 20:30:21 , timestamp :  1319891421.0\n",
      "dt.day\t\t: 29\n",
      "dt.minute\t: 30 \n",
      "\n",
      "dt.date()\t: 2011-10-29\n",
      "dt.time()\t: 20:30:21 \n",
      "\n",
      "dt.strftime('%m/%d/%Y %H:%M:%S')\t: 10/29/2011 20:30:21\n",
      "datetime.strptime('20091031', '%Y%m%d')\t: 2009-10-31 10:10:10\n",
      "dt.replace(minute=0, second=0)\t\t: 2011-10-29 20:00:00 \n",
      "\n"
     ]
    }
   ],
   "source": [
    "from datetime import datetime, date, time\n",
    "\n",
    "dt = datetime(2011, 10, 29, 20, 30, 21)\n",
    "\n",
    "print('dt\\t\\t:', dt, ', timestamp : ', dt.timestamp())\n",
    "print('dt.day\\t\\t:', dt.day)\n",
    "print('dt.minute\\t:', dt.minute,'\\n')\n",
    "\n",
    "print('dt.date()\\t:', dt.date())\n",
    "print('dt.time()\\t:', dt.time(),'\\n')\n",
    "\n",
    "print(\"dt.strftime('%m/%d/%Y %H:%M:%S')\\t:\", dt.strftime('%m/%d/%Y %H:%M:%S'))\n",
    "print(\"datetime.strptime('20091031', '%Y%m%d')\\t:\", datetime.strptime('20091031101010', '%Y%m%d%H%M%S'))\n",
    "print('dt.replace(minute=0, second=0)\\t\\t:', dt.replace(minute=0, second=0),'\\n')"
   ]
  },
  {
   "cell_type": "code",
   "execution_count": 88,
   "metadata": {},
   "outputs": [
    {
     "name": "stdout",
     "output_type": "stream",
     "text": [
      "dt =  2011-10-29 20:30:21 , dt2 =  2011-11-15 22:30:00 \n",
      "\n",
      "delta\t\t\t= 17 days, 1:59:39\n",
      "delta.days\t\t= 17\n",
      "delta.seconds\t\t= 7179 \n",
      "\n",
      "type(delta)\t\t: <class 'datetime.timedelta'>\n",
      "dt  + delta = dt2\t: 2011-11-15 22:30:00\n"
     ]
    },
    {
     "data": {
      "text/plain": [
       "datetime.datetime"
      ]
     },
     "execution_count": 88,
     "metadata": {},
     "output_type": "execute_result"
    }
   ],
   "source": [
    "dt2 = datetime(2011, 11, 15, 22, 30)\n",
    "print('dt = ', dt,', dt2 = ', dt2, '\\n')\n",
    "\n",
    "delta = dt2 - dt\n",
    "print('delta\\t\\t\\t=', delta)\n",
    "print('delta.days\\t\\t=', delta.days)\n",
    "print('delta.seconds\\t\\t=', delta.seconds, '\\n')\n",
    "\n",
    "print('type(delta)\\t\\t:', type(delta))\n",
    "print('dt  + delta = dt2\\t:', dt + delta)\n",
    "type(dt2)"
   ]
  },
  {
   "cell_type": "markdown",
   "metadata": {},
   "source": [
    "# 6-11 \"f\" means faster"
   ]
  },
  {
   "cell_type": "code",
   "execution_count": 89,
   "metadata": {},
   "outputs": [
    {
     "name": "stdout",
     "output_type": "stream",
     "text": [
      "226 ns ± 3.24 ns per loop (mean ± std. dev. of 7 runs, 1000000 loops each)\n",
      "258 ns ± 7.25 ns per loop (mean ± std. dev. of 7 runs, 1000000 loops each)\n",
      "137 ns ± 1.04 ns per loop (mean ± std. dev. of 7 runs, 10000000 loops each)\n"
     ]
    }
   ],
   "source": [
    "name = 'III'; est = 1979\n",
    "\n",
    "%timeit '%s was establihed %d' %(name, est)      # fast\n",
    "%timeit '{} was establihed {}'.format(name, est) # slower\n",
    "%timeit f'{name} was established in {est}'       # faster"
   ]
  },
  {
   "cell_type": "markdown",
   "metadata": {},
   "source": [
    "# 6-13"
   ]
  },
  {
   "cell_type": "code",
   "execution_count": 90,
   "metadata": {},
   "outputs": [
    {
     "name": "stdout",
     "output_type": "stream",
     "text": [
      "The name is III, aged 1979 \n",
      "\n",
      "III      was established in       1979\n",
      "III was established in 1979\n",
      "      1979 was established in III      \n",
      "\n"
     ]
    }
   ],
   "source": [
    "name = 'III'; est  = 1979\n",
    "data ={'name':'III', 'est':1979}\n",
    "# %\n",
    "print('The name is %s, aged %d' % (name, est), '\\n')\n",
    "\n",
    "# format\n",
    "print('{:8s} was established in {:10d}'.format(name, est)) \n",
    "print('{name} was established in {est}'.format(**data))  # unpack\n",
    "print('{1:10d} was established in {0:8s}'.format(name, est), '\\n') \n"
   ]
  },
  {
   "cell_type": "markdown",
   "metadata": {},
   "source": [
    "# 6-15"
   ]
  },
  {
   "cell_type": "code",
   "execution_count": 91,
   "metadata": {},
   "outputs": [
    {
     "data": {
      "text/plain": [
       "'c, b, a'"
      ]
     },
     "execution_count": 91,
     "metadata": {},
     "output_type": "execute_result"
    }
   ],
   "source": [
    "'{2}, {1}, {0}'.format(*'abc') # unpack"
   ]
  },
  {
   "cell_type": "code",
   "execution_count": 92,
   "metadata": {},
   "outputs": [
    {
     "data": {
      "text/plain": [
       "'def, def, abc'"
      ]
     },
     "execution_count": 92,
     "metadata": {},
     "output_type": "execute_result"
    }
   ],
   "source": [
    "'{1}, {1}, {0}'.format('abc', 'def', 'ghi') # unpack"
   ]
  },
  {
   "cell_type": "markdown",
   "metadata": {},
   "source": [
    "# The END of Day 1\n",
    "---"
   ]
  },
  {
   "cell_type": "markdown",
   "metadata": {},
   "source": [
    "# 輕鬆欣賞一下"
   ]
  },
  {
   "cell_type": "code",
   "execution_count": 94,
   "metadata": {},
   "outputs": [
    {
     "data": {
      "image/png": "[encoded data removed]",
      "text/plain": [
       "<Figure size 432x288 with 1 Axes>"
      ]
     },
     "metadata": {
      "needs_background": "light"
     },
     "output_type": "display_data"
    }
   ],
   "source": [
    "# pip install matplotlib   # 回到 windows power shall系統管理員身分 中打 pip install matplotlib\n",
    "import matplotlib.pyplot as plt \n",
    "  \n",
    "# x-coordinates of left sides of bars  \n",
    "left = [1, 2, 3, 4, 5] \n",
    "  \n",
    "# heights of bars \n",
    "height = [10, 24, 36, 40, 5] \n",
    "  \n",
    "# labels for bars \n",
    "tick_label = ['one', 'two', 'three', 'four', 'five'] \n",
    "  \n",
    "# plotting a bar chart \n",
    "plt.bar(left, height, tick_label = tick_label, \n",
    "        width = 0.8, color = ['red', 'green']) \n",
    "  \n",
    "# naming the x-axis \n",
    "plt.xlabel('x - axis') \n",
    "# naming the y-axis \n",
    "plt.ylabel('y - axis') \n",
    "# plot title \n",
    "plt.title('My bar chart!') \n",
    "  \n",
    "# function to show the plot \n",
    "plt.show()"
   ]
  },
  {
   "cell_type": "code",
   "execution_count": 103,
   "metadata": {},
   "outputs": [
    {
     "data": {
      "image/png": "[encoded data removed]",
      "text/plain": [
       "<Figure size 432x288 with 1 Axes>"
      ]
     },
     "metadata": {},
     "output_type": "display_data"
    }
   ],
   "source": [
    "# defining labels \n",
    "activities = ['eat', 'sleep', 'work', 'play'] \n",
    "  \n",
    "# portion covered by each label \n",
    "slices = [3, 7, 8, 6] \n",
    "  \n",
    "# color for each label \n",
    "colors = ['#00ffff', 'y', 'g', 'b'] \n",
    "  \n",
    "# plotting the pie chart \n",
    "plt.pie(slices, labels = activities, colors=colors,  \n",
    "        startangle=90, shadow = True, explode = (0, 0, 0.1, 0), \n",
    "        radius = 1.2, autopct = '%1.2f%%') \n",
    "  \n",
    "# plotting legend \n",
    "plt.legend() \n",
    "  \n",
    "# showing the plot \n",
    "plt.show() "
   ]
  },
  {
   "cell_type": "code",
   "execution_count": 104,
   "metadata": {},
   "outputs": [
    {
     "data": {
      "image/png": "[encoded data removed]",
      "text/plain": [
       "<Figure size 1080x288 with 3 Axes>"
      ]
     },
     "metadata": {
      "needs_background": "light"
     },
     "output_type": "display_data"
    }
   ],
   "source": [
    "names = ['a', 'b', 'c', 'd']\n",
    "values = [1, 10, 100, 80]\n",
    "\n",
    "plt.figure(figsize=(15, 4))\n",
    "\n",
    "plt.subplot(131)\n",
    "plt.bar(names, values)\n",
    "plt.subplot(132)\n",
    "plt.scatter(names, values)\n",
    "plt.subplot(133)\n",
    "plt.plot(names, values)\n",
    "plt.suptitle('Categorical Plotting')\n",
    "plt.show()"
   ]
  },
  {
   "cell_type": "code",
   "execution_count": null,
   "metadata": {},
   "outputs": [],
   "source": []
  }
 ],
 "metadata": {
  "kernelspec": {
   "display_name": "Python 3",
   "language": "python",
   "name": "python3"
  },
  "language_info": {
   "codemirror_mode": {
    "name": "ipython",
    "version": 3
   },
   "file_extension": ".py",
   "mimetype": "text/x-python",
   "name": "python",
   "nbconvert_exporter": "python",
   "pygments_lexer": "ipython3",
   "version": "3.8.3"
  }
 },
 "nbformat": 4,
 "nbformat_minor": 4
}
