{
 "cells": [
  {
   "cell_type": "markdown",
   "metadata": {},
   "source": [
    "# Module_07_程式的流程控制-條件判斷 if...else"
   ]
  },
  {
   "cell_type": "markdown",
   "metadata": {},
   "source": [
    "# 7-3"
   ]
  },
  {
   "cell_type": "code",
   "execution_count": 3,
   "metadata": {},
   "outputs": [
    {
     "name": "stdout",
     "output_type": "stream",
     "text": [
      "Result: 10\n"
     ]
    },
    {
     "data": {
      "text/plain": [
       "int"
      ]
     },
     "execution_count": 3,
     "metadata": {},
     "output_type": "execute_result"
    }
   ],
   "source": [
    "x=3; y=7; print('Result:',x+y)\n",
    "type(x+y)"
   ]
  },
  {
   "cell_type": "markdown",
   "metadata": {},
   "source": [
    "# 7-4"
   ]
  },
  {
   "cell_type": "code",
   "execution_count": 4,
   "metadata": {},
   "outputs": [
    {
     "data": {
      "text/plain": [
       "50"
      ]
     },
     "execution_count": 4,
     "metadata": {},
     "output_type": "execute_result"
    }
   ],
   "source": [
    "total = 11+ \\\n",
    "12 + \\\n",
    "13 + \\\n",
    "14\n",
    "total"
   ]
  },
  {
   "cell_type": "code",
   "execution_count": 9,
   "metadata": {},
   "outputs": [
    {
     "data": {
      "text/plain": [
       "['Sun', 'Mon', 'Tue', 'Wed', 'Thu', 'Fri', 'Sat']"
      ]
     },
     "execution_count": 9,
     "metadata": {},
     "output_type": "execute_result"
    }
   ],
   "source": [
    "days =['Sun', 'Mon', 'Tue',\n",
    "       'Wed', 'Thu', 'Fri', 'Sat']\n",
    "days\n",
    "# try {}, ()"
   ]
  },
  {
   "cell_type": "code",
   "execution_count": 10,
   "metadata": {},
   "outputs": [
    {
     "data": {
      "text/plain": [
       "{'Fri', 'Mon', 'Sat', 'Sun', 'Thu', 'Tue', 'Wed'}"
      ]
     },
     "execution_count": 10,
     "metadata": {},
     "output_type": "execute_result"
    }
   ],
   "source": [
    "days ={'Sun', 'Mon', 'Tue','Wed', 'Thu', 'Fri', 'Sat'}\n",
    "days"
   ]
  },
  {
   "cell_type": "code",
   "execution_count": 11,
   "metadata": {},
   "outputs": [
    {
     "data": {
      "text/plain": [
       "('Sun', 'Mon', 'Tue', 'Wed', 'Thu', 'Fri', 'Sat')"
      ]
     },
     "execution_count": 11,
     "metadata": {},
     "output_type": "execute_result"
    }
   ],
   "source": [
    "days =('Sun', 'Mon', 'Tue','Wed', 'Thu', 'Fri', 'Sat')\n",
    "days"
   ]
  },
  {
   "cell_type": "markdown",
   "metadata": {},
   "source": [
    "# 7-5 comments"
   ]
  },
  {
   "cell_type": "code",
   "execution_count": 12,
   "metadata": {},
   "outputs": [],
   "source": [
    "# #真正的備註\n",
    "# this is python\n",
    "# hello python\n",
    "# no any evaluate"
   ]
  },
  {
   "cell_type": "code",
   "execution_count": 13,
   "metadata": {},
   "outputs": [
    {
     "data": {
      "text/plain": [
       "'\\nthis is python\\nhello python\\n'"
      ]
     },
     "execution_count": 13,
     "metadata": {},
     "output_type": "execute_result"
    }
   ],
   "source": [
    "# document String\n",
    "'''\n",
    "this is python\n",
    "hello python\n",
    "'''\n",
    "# still evaluate.  It is not a comment.   slow down your program"
   ]
  },
  {
   "cell_type": "markdown",
   "metadata": {},
   "source": [
    "# 7-7"
   ]
  },
  {
   "cell_type": "code",
   "execution_count": 14,
   "metadata": {},
   "outputs": [
    {
     "name": "stdout",
     "output_type": "stream",
     "text": [
      "True\n"
     ]
    }
   ],
   "source": [
    "if True:\n",
    "    print('True')\n",
    "else:\n",
    "    print('False')"
   ]
  },
  {
   "cell_type": "code",
   "execution_count": 15,
   "metadata": {},
   "outputs": [
    {
     "name": "stdout",
     "output_type": "stream",
     "text": [
      "x != 3\n"
     ]
    }
   ],
   "source": [
    "x = 4\n",
    "if x == 3:\n",
    "    print ('x = 3')\n",
    "else :\n",
    "    print ('x != 3')"
   ]
  },
  {
   "cell_type": "code",
   "execution_count": 17,
   "metadata": {},
   "outputs": [
    {
     "ename": "IndentationError",
     "evalue": "unindent does not match any outer indentation level (<tokenize>, line 7)",
     "output_type": "error",
     "traceback": [
      "\u001b[1;36m  File \u001b[1;32m\"<tokenize>\"\u001b[1;36m, line \u001b[1;32m7\u001b[0m\n\u001b[1;33m    print('False')\u001b[0m\n\u001b[1;37m    ^\u001b[0m\n\u001b[1;31mIndentationError\u001b[0m\u001b[1;31m:\u001b[0m unindent does not match any outer indentation level\n"
     ]
    }
   ],
   "source": [
    "# 以下區塊會產生錯誤\n",
    "if True:\n",
    "    print('Answer')\n",
    "    print('True')\n",
    "else:\n",
    "    print('Answer')\n",
    "   print('False')"
   ]
  },
  {
   "cell_type": "code",
   "execution_count": 18,
   "metadata": {},
   "outputs": [
    {
     "name": "stdout",
     "output_type": "stream",
     "text": [
      "Answer\n",
      "True\n",
      "False\n"
     ]
    }
   ],
   "source": [
    "if True:\n",
    "    print('Answer')\n",
    "    print('True')\n",
    "else:\n",
    "    print('Answer')\n",
    "print('False')"
   ]
  },
  {
   "cell_type": "markdown",
   "metadata": {},
   "source": [
    "# 7-9"
   ]
  },
  {
   "cell_type": "code",
   "execution_count": 19,
   "metadata": {},
   "outputs": [
    {
     "name": "stdin",
     "output_type": "stream",
     "text": [
      "Input score:  90\n"
     ]
    },
    {
     "name": "stdout",
     "output_type": "stream",
     "text": [
      "Pass!\n"
     ]
    }
   ],
   "source": [
    "# %run mod07/ifstmt2.py\n",
    "# if-else stmt\n",
    "s = int(input('Input score: '))\n",
    "\n",
    "if s >= 60:\n",
    "    print(\"Pass!\")\n",
    "else:\n",
    "    print(\"Not pass!\")"
   ]
  },
  {
   "cell_type": "code",
   "execution_count": 24,
   "metadata": {},
   "outputs": [
    {
     "name": "stdout",
     "output_type": "stream",
     "text": [
      "a is 1\n",
      "a is a number\n"
     ]
    }
   ],
   "source": [
    "a = 1\n",
    "if a==1:\n",
    "    print('a is 1')\n",
    "print('a is a number')  # 這個 print在 if 之外"
   ]
  },
  {
   "cell_type": "markdown",
   "metadata": {},
   "source": [
    "# 7-10"
   ]
  },
  {
   "cell_type": "code",
   "execution_count": 22,
   "metadata": {
    "scrolled": true
   },
   "outputs": [
    {
     "name": "stdout",
     "output_type": "stream",
     "text": [
      "lst\t\t\t=  []\n",
      "False == bool(lst))\t: True\n",
      "False == bool(None)\t: True\n",
      "False == 0\t\t: True\n"
     ]
    }
   ],
   "source": [
    "lst = [11, 22]\n",
    "lst.clear()\n",
    "print('lst\\t\\t\\t= ', lst)  # empty list\n",
    "print('False == bool(lst))\\t:', False == bool(lst))\n",
    "print('False == bool(None)\\t:', False == bool(None))\n",
    "print('False == 0\\t\\t:', False == 0)"
   ]
  },
  {
   "cell_type": "code",
   "execution_count": 23,
   "metadata": {
    "scrolled": true
   },
   "outputs": [
    {
     "name": "stdout",
     "output_type": "stream",
     "text": [
      "False == 0.0\t\t: True\n",
      "False == bool(())\t: True\n",
      "False == bool({})\t: True\n"
     ]
    }
   ],
   "source": [
    "print('False == 0.0\\t\\t:', False == 0.0)\n",
    "print('False == bool(())\\t:', False == bool(()))  # empty tuple\n",
    "print('False == bool({})\\t:', False == bool({}))  # empty dictionary"
   ]
  },
  {
   "cell_type": "code",
   "execution_count": 25,
   "metadata": {},
   "outputs": [
    {
     "name": "stdout",
     "output_type": "stream",
     "text": [
      "None, Flase\n"
     ]
    }
   ],
   "source": [
    "a = ()  # same if a :\n",
    "\n",
    "if ():  # try [], (), {}, None, False, ''\n",
    "    print ('True')\n",
    "else :\n",
    "    print('None, Flase')"
   ]
  },
  {
   "cell_type": "markdown",
   "metadata": {},
   "source": [
    "# 7-11"
   ]
  },
  {
   "cell_type": "code",
   "execution_count": 26,
   "metadata": {},
   "outputs": [
    {
     "name": "stdout",
     "output_type": "stream",
     "text": [
      "True expr 1 :  100\n",
      "var1 Finished!\n",
      "var2 Finished!\n"
     ]
    }
   ],
   "source": [
    "var1 = 100 \n",
    "if var1: \n",
    "    print('True expr 1 : ', var1) \n",
    "print('var1 Finished!')\n",
    "# -------------------------------    \n",
    "var2 = 0 \n",
    "if var2: \n",
    "    print('True expr 2 : ', var2) \n",
    "    \n",
    "print('var2 Finished!')"
   ]
  },
  {
   "cell_type": "markdown",
   "metadata": {},
   "source": [
    "# 7-12 if...else ..."
   ]
  },
  {
   "cell_type": "code",
   "execution_count": 27,
   "metadata": {},
   "outputs": [
    {
     "name": "stdout",
     "output_type": "stream",
     "text": [
      "Discount 200.0\n"
     ]
    }
   ],
   "source": [
    "amt = 2000\n",
    "if amt < 1000:\n",
    "    discount = amt * 0.05\n",
    "    print('Discount', discount)\n",
    "else:\n",
    "    discount = amt * 0.10\n",
    "    print('Discount', discount)"
   ]
  },
  {
   "cell_type": "markdown",
   "metadata": {},
   "source": [
    "# 7-14 if ... elif...else"
   ]
  },
  {
   "cell_type": "code",
   "execution_count": 28,
   "metadata": {},
   "outputs": [
    {
     "name": "stdin",
     "output_type": "stream",
     "text": [
      "Enter amount:  6000\n"
     ]
    },
    {
     "name": "stdout",
     "output_type": "stream",
     "text": [
      "Discount: 900.0\n",
      "Net price: 5100.0\n"
     ]
    }
   ],
   "source": [
    "amt = int(input('Enter amount: '))\n",
    "\n",
    "if amt < 1000:\n",
    "    discount = amt * 0.05\n",
    "    print('Discount:', discount)\n",
    "elif amt < 5000:\n",
    "    discount = amt * 0.10\n",
    "    print('Discount:', discount)\n",
    "elif amt < 10000:\n",
    "    discount = amt * 0.15\n",
    "    print('Discount:', discount)\n",
    "else:\n",
    "    discount = amt * 0.20\n",
    "    print('Discount:', discount)\n",
    "\n",
    "print('Net price:', amt - discount)"
   ]
  },
  {
   "cell_type": "markdown",
   "metadata": {},
   "source": [
    "# 7-16 nested if...else..."
   ]
  },
  {
   "cell_type": "code",
   "execution_count": null,
   "metadata": {},
   "outputs": [],
   "source": [
    "num = int(input('enter number'))\n",
    "if num%2 == 0:        # 整除 2\n",
    "    if num%3 == 0:    # 整除 3\n",
    "        print('Divisible by 3 and 2')\n",
    "    else:             # 不整除 3\n",
    "        print('Divisible by 2, not divisible by 3')\n",
    "else:                 # 不整除 2\n",
    "    if num%3 == 0:\n",
    "        print('Divisible by 3, not divisible by 2')\n",
    "    else:\n",
    "        print('Not Divisible by 2, not divisible by 3')"
   ]
  },
  {
   "cell_type": "markdown",
   "metadata": {},
   "source": [
    "# 7-17 Single Statement Suites"
   ]
  },
  {
   "cell_type": "code",
   "execution_count": 29,
   "metadata": {},
   "outputs": [
    {
     "name": "stdout",
     "output_type": "stream",
     "text": [
      "Finished!\n"
     ]
    }
   ],
   "source": [
    "var = 30\n",
    "# Only one statement\n",
    "if var==50: print('Value is 50')\n",
    "if var==40: print('Value is 40')\n",
    "print('Finished!')"
   ]
  },
  {
   "cell_type": "code",
   "execution_count": 30,
   "metadata": {},
   "outputs": [
    {
     "name": "stdout",
     "output_type": "stream",
     "text": [
      "Apple\n"
     ]
    }
   ],
   "source": [
    "a=9\n",
    "if a%2:     # 9%2 = 1, True\n",
    "    print('Apple') \n",
    "else: \n",
    "    print('False')\n",
    "\n",
    "# practice print.....if   else pr...."
   ]
  },
  {
   "cell_type": "markdown",
   "metadata": {},
   "source": [
    "# 7-19 三元運算子(ternary operator)"
   ]
  },
  {
   "cell_type": "code",
   "execution_count": 31,
   "metadata": {},
   "outputs": [
    {
     "data": {
      "text/plain": [
       "7"
      ]
     },
     "execution_count": 31,
     "metadata": {},
     "output_type": "execute_result"
    }
   ],
   "source": [
    "x = 8\n",
    "if x == 8:\n",
    "    y = 7\n",
    "else:\n",
    "    y = 9\n",
    "y"
   ]
  },
  {
   "cell_type": "code",
   "execution_count": 32,
   "metadata": {},
   "outputs": [
    {
     "data": {
      "text/plain": [
       "7"
      ]
     },
     "execution_count": 32,
     "metadata": {},
     "output_type": "execute_result"
    }
   ],
   "source": [
    "x = 8\n",
    "y = 7 if x == 8 else 9\n",
    "y"
   ]
  },
  {
   "cell_type": "code",
   "execution_count": 33,
   "metadata": {},
   "outputs": [
    {
     "data": {
      "text/plain": [
       "'Python'"
      ]
     },
     "execution_count": 33,
     "metadata": {},
     "output_type": "execute_result"
    }
   ],
   "source": [
    "7 if 0 else 'Python'  # x if C else y"
   ]
  },
  {
   "cell_type": "code",
   "execution_count": 34,
   "metadata": {},
   "outputs": [
    {
     "data": {
      "text/plain": [
       "'Hello'"
      ]
     },
     "execution_count": 34,
     "metadata": {},
     "output_type": "execute_result"
    }
   ],
   "source": [
    "a = 2\n",
    "#if a%3==0: Result = True\n",
    "#else: Result = False\n",
    "Result = 3 if a%3==0 else \"Hello\"\n",
    "Result"
   ]
  },
  {
   "cell_type": "code",
   "execution_count": 35,
   "metadata": {},
   "outputs": [
    {
     "name": "stdout",
     "output_type": "stream",
     "text": [
      "52.1 ns ± 3.81 ns per loop (mean ± std. dev. of 7 runs, 10000000 loops each)\n"
     ]
    }
   ],
   "source": [
    "%%timeit\n",
    "x = 5\n",
    "if x%2 == 0:\n",
    "    y = 1\n",
    "else:\n",
    "    y = 50"
   ]
  },
  {
   "cell_type": "code",
   "execution_count": 36,
   "metadata": {},
   "outputs": [
    {
     "name": "stdout",
     "output_type": "stream",
     "text": [
      "52.7 ns ± 10.7 ns per loop (mean ± std. dev. of 7 runs, 10000000 loops each)\n"
     ]
    }
   ],
   "source": [
    "%%timeit\n",
    "x = 5\n",
    "if not x%2:\n",
    "    y = 1\n",
    "else:\n",
    "    y = 50"
   ]
  },
  {
   "cell_type": "markdown",
   "metadata": {},
   "source": [
    "---"
   ]
  },
  {
   "cell_type": "markdown",
   "metadata": {},
   "source": [
    "# Module_08_程式的流程控制-迴圈 while ,  for... range"
   ]
  },
  {
   "cell_type": "markdown",
   "metadata": {},
   "source": [
    "## 8-4"
   ]
  },
  {
   "cell_type": "code",
   "execution_count": 37,
   "metadata": {},
   "outputs": [
    {
     "name": "stdout",
     "output_type": "stream",
     "text": [
      "count is: 0\n",
      "count is: 1\n",
      "count is: 2\n",
      "count is: 3\n",
      "count is: 4\n",
      "count is: 5\n",
      "count is: 6\n",
      "count is: 7\n",
      "count is: 8\n",
      "Finished!\n"
     ]
    }
   ],
   "source": [
    "import time\n",
    "\n",
    "count = 0\n",
    "while count < 9:\n",
    "    time.sleep(.4)\n",
    "    print('count is:', count)\n",
    "    count += 1\n",
    "print('Finished!')"
   ]
  },
  {
   "cell_type": "code",
   "execution_count": 40,
   "metadata": {},
   "outputs": [
    {
     "name": "stdin",
     "output_type": "stream",
     "text": [
      "Input factorial: 5\n"
     ]
    },
    {
     "name": "stdout",
     "output_type": "stream",
     "text": [
      "5! = 120\n",
      "5! = 120\n",
      "\n"
     ]
    }
   ],
   "source": [
    "# %run mod08/whilestmt1.py\n",
    "# while stmt\n",
    "\n",
    "m = int(input('Input factorial:')) # 階乘\n",
    "r = n = 1\n",
    "\n",
    "while n <= m:\n",
    "    r *= n  # r = r * n\n",
    "    n += 1\n",
    "print(str(m) + '! =', r) \n",
    "print(f'{m}! = {r}\\n')  # f-string"
   ]
  },
  {
   "cell_type": "code",
   "execution_count": 41,
   "metadata": {},
   "outputs": [
    {
     "name": "stdout",
     "output_type": "stream",
     "text": [
      "5! = 120\n"
     ]
    }
   ],
   "source": [
    "# for loop\n",
    "r = n = 1\n",
    "for n in range(1, m+1):  # iteration #  迭代 : 重複的意思\n",
    "    r*=n\n",
    "print(str(m) + '! =', r)"
   ]
  },
  {
   "cell_type": "code",
   "execution_count": 42,
   "metadata": {},
   "outputs": [
    {
     "name": "stdout",
     "output_type": "stream",
     "text": [
      "1, 2, 3, 4, 5, \n",
      "1, 2, 3, 4, 5, "
     ]
    }
   ],
   "source": [
    "# %run mod08/whilestmt2.py\n",
    "# while with break stmt\n",
    "i = 1\n",
    "while True:\n",
    "    print(i, end=', ')\n",
    "    i += 1\n",
    "    if i > 5:\n",
    "        break            # stopper\n",
    "print()\n",
    "# -------------------------\n",
    "i = 1\n",
    "while i<=5 :            # stopper\n",
    "    print(i, end=', ')\n",
    "    i += 1"
   ]
  },
  {
   "cell_type": "code",
   "execution_count": null,
   "metadata": {},
   "outputs": [],
   "source": [
    "# 比如說提款機\n",
    "\n",
    "while True  :         # This constructs an infinite loop\n",
    "    cash = int(input(\"輸入提款金額  :\"))\n",
    "    if 0<cash <=30000:\n",
    "        break\n",
    "    else:         # 在這裡可加可不加\n",
    "        print('cont....')\n",
    "        continue  # 在這裡可加可不加\n",
    "    \n",
    "print (\"輸入密碼\")"
   ]
  },
  {
   "cell_type": "code",
   "execution_count": null,
   "metadata": {},
   "outputs": [],
   "source": [
    "while True:\n",
    "    user = input('你猜猜，我是 python / java / C++ ?? ')\n",
    "    if user == 'python':\n",
    "        break\n",
    "    print(user, '錯')\n",
    "print('好棒棒，答對了！')"
   ]
  },
  {
   "cell_type": "code",
   "execution_count": 43,
   "metadata": {},
   "outputs": [
    {
     "name": "stdout",
     "output_type": "stream",
     "text": [
      "if i < 5 1\n",
      "if i < 5 2\n",
      "if i < 5 3\n",
      "if i < 5 4\n",
      "i = 5\n",
      "i = 6\n",
      "i = 7\n",
      "i = 8\n",
      "i = 9\n"
     ]
    }
   ],
   "source": [
    "for i in range (1,10):\n",
    "    if  i < 5 :\n",
    "        print('if i < 5', i)\n",
    "        continue\n",
    "        print('after continue')  # 不執行\n",
    "    print('i =', i)"
   ]
  },
  {
   "cell_type": "markdown",
   "metadata": {},
   "source": [
    ">><img src=\".\\img\\break.jpg\"  style='height:300px; width:550px'>\n",
    ">><img src=\".\\img\\continue.jpg\"  style='height:300px; width:650px'>"
   ]
  },
  {
   "cell_type": "code",
   "execution_count": 59,
   "metadata": {},
   "outputs": [
    {
     "name": "stdout",
     "output_type": "stream",
     "text": [
      "After 84.00 month, you get million!!!\n"
     ]
    }
   ],
   "source": [
    "# 年利率5%，則每個月的利率為5%/12=0.4167%\n",
    "# 1萬元放在銀行，本金加利率總額為 10000*(1+0.05/12)=10041.67元\n",
    "total=0\n",
    "i=0\n",
    "# while loop ...\n",
    "while (total<1000000):\n",
    "    total *= (1+0.05/12)\n",
    "    total += 10000\n",
    "    i += 1\n",
    "print('After '+str('%.2f' %i)+' month, you get million!!!')"
   ]
  },
  {
   "cell_type": "code",
   "execution_count": 60,
   "metadata": {},
   "outputs": [
    {
     "name": "stdout",
     "output_type": "stream",
     "text": [
      "1\n",
      "2\n",
      "3\n",
      "4\n",
      "5\n"
     ]
    }
   ],
   "source": [
    "import time\n",
    "for var in [1, 2, 3, 4, 5]:\n",
    "    time.sleep(.3)\n",
    "    print(var)"
   ]
  },
  {
   "cell_type": "markdown",
   "metadata": {},
   "source": [
    "# 8-7"
   ]
  },
  {
   "cell_type": "code",
   "execution_count": null,
   "metadata": {},
   "outputs": [],
   "source": [
    "import time\n",
    "for i in range(1,10):\n",
    "    for j in range(1,10):\n",
    "        time.sleep(0.1)\n",
    "        x = i * j\n",
    "        print(x, end=' ')\n",
    "    print()"
   ]
  },
  {
   "cell_type": "code",
   "execution_count": null,
   "metadata": {},
   "outputs": [],
   "source": [
    "import time\n",
    "for i in range(1,10):\n",
    "    for j in range(1,10):\n",
    "        time.sleep(.1)\n",
    "        print(f'{i:1d}*{j:1d} = {i*j:2d}', end='   ')\n",
    "    print()"
   ]
  },
  {
   "cell_type": "markdown",
   "metadata": {},
   "source": [
    "# 8-8 range(start, stop[,step])"
   ]
  },
  {
   "cell_type": "code",
   "execution_count": 61,
   "metadata": {},
   "outputs": [
    {
     "name": "stdout",
     "output_type": "stream",
     "text": [
      "range(1,6)\t\t: range(1, 6)\n",
      "list(range(1,8))\t: [1, 2, 3, 4, 5, 6, 7]\n",
      "list(range(1,8,2))\t: [1, 3, 5, 7]\n"
     ]
    }
   ],
   "source": [
    "# lazy evaluation\n",
    "range(1,6)  # get ready, not execute\n",
    "print('range(1,6)\\t\\t:', range(1,6))\n",
    "print('list(range(1,8))\\t:', list(range(1,8)))\n",
    "print('list(range(1,8,2))\\t:', list(range(1,8,2)))"
   ]
  },
  {
   "cell_type": "markdown",
   "metadata": {},
   "source": [
    "https://zh.wikipedia.org/zh-tw/%E6%83%B0%E6%80%A7%E6%B1%82%E5%80%BC"
   ]
  },
  {
   "cell_type": "code",
   "execution_count": 62,
   "metadata": {},
   "outputs": [
    {
     "ename": "TypeError",
     "evalue": "'float' object cannot be interpreted as an integer",
     "output_type": "error",
     "traceback": [
      "\u001b[1;31m---------------------------------------------------------------------------\u001b[0m",
      "\u001b[1;31mTypeError\u001b[0m                                 Traceback (most recent call last)",
      "\u001b[1;32m<ipython-input-62-9c5ff2190303>\u001b[0m in \u001b[0;36m<module>\u001b[1;34m\u001b[0m\n\u001b[0;32m      1\u001b[0m \u001b[1;32mimport\u001b[0m \u001b[0mtime\u001b[0m\u001b[1;33m\u001b[0m\u001b[1;33m\u001b[0m\u001b[0m\n\u001b[1;32m----> 2\u001b[1;33m \u001b[1;32mfor\u001b[0m \u001b[0mi\u001b[0m \u001b[1;32min\u001b[0m \u001b[0mrange\u001b[0m\u001b[1;33m(\u001b[0m\u001b[1;36m1\u001b[0m\u001b[1;33m,\u001b[0m \u001b[1;36m2.5\u001b[0m\u001b[1;33m,\u001b[0m \u001b[1;36m0.1\u001b[0m\u001b[1;33m)\u001b[0m\u001b[1;33m:\u001b[0m  \u001b[1;31m# not for floating, numpy 可以\u001b[0m\u001b[1;33m\u001b[0m\u001b[1;33m\u001b[0m\u001b[0m\n\u001b[0m\u001b[0;32m      3\u001b[0m     \u001b[0mtime\u001b[0m\u001b[1;33m.\u001b[0m\u001b[0msleep\u001b[0m\u001b[1;33m(\u001b[0m\u001b[1;36m.5\u001b[0m\u001b[1;33m)\u001b[0m\u001b[1;33m\u001b[0m\u001b[1;33m\u001b[0m\u001b[0m\n\u001b[0;32m      4\u001b[0m     \u001b[0mprint\u001b[0m\u001b[1;33m(\u001b[0m\u001b[0mi\u001b[0m\u001b[1;33m)\u001b[0m\u001b[1;33m\u001b[0m\u001b[1;33m\u001b[0m\u001b[0m\n",
      "\u001b[1;31mTypeError\u001b[0m: 'float' object cannot be interpreted as an integer"
     ]
    }
   ],
   "source": [
    "import time\n",
    "for i in range(1, 2.5, 0.1):  # not for floating, numpy 可以\n",
    "    time.sleep(.5)\n",
    "    print(i)"
   ]
  },
  {
   "cell_type": "code",
   "execution_count": 63,
   "metadata": {},
   "outputs": [
    {
     "data": {
      "text/plain": [
       "[1, 2, 3, 4, 5]"
      ]
     },
     "execution_count": 63,
     "metadata": {},
     "output_type": "execute_result"
    }
   ],
   "source": [
    "list(range(1,6))  # execute"
   ]
  },
  {
   "cell_type": "code",
   "execution_count": 64,
   "metadata": {},
   "outputs": [
    {
     "data": {
      "text/plain": [
       "(1, 2, 3, 4, 5)"
      ]
     },
     "execution_count": 64,
     "metadata": {},
     "output_type": "execute_result"
    }
   ],
   "source": [
    "tuple(range(1,6))  # execute"
   ]
  },
  {
   "cell_type": "code",
   "execution_count": 65,
   "metadata": {},
   "outputs": [
    {
     "data": {
      "text/plain": [
       "{1, 2, 3, 4, 5}"
      ]
     },
     "execution_count": 65,
     "metadata": {},
     "output_type": "execute_result"
    }
   ],
   "source": [
    "set(range(1,6)) # execute"
   ]
  },
  {
   "cell_type": "code",
   "execution_count": 68,
   "metadata": {},
   "outputs": [
    {
     "data": {
      "text/plain": [
       "[1, 3, 5, 7, 9, 11, 13]"
      ]
     },
     "execution_count": 68,
     "metadata": {},
     "output_type": "execute_result"
    }
   ],
   "source": [
    "list(range(1, 15,2))  # how about range (a,d)"
   ]
  },
  {
   "cell_type": "markdown",
   "metadata": {},
   "source": [
    "## p8-10, 11, 12, 14\n",
    "## for ... else"
   ]
  },
  {
   "cell_type": "code",
   "execution_count": 69,
   "metadata": {},
   "outputs": [
    {
     "name": "stdout",
     "output_type": "stream",
     "text": [
      "有 偶數存在 22\n",
      "Finish\n"
     ]
    }
   ],
   "source": [
    "numbers = [31, 57, 75, 85, 27, 93, 63, 19, 22, 44]\n",
    "for num in numbers:\n",
    "    if num%2 == 0:\n",
    "        print('有 偶數存在', num)\n",
    "        break\n",
    "else:\n",
    "    print('無 偶數存在')\n",
    "print('Finish')"
   ]
  },
  {
   "cell_type": "code",
   "execution_count": null,
   "metadata": {},
   "outputs": [],
   "source": [
    "x = ['even' if num%2==0 else 'odd' for num in numbers]\n",
    "print(x)\n",
    "\n",
    "y = ['even' for num in numbers if num%2==0]\n",
    "print(y)"
   ]
  },
  {
   "cell_type": "code",
   "execution_count": null,
   "metadata": {},
   "outputs": [],
   "source": [
    "import time\n",
    "total = 0 \n",
    "\n",
    "for i in range(1,6):\n",
    "    total+=i\n",
    "    print(f'i = {i}, total = {total}')\n",
    "    time.sleep(.4)\n",
    "total"
   ]
  },
  {
   "cell_type": "markdown",
   "metadata": {},
   "source": [
    "---"
   ]
  },
  {
   "cell_type": "markdown",
   "metadata": {},
   "source": [
    "# Module_09_串列(List)\n",
    "# index\n",
    "><img src=\".\\img\\list.png\"  style='height:250px; width:650px'>"
   ]
  },
  {
   "cell_type": "code",
   "execution_count": 71,
   "metadata": {},
   "outputs": [
    {
     "name": "stdout",
     "output_type": "stream",
     "text": [
      "['a', 'b', 'c', 'd']\n",
      "['a', 'b', 'c', 'd']\n"
     ]
    },
    {
     "data": {
      "text/plain": [
       "['a', 'b', 'c', 'd']"
      ]
     },
     "execution_count": 71,
     "metadata": {},
     "output_type": "execute_result"
    }
   ],
   "source": [
    "list1=['a', 'b', 'c', 'd']\n",
    "print(list1)\n",
    "\n",
    "list2='a b c d'.split()\n",
    "print(list2)\n",
    "\n",
    "list('abcd')"
   ]
  },
  {
   "cell_type": "markdown",
   "metadata": {},
   "source": [
    "# 9-4"
   ]
  },
  {
   "cell_type": "code",
   "execution_count": 72,
   "metadata": {},
   "outputs": [
    {
     "name": "stdout",
     "output_type": "stream",
     "text": [
      "names\t\t\t\t= ['fraser', 'grace', 'john', 'jess', 'jack', 23.5, 2019]\n",
      "names[0]\t\t\t: fraser\n",
      "names[0][0]\t\t\t: f \n",
      "\n",
      "names[5]\t\t\t: 23.5\n",
      "names[-1]\t\t\t: 2019 \n",
      "\n",
      "names[1:5]\t\t\t: ['grace', 'john', 'jess', 'jack']\n",
      "names[1:6:2]\t\t\t: ['grace', 'jess', 23.5] \n",
      "\n",
      "names[2]='Kevin'\t\t: ['fraser', 'grace', 'Kevin', 'jess', 'jack', 23.5, 2019]\n",
      "names[-1:]=[2000, 23.5]\t\t: ['fraser', 'grace', 'Kevin', 'jess', 'jack', 23.5, 2000, 23.5]\n"
     ]
    }
   ],
   "source": [
    "names=['fraser', 'grace', 'john', 'jess', 'jack', 23.5, 2019]\n",
    "print('names\\t\\t\\t\\t=', names)\n",
    "print('names[0]\\t\\t\\t:', names[0])\n",
    "print('names[0][0]\\t\\t\\t:', names[0][0], '\\n')\n",
    "\n",
    "print('names[5]\\t\\t\\t:', names[5])\n",
    "print('names[-1]\\t\\t\\t:', names[-1],'\\n')\n",
    "\n",
    "print('names[1:5]\\t\\t\\t:', names[1:5])\n",
    "print('names[1:6:2]\\t\\t\\t:', (names[1:6:2]),'\\n')\n",
    "\n",
    "names[2]='Kevin'\n",
    "print(\"names[2]='Kevin'\\t\\t:\", names)             # 修改\n",
    "\n",
    "names[-1:]=[2000, 23.5]                           # 一次改兩筆資料\n",
    "print('names[-1:]=[2000, 23.5]\\t\\t:', names)"
   ]
  },
  {
   "cell_type": "code",
   "execution_count": 73,
   "metadata": {},
   "outputs": [
    {
     "data": {
      "text/plain": [
       "['He', 'saw', 'six', 'small', 'foxes']"
      ]
     },
     "execution_count": 73,
     "metadata": {},
     "output_type": "execute_result"
    }
   ],
   "source": [
    "b = ['saw', 'small', 'He', 'foxes', 'six']\n",
    "b.sort(key=len)  # length\n",
    "b"
   ]
  },
  {
   "cell_type": "markdown",
   "metadata": {},
   "source": [
    "# 9-6"
   ]
  },
  {
   "cell_type": "code",
   "execution_count": 74,
   "metadata": {},
   "outputs": [
    {
     "name": "stdout",
     "output_type": "stream",
     "text": [
      "4\n",
      "33\n",
      "[11, 12, 13]\n",
      "13\n"
     ]
    }
   ],
   "source": [
    "lst = [33, 'python', [11, 12, 13], 77]\n",
    "print(len(lst))\n",
    "print(lst[0])\n",
    "print(lst[2])\n",
    "print(lst[2][2])"
   ]
  },
  {
   "cell_type": "markdown",
   "metadata": {},
   "source": [
    "# list in list\n",
    ">![listNested](.\\img\\listNested.png)"
   ]
  },
  {
   "cell_type": "code",
   "execution_count": 78,
   "metadata": {},
   "outputs": [
    {
     "data": {
      "text/plain": [
       "True"
      ]
     },
     "execution_count": 78,
     "metadata": {},
     "output_type": "execute_result"
    }
   ],
   "source": [
    "lst1 = [10, 20, 30]\n",
    "lst2 = [10, 20, 30]\n",
    "lst3 = [10, 30, 20]\n",
    "lst1 == lst2"
   ]
  },
  {
   "cell_type": "code",
   "execution_count": 79,
   "metadata": {},
   "outputs": [
    {
     "data": {
      "text/plain": [
       "False"
      ]
     },
     "execution_count": 79,
     "metadata": {},
     "output_type": "execute_result"
    }
   ],
   "source": [
    "lst1 == lst3  #順序需一致"
   ]
  },
  {
   "cell_type": "code",
   "execution_count": 80,
   "metadata": {},
   "outputs": [
    {
     "name": "stdout",
     "output_type": "stream",
     "text": [
      "False\n",
      "2558725559048 2558725560008\n"
     ]
    }
   ],
   "source": [
    "print(lst1 is lst2)   # 可能False,  True (機率很低很低) 數值雖然想同, 但記憶體位置可能不同\n",
    "print(id(lst1), id(lst2))"
   ]
  },
  {
   "cell_type": "code",
   "execution_count": 82,
   "metadata": {},
   "outputs": [
    {
     "data": {
      "text/plain": [
       "False"
      ]
     },
     "execution_count": 82,
     "metadata": {},
     "output_type": "execute_result"
    }
   ],
   "source": [
    "lst1 is lst3"
   ]
  },
  {
   "cell_type": "markdown",
   "metadata": {},
   "source": [
    "# 9-8"
   ]
  },
  {
   "cell_type": "code",
   "execution_count": 83,
   "metadata": {},
   "outputs": [
    {
     "data": {
      "text/plain": [
       "[1, 2, 3, 4, 5, 6]"
      ]
     },
     "execution_count": 83,
     "metadata": {},
     "output_type": "execute_result"
    }
   ],
   "source": [
    "[1, 2, 3] + [4, 5, 6]"
   ]
  },
  {
   "cell_type": "code",
   "execution_count": 84,
   "metadata": {},
   "outputs": [
    {
     "ename": "TypeError",
     "evalue": "can't multiply sequence by non-int of type 'float'",
     "output_type": "error",
     "traceback": [
      "\u001b[1;31m---------------------------------------------------------------------------\u001b[0m",
      "\u001b[1;31mTypeError\u001b[0m                                 Traceback (most recent call last)",
      "\u001b[1;32m<ipython-input-84-21944a160a1c>\u001b[0m in \u001b[0;36m<module>\u001b[1;34m\u001b[0m\n\u001b[1;32m----> 1\u001b[1;33m \u001b[1;33m[\u001b[0m\u001b[1;34m'Hi!'\u001b[0m\u001b[1;33m]\u001b[0m \u001b[1;33m*\u001b[0m \u001b[1;36m4.\u001b[0m\u001b[1;33m\u001b[0m\u001b[1;33m\u001b[0m\u001b[0m\n\u001b[0m",
      "\u001b[1;31mTypeError\u001b[0m: can't multiply sequence by non-int of type 'float'"
     ]
    }
   ],
   "source": [
    "['Hi!'] * 4."
   ]
  },
  {
   "cell_type": "code",
   "execution_count": 85,
   "metadata": {},
   "outputs": [
    {
     "data": {
      "text/plain": [
       "True"
      ]
     },
     "execution_count": 85,
     "metadata": {},
     "output_type": "execute_result"
    }
   ],
   "source": [
    "30 in [10, 20, 30]"
   ]
  },
  {
   "cell_type": "code",
   "execution_count": 86,
   "metadata": {},
   "outputs": [
    {
     "name": "stdout",
     "output_type": "stream",
     "text": [
      "10 20 30 "
     ]
    }
   ],
   "source": [
    "import time\n",
    "\n",
    "a = [10, 20, 30]\n",
    "for x in a: \n",
    "    time.sleep(.4)\n",
    "    print (x, end = ' ')"
   ]
  },
  {
   "cell_type": "code",
   "execution_count": 87,
   "metadata": {},
   "outputs": [
    {
     "name": "stdout",
     "output_type": "stream",
     "text": [
      "lst\t\t\t= [11, 22, 33, 44]\n",
      "id(lst)\t\t\t: 2558724860040 \n",
      "\n",
      "lst[2] = 66\t\t: [11, 22, 66, 44] \n",
      "\n",
      "lst[2:]=['aaa','bbb']\t: [11, 22, 'aaa', 'bbb'] \n",
      "\n",
      "lst[2:] =\t\t: [11, 22, 333, 444, 555, 666]\n",
      "id(lst)\t\t\t: 2558724860040 \n",
      "\n"
     ]
    }
   ],
   "source": [
    "lst=[11, 22, 33, 44]\n",
    "print('lst\\t\\t\\t=', lst)\n",
    "print('id(lst)\\t\\t\\t:', id(lst), '\\n')\n",
    "\n",
    "lst[2] = 66\n",
    "print('lst[2] = 66\\t\\t:', lst, '\\n')\n",
    "\n",
    "lst[2:]=['aaa','bbb']\n",
    "print(\"lst[2:]=['aaa','bbb']\\t:\",lst,'\\n')\n",
    "\n",
    "lst[2:]=[333, 444, 555,  666]  #list 可增加直接擴大\n",
    "print('lst[2:] =\\t\\t:', lst)\n",
    "print('id(lst)\\t\\t\\t:', id(lst), '\\n')"
   ]
  },
  {
   "cell_type": "code",
   "execution_count": 91,
   "metadata": {},
   "outputs": [
    {
     "name": "stdout",
     "output_type": "stream",
     "text": [
      "lst1\t\t: [33, 'python', [11, 22, 33], (44, 55, 66)]\n",
      "lst1[3][0]\t: 44 \n",
      "\n"
     ]
    }
   ],
   "source": [
    "lst1= [33, 'python', [11,22,33], (44,55,66)]\n",
    "print('lst1\\t\\t:', lst1)\n",
    "print('lst1[3][0]\\t:', lst1[3][0],'\\n')\n",
    "#lst1[3][0] = 88   #'tuple' object does not support item assignment, tuple is immutable"
   ]
  },
  {
   "cell_type": "markdown",
   "metadata": {},
   "source": [
    "# 9-11"
   ]
  },
  {
   "cell_type": "code",
   "execution_count": 92,
   "metadata": {},
   "outputs": [
    {
     "name": "stdout",
     "output_type": "stream",
     "text": [
      "lst\t\t\t\t= [20, 10, 30]\n",
      "max(lst)\t\t\t: 30\n",
      "min(lst)\t\t\t: 10\n",
      "sum(lst)\t\t\t: 60\n",
      "sorted(lst)\t\t\t: [10, 20, 30]\n",
      "sorted(lst, reverse=True)\t: [30, 20, 10]\n"
     ]
    }
   ],
   "source": [
    "x, y, z=20, 10, 30\n",
    "lst=[x, y, z]\n",
    "\n",
    "print('lst\\t\\t\\t\\t=', lst)\n",
    "print('max(lst)\\t\\t\\t:', max(lst))\n",
    "print('min(lst)\\t\\t\\t:', min(lst))\n",
    "print('sum(lst)\\t\\t\\t:', sum(lst))\n",
    "print('sorted(lst)\\t\\t\\t:', sorted(lst))\n",
    "print('sorted(lst, reverse=True)\\t:', sorted(lst, reverse=True))"
   ]
  },
  {
   "cell_type": "markdown",
   "metadata": {},
   "source": [
    "# 9-14, 15, 16"
   ]
  },
  {
   "cell_type": "code",
   "execution_count": 93,
   "metadata": {},
   "outputs": [
    {
     "name": "stdout",
     "output_type": "stream",
     "text": [
      "a = [4, 777, 444, 999, 11],\t b = ['aa', 'bb', 'cc'] \n",
      "\n",
      "a.append('1')\t\t: [4, 777, 444, 999, 11, '1']\n",
      "a+[1]\t\t\t: [4, 777, 444, 999, 11, '1', 1] \n",
      "\n",
      "a.extend(b)\t\t: [4, 777, 444, 999, 11, '1', 'aa', 'bb', 'cc']\n",
      "a.count(4)\t\t: 1\n",
      "a.index(4)\t\t: 0 \n",
      "\n",
      "a.insert(5, 555)\t: [4, 777, 444, 999, 11, 555, '1', 'aa', 'bb', 'cc']\n"
     ]
    }
   ],
   "source": [
    "a = [4, 777, 444, 999, 11];   b = ['aa', 'bb', 'cc']\n",
    "\n",
    "print(f'a = {a},\\t b = {b} \\n')\n",
    "\n",
    "a.append('1')                              # 新增\n",
    "print(\"a.append('1')\\t\\t:\", a)\n",
    "print('a+[1]\\t\\t\\t:', a+[1], '\\n')\n",
    "\n",
    "a.extend(b)\n",
    "print('a.extend(b)\\t\\t:', a)  # like a+b\n",
    "print('a.count(4)\\t\\t:', a.count(4))        # count how many 4 in list\n",
    "print('a.index(4)\\t\\t:', a.index(4), '\\n')  # what is index of 4\n",
    "\n",
    "a.insert(5, 555)\n",
    "print('a.insert(5, 555)\\t:', a)"
   ]
  },
  {
   "cell_type": "code",
   "execution_count": null,
   "metadata": {},
   "outputs": [],
   "source": [
    "a = [4, 777, 444, 999, 11, 45, 66, 88, 73]\n",
    "\n",
    "print(f'a = {a}\\n')\n",
    "                                       \n",
    "print('a.pop()\\t\\t:', a.pop())                   #彈出值, 並刪除                        \n",
    "print('a.pop(4)\\t:', a.pop(4))                   #用index, 傳回值, 並刪除\n",
    "print('a.remove(a[2])\\t:', a.remove(444))        #用item value 刪除, 回傳空值\n",
    "print('a \\t\\t:', a, '\\n')\n",
    "\n",
    "a.reverse()\n",
    "print('a.reverse()\\t:',a)\n",
    "\n",
    "b = a.copy()\n",
    "print('b = a.copy()\\t:', b)\n",
    "print('a.clear()\\t:', a.clear())"
   ]
  },
  {
   "cell_type": "markdown",
   "metadata": {},
   "source": [
    "---"
   ]
  },
  {
   "cell_type": "markdown",
   "metadata": {},
   "source": [
    "# Module_10_串列(List)與元組(Tuple)\n",
    ">### tuple 佔記憶體小, 計算速度快\n",
    ">![memoryIndex](.\\img\\memoryIndex03.png)"
   ]
  },
  {
   "cell_type": "code",
   "execution_count": 94,
   "metadata": {},
   "outputs": [
    {
     "data": {
      "text/plain": [
       "int"
      ]
     },
     "execution_count": 94,
     "metadata": {},
     "output_type": "execute_result"
    }
   ],
   "source": [
    "t1=(50) # not tuple becasue of no ','\n",
    "t1\n",
    "type(t1)"
   ]
  },
  {
   "cell_type": "code",
   "execution_count": 95,
   "metadata": {},
   "outputs": [
    {
     "name": "stdout",
     "output_type": "stream",
     "text": [
      "(50, 50, 50, 50)\n"
     ]
    },
    {
     "data": {
      "text/plain": [
       "tuple"
      ]
     },
     "execution_count": 95,
     "metadata": {},
     "output_type": "execute_result"
    }
   ],
   "source": [
    "t2=(50,)\n",
    "print(t2*4)\n",
    "type(t2)"
   ]
  },
  {
   "cell_type": "code",
   "execution_count": 96,
   "metadata": {},
   "outputs": [
    {
     "data": {
      "text/plain": [
       "tuple"
      ]
     },
     "execution_count": 96,
     "metadata": {},
     "output_type": "execute_result"
    }
   ],
   "source": [
    "tup2 = 50,    # tup2 = 50, 60, 70\n",
    "type(tup2)"
   ]
  },
  {
   "cell_type": "code",
   "execution_count": 97,
   "metadata": {},
   "outputs": [
    {
     "name": "stdout",
     "output_type": "stream",
     "text": [
      "(0, 2, 4, 6, 8)\n"
     ]
    },
    {
     "ename": "TypeError",
     "evalue": "'tuple' object does not support item assignment",
     "output_type": "error",
     "traceback": [
      "\u001b[1;31m---------------------------------------------------------------------------\u001b[0m",
      "\u001b[1;31mTypeError\u001b[0m                                 Traceback (most recent call last)",
      "\u001b[1;32m<ipython-input-97-c9b7972c0329>\u001b[0m in \u001b[0;36m<module>\u001b[1;34m\u001b[0m\n\u001b[0;32m      2\u001b[0m \u001b[0mprint\u001b[0m\u001b[1;33m(\u001b[0m\u001b[0mt3\u001b[0m\u001b[1;33m)\u001b[0m\u001b[1;33m\u001b[0m\u001b[1;33m\u001b[0m\u001b[0m\n\u001b[0;32m      3\u001b[0m \u001b[1;33m\u001b[0m\u001b[0m\n\u001b[1;32m----> 4\u001b[1;33m \u001b[0mt3\u001b[0m\u001b[1;33m[\u001b[0m\u001b[1;36m1\u001b[0m\u001b[1;33m]\u001b[0m \u001b[1;33m=\u001b[0m \u001b[1;36m5\u001b[0m         \u001b[1;31m# error,  immutable\u001b[0m\u001b[1;33m\u001b[0m\u001b[1;33m\u001b[0m\u001b[0m\n\u001b[0m\u001b[0;32m      5\u001b[0m \u001b[0mt3\u001b[0m\u001b[1;33m.\u001b[0m\u001b[0mremove\u001b[0m\u001b[1;33m(\u001b[0m\u001b[1;33m[\u001b[0m\u001b[1;34m'2'\u001b[0m\u001b[1;33m]\u001b[0m\u001b[1;33m)\u001b[0m  \u001b[1;31m# error, not removable, pop\u001b[0m\u001b[1;33m\u001b[0m\u001b[1;33m\u001b[0m\u001b[0m\n",
      "\u001b[1;31mTypeError\u001b[0m: 'tuple' object does not support item assignment"
     ]
    }
   ],
   "source": [
    "t3=tuple(range(0, 10, 2))\n",
    "print(t3)\n",
    "\n",
    "t3[1] = 5         # error,  immutable\n",
    "t3.remove(['2'])  # error, not removable, pop"
   ]
  },
  {
   "cell_type": "code",
   "execution_count": 98,
   "metadata": {},
   "outputs": [
    {
     "name": "stdout",
     "output_type": "stream",
     "text": [
      "tup3\t\t\t= ('aaa', 'bbb', 'kkk', 'jjj', 'cc1')\n",
      "sorted(tup3)\t\t: ['aaa', 'bbb', 'cc1', 'jjj', 'kkk']\n",
      "max(tup3)\t\t: kkk\n",
      "min(tup3)\t\t: aaa\n",
      "tup3.count('kkk')\t: 1\n",
      "tup3+(111, 222)\t\t: ('aaa', 'bbb', 'kkk', 'jjj', 'cc1', 111, 222)\n"
     ]
    }
   ],
   "source": [
    "tup3=('aaa', 'bbb', 'kkk', 'jjj', 'cc1')\n",
    "\n",
    "print('tup3\\t\\t\\t=', tup3)\n",
    "print('sorted(tup3)\\t\\t:', sorted(tup3))  #tuple sorted 傳回的是list[], 需要用參數去接, lst=sorted(t3), t3 is still tuple, no change\n",
    "print('max(tup3)\\t\\t:', max(tup3))\n",
    "print('min(tup3)\\t\\t:', min(tup3))\n",
    "print(\"tup3.count('kkk')\\t:\", tup3.count('kkk'))\n",
    "print('tup3+(111, 222)\\t\\t:', tup3+(111,222))"
   ]
  },
  {
   "cell_type": "code",
   "execution_count": 99,
   "metadata": {},
   "outputs": [
    {
     "name": "stdout",
     "output_type": "stream",
     "text": [
      "(4, 5, 6, 4, 5, 6)\n",
      "(4, 5, 6, 4, 5, 6, 8)\n"
     ]
    }
   ],
   "source": [
    "tup = 4, 5, 6; tup1 = (4, 5, 6)\n",
    "print(tup+tup1)\n",
    "print(tup+tup1+(8,))"
   ]
  },
  {
   "cell_type": "code",
   "execution_count": 100,
   "metadata": {},
   "outputs": [
    {
     "name": "stdout",
     "output_type": "stream",
     "text": [
      "<class 'tuple'>\n",
      "((4, 5, 6), (7, 8))\n",
      "(4, 5, 6, (4, 5, 6), (7, 8))\n"
     ]
    }
   ],
   "source": [
    "tup = 4, 5, 6; nested_tup = (4, 5, 6), (7, 8)\n",
    "\n",
    "print(type(tup))\n",
    "print(nested_tup)\n",
    "print(tup+nested_tup)"
   ]
  },
  {
   "cell_type": "code",
   "execution_count": 101,
   "metadata": {},
   "outputs": [
    {
     "name": "stdout",
     "output_type": "stream",
     "text": [
      "aiot\n",
      "(2, 3, 4, 5)\n",
      "(2, 4, 6, 8, 10)\n"
     ]
    }
   ],
   "source": [
    "tup1 = ('aiot', 'python', 23.5, 2019)\n",
    "tup2 = (1, 2, 3, 4, 5, 6, 7, 8, 9, 10)\n",
    "\n",
    "print(tup1[0])\n",
    "print(tup2[1:5])\n",
    "print(tup2[1:10:2])"
   ]
  },
  {
   "cell_type": "code",
   "execution_count": 102,
   "metadata": {},
   "outputs": [
    {
     "name": "stdout",
     "output_type": "stream",
     "text": [
      "(4, 0, 2) \n",
      "\n",
      "('s', 't', 'r', 'i', 'n', 'g')\n",
      "s\n"
     ]
    }
   ],
   "source": [
    "tup = tuple([4, 0, 2])\n",
    "print(tup, '\\n')\n",
    "\n",
    "tup = tuple('string')  # try list ('string')\n",
    "print(tup)\n",
    "print(tup[0])"
   ]
  },
  {
   "cell_type": "markdown",
   "metadata": {},
   "source": [
    "# 10-6 改動與否，視最後改動的對象為準"
   ]
  },
  {
   "cell_type": "code",
   "execution_count": 103,
   "metadata": {},
   "outputs": [
    {
     "name": "stdout",
     "output_type": "stream",
     "text": [
      "('foo', [1, 2, 3], True)\n",
      "3\n"
     ]
    },
    {
     "data": {
      "text/plain": [
       "('foo', [20, 2, 3], True)"
      ]
     },
     "execution_count": 103,
     "metadata": {},
     "output_type": "execute_result"
    }
   ],
   "source": [
    "tup = tuple(['foo', [1, 2], True])\n",
    "\n",
    "# tup[2] = False\n",
    "tup[1].append(3)  # list in Tuple OK to change or append inside of list\n",
    "print(tup)\n",
    "print(len(tup))\n",
    "tup[1][0]=20\n",
    "tup"
   ]
  },
  {
   "cell_type": "markdown",
   "metadata": {},
   "source": [
    "#### Unpacking tuples"
   ]
  },
  {
   "cell_type": "code",
   "execution_count": 105,
   "metadata": {},
   "outputs": [
    {
     "data": {
      "text/plain": [
       "5"
      ]
     },
     "execution_count": 105,
     "metadata": {},
     "output_type": "execute_result"
    }
   ],
   "source": [
    "tup = (4, 5, 6)\n",
    "a, b, c = tup\n",
    "b"
   ]
  },
  {
   "cell_type": "code",
   "execution_count": 106,
   "metadata": {},
   "outputs": [
    {
     "data": {
      "text/plain": [
       "7"
      ]
     },
     "execution_count": 106,
     "metadata": {},
     "output_type": "execute_result"
    }
   ],
   "source": [
    "tup = 4, 5, (6, 7)\n",
    "a, b, (c, d) = tup\n",
    "d"
   ]
  },
  {
   "cell_type": "code",
   "execution_count": 107,
   "metadata": {},
   "outputs": [
    {
     "name": "stdout",
     "output_type": "stream",
     "text": [
      "a=1, b=2, c=3\n",
      "a=4, b=5, c=6\n",
      "a=7, b=8, c=9\n"
     ]
    }
   ],
   "source": [
    "seq = [(1, 2, 3), (4, 5, 6), (7, 8, 9)]\n",
    "for a, b, c in seq:\n",
    "    print(f'a={a}, b={b}, c={c}')"
   ]
  },
  {
   "cell_type": "code",
   "execution_count": 111,
   "metadata": {},
   "outputs": [
    {
     "name": "stdout",
     "output_type": "stream",
     "text": [
      "<class 'tuple'>\n"
     ]
    },
    {
     "data": {
      "text/plain": [
       "(1, 2, [3, 4, 5])"
      ]
     },
     "execution_count": 111,
     "metadata": {},
     "output_type": "execute_result"
    }
   ],
   "source": [
    "values = 1, 2, 3, 4, 5\n",
    "print(type(values))\n",
    "a, b, *rest = values\n",
    "a, b, rest\n",
    "#rest   # list[3, 4, 5]"
   ]
  },
  {
   "cell_type": "code",
   "execution_count": 112,
   "metadata": {},
   "outputs": [
    {
     "data": {
      "text/plain": [
       "[3, 4, 5]"
      ]
     },
     "execution_count": 112,
     "metadata": {},
     "output_type": "execute_result"
    }
   ],
   "source": [
    "a, b, *_ = values\n",
    "_"
   ]
  },
  {
   "cell_type": "markdown",
   "metadata": {},
   "source": [
    "# 10-8"
   ]
  },
  {
   "cell_type": "code",
   "execution_count": 113,
   "metadata": {},
   "outputs": [
    {
     "data": {
      "text/plain": [
       "('Hi', 'Hi', 'Hi', 'Hi')"
      ]
     },
     "execution_count": 113,
     "metadata": {},
     "output_type": "execute_result"
    }
   ],
   "source": [
    "('Hi',)*4"
   ]
  },
  {
   "cell_type": "code",
   "execution_count": 114,
   "metadata": {},
   "outputs": [
    {
     "data": {
      "text/plain": [
       "True"
      ]
     },
     "execution_count": 114,
     "metadata": {},
     "output_type": "execute_result"
    }
   ],
   "source": [
    "30 in (10,20,30)"
   ]
  },
  {
   "cell_type": "code",
   "execution_count": 115,
   "metadata": {},
   "outputs": [
    {
     "name": "stdout",
     "output_type": "stream",
     "text": [
      "1, 2, 3, 4, 5, 6, 7, 8, 9, "
     ]
    }
   ],
   "source": [
    "seq = (1, 2, 3, 4, 5, 6, 7, 8, 9) # iterable object\n",
    "for i in seq:\n",
    "    print(i, end=', ')"
   ]
  },
  {
   "cell_type": "markdown",
   "metadata": {},
   "source": [
    "# 10-10, 12"
   ]
  },
  {
   "cell_type": "code",
   "execution_count": 116,
   "metadata": {},
   "outputs": [
    {
     "name": "stdout",
     "output_type": "stream",
     "text": [
      "2\n"
     ]
    }
   ],
   "source": [
    "nested_tup = (4, 5, 6), (7, 8)  # nested tuple\n",
    "print(len(nested_tup))"
   ]
  },
  {
   "cell_type": "code",
   "execution_count": 117,
   "metadata": {},
   "outputs": [
    {
     "name": "stdout",
     "output_type": "stream",
     "text": [
      "len(tup)\t\t\t: 11\n",
      "max(tup)\t\t\t: 6\n",
      "min(tup)\t\t\t: 1\n",
      "sum(tup)\t\t\t: 36\n",
      "sorted(tup)\t\t\t: [1, 1, 2, 2, 3, 3, 4, 4, 5, 5, 6]\n",
      "sorted(tup,reverse = True)\t: [6, 5, 5, 4, 4, 3, 3, 2, 2, 1, 1]\n"
     ]
    }
   ],
   "source": [
    "tup = (1, 2, 3, 4, 5, 6, 5, 4, 3, 2, 1)\n",
    "print('len(tup)\\t\\t\\t:', len(tup))\n",
    "print('max(tup)\\t\\t\\t:', max(tup))\n",
    "print('min(tup)\\t\\t\\t:', min(tup))\n",
    "print('sum(tup)\\t\\t\\t:', sum(tup))\n",
    "print('sorted(tup)\\t\\t\\t:', sorted(tup))\n",
    "print('sorted(tup,reverse = True)\\t:', sorted(tup,reverse = True))"
   ]
  },
  {
   "cell_type": "code",
   "execution_count": 118,
   "metadata": {},
   "outputs": [
    {
     "name": "stdout",
     "output_type": "stream",
     "text": [
      "(0, 2, 4, 6, 8)\n",
      "(1, 2, 3, 4)\n",
      "('a', 'b', 'c', 'd', 'e')\n"
     ]
    }
   ],
   "source": [
    "t1 = tuple(range(0,10,2)) # lazy evaluation\n",
    "t2 = tuple([1,2,3,4])\n",
    "t3 = tuple('abcde')\n",
    "\n",
    "print(t1)\n",
    "print(t2)\n",
    "print(t3)"
   ]
  },
  {
   "cell_type": "code",
   "execution_count": 119,
   "metadata": {},
   "outputs": [
    {
     "name": "stdout",
     "output_type": "stream",
     "text": [
      "4\n",
      "1\n"
     ]
    }
   ],
   "source": [
    "a = (1, 2, 2, 2, 3, 4, 2)\n",
    "print(a.count(2))\n",
    "print(a.index(2))"
   ]
  },
  {
   "cell_type": "markdown",
   "metadata": {},
   "source": [
    "# 10-14 list comprehensions"
   ]
  },
  {
   "cell_type": "code",
   "execution_count": 120,
   "metadata": {},
   "outputs": [
    {
     "name": "stdout",
     "output_type": "stream",
     "text": [
      "S =  [0, 1, 4, 9, 16, 25, 36, 49, 64, 81]\n",
      "V =  [1, 2, 4, 8, 16, 32, 64, 128, 256, 512, 1024, 2048, 4096]\n",
      "M =  [0, 4, 16, 36, 64]\n",
      "Q =  [0.0, 0.5, 2.0, 4.5, 8.0, 12.5, 18.0, 24.5, 32.0, 40.5]\n"
     ]
    }
   ],
   "source": [
    "S = [x**2 for x in range(10)]\n",
    "V = [2**x for x in range(13)]\n",
    "M = [x for x in S if x % 2 == 0]\n",
    "Q = [x**2/2 for x in range(10) ]\n",
    "\n",
    "print('S = ', S)\n",
    "print('V = ', V)\n",
    "print('M = ', M)\n",
    "print('Q = ', Q)"
   ]
  },
  {
   "cell_type": "code",
   "execution_count": 121,
   "metadata": {},
   "outputs": [
    {
     "data": {
      "text/plain": [
       "[[1, 2, 3, 4, 5, 6, 7, 8, 9],\n",
       " [2, 4, 6, 8, 10, 12, 14, 16, 18],\n",
       " [3, 6, 9, 12, 15, 18, 21, 24, 27],\n",
       " [4, 8, 12, 16, 20, 24, 28, 32, 36],\n",
       " [5, 10, 15, 20, 25, 30, 35, 40, 45],\n",
       " [6, 12, 18, 24, 30, 36, 42, 48, 54],\n",
       " [7, 14, 21, 28, 35, 42, 49, 56, 63],\n",
       " [8, 16, 24, 32, 40, 48, 56, 64, 72],\n",
       " [9, 18, 27, 36, 45, 54, 63, 72, 81]]"
      ]
     },
     "execution_count": 121,
     "metadata": {},
     "output_type": "execute_result"
    }
   ],
   "source": [
    "# 九九乘法表 comprehensive 寫法\n",
    "[[i*j for j in range(1,10)] for i in range(1,10)]"
   ]
  },
  {
   "cell_type": "code",
   "execution_count": 122,
   "metadata": {},
   "outputs": [
    {
     "name": "stdout",
     "output_type": "stream",
     "text": [
      "3.56 µs ± 229 ns per loop (mean ± std. dev. of 7 runs, 100000 loops each)\n"
     ]
    }
   ],
   "source": [
    "%%timeit\n",
    "# V = (1,2,4,8,...2**10)\n",
    "V=[]\n",
    "for n in range(11):\n",
    "    V +=[2**n]\n",
    "V"
   ]
  },
  {
   "cell_type": "code",
   "execution_count": 123,
   "metadata": {},
   "outputs": [
    {
     "name": "stdout",
     "output_type": "stream",
     "text": [
      "3.02 µs ± 46 ns per loop (mean ± std. dev. of 7 runs, 100000 loops each)\n"
     ]
    }
   ],
   "source": [
    "%%timeit\n",
    "# V = (1,2,4,8,...2**10)\n",
    "V=[]\n",
    "V = [2**n for n in range(11)]\n",
    "V"
   ]
  },
  {
   "cell_type": "markdown",
   "metadata": {},
   "source": [
    "# 範例"
   ]
  },
  {
   "cell_type": "code",
   "execution_count": 124,
   "metadata": {},
   "outputs": [
    {
     "name": "stdout",
     "output_type": "stream",
     "text": [
      "[2, 3, 5, 7, 11, 13, 17, 19, 23, 29, 31, 37, 41, 43, 47, 53, 59, 61, 67, 71, 73, 79, 83, 89, 97, 101, 103, 107, 109, 113, 127, 131, 137, 139, 149, 151, 157, 163, 167, 173, 179, 181, 191, 193, 197, 199, 211, 223, 227, 229, 233, 239, 241, 251, 257, 263, 269, 271, 277, 281, 283, 293, 307, 311, 313, 317, 331, 337, 347, 349, 353, 359, 367, 373, 379, 383, 389, 397, 401, 409, 419, 421, 431, 433, 439, 443, 449, 457, 461, 463, 467, 479, 487, 491, 499, 503, 509, 521, 523, 541, 547, 557, 563, 569, 571, 577, 587, 593, 599, 601, 607, 613, 617, 619, 631, 641, 643, 647, 653, 659, 661, 673, 677, 683, 691, 701, 709, 719, 727, 733, 739, 743, 751, 757, 761, 769, 773, 787, 797, 809, 811, 821, 823, 827, 829, 839, 853, 857, 859, 863, 877, 881, 883, 887, 907, 911, 919, 929, 937, 941, 947, 953, 967, 971, 977, 983, 991, 997]\n"
     ]
    }
   ],
   "source": [
    "# 質數\n",
    "lst=[]\n",
    "for i in range(2,1000):\n",
    "    for j in range (2,i):\n",
    "        if i%j==0:\n",
    "            break\n",
    "    else:\n",
    "        lst=lst+[i]\n",
    "print(lst)"
   ]
  },
  {
   "cell_type": "code",
   "execution_count": 128,
   "metadata": {},
   "outputs": [
    {
     "name": "stdout",
     "output_type": "stream",
     "text": [
      "2558725419848\n",
      "2558725419848\n",
      "2558725419848\n",
      "2558725419848\n",
      "2558725419848\n",
      "2558725419848\n",
      "2558725419848\n",
      "2558725419848\n",
      "2558725419848\n",
      "2558725419848\n",
      "2558725419848\n",
      "2558725419848\n",
      "2558725419848\n",
      "2558725419848\n",
      "2558725419848\n",
      "2558725419848\n",
      "2558725419848\n",
      "2558725419848\n",
      "2558725419848\n",
      "2558725419848\n",
      "2558725419848\n",
      "2558725419848\n",
      "2558725419848\n",
      "2558725419848\n",
      "2558725419848\n",
      "2558725419848\n",
      "2558725419848\n",
      "2558725419848\n",
      "2558725419848\n",
      "\n",
      " [1904, 1908, 1912, 1916, 1920, 1924, 1928, 1932, 1936, 1940, 1944, 1948, 1952, 1956, 1960, 1964, 1968, 1972, 1976, 1980, 1984, 1988, 1992, 1996, 2000, 2004, 2008, 2012, 2016] \n",
      "\n",
      "[1904, 1908, 1912, 1916, 1920, 1924, 1928, 1932, 1936, 1940, 1944, 1948, 1952, 1956, 1960, 1964, 1968, 1972, 1976, 1980, 1984, 1988, 1992, 1996, 2000, 2004, 2008, 2012, 2016]\n"
     ]
    }
   ],
   "source": [
    "# for loop start\n",
    "#公元年分除以4可整除但公元年分除以100不可整除」或「公元年分除以400可整除」\n",
    "\n",
    "lst_year=[]\n",
    "for i in range(1900, 2020):\n",
    "    if((i%4==0 and  i%100!=0) or (i%400==0)):\n",
    "        print(id(lst_year))        \n",
    "        lst_year += [i]\n",
    "print('\\n', lst_year, '\\n')      \n",
    "\n",
    "# -------------------------------------------------------\n",
    "\n",
    "lst_year1 = [i for i in range(1900,2020) if((i%4==0 and i%100!=0) or (i%400==0))]\n",
    "print(lst_year1)"
   ]
  },
  {
   "cell_type": "code",
   "execution_count": null,
   "metadata": {},
   "outputs": [],
   "source": [
    "# for loop start\n",
    "#公元年分除以4可整除但公元年分除以100不可整除」#或「公元年分除以400可整除」\n",
    "\n",
    "lst_year=()\n",
    "for i in range(1900, 2020):\n",
    "    if((i%4==0 and i%100!=0) or (i%400==0)):\n",
    "        print(id(lst_year), type(lst_year), lst_year)\n",
    "        lst_year +=(i,)\n",
    "print('\\n', lst_year, '\\n')      "
   ]
  },
  {
   "cell_type": "markdown",
   "metadata": {},
   "source": [
    "## tuple 放棄了對元素的增刪（記憶體結構設計上變的更精簡），換取的是效能上的提升：建立 tuple 比 list 要快，儲存空間比 list 佔用更小。所以就出現了“能用 tuple 的地方就不用 list”的說法。"
   ]
  },
  {
   "cell_type": "markdown",
   "metadata": {},
   "source": [
    "---"
   ]
  },
  {
   "cell_type": "markdown",
   "metadata": {},
   "source": [
    "# Module_11_字典(Dict)\n",
    ">## 讓一串資料更有可讀性\n",
    ">## no sequence, no slice, no index\n",
    ">## but, iterable (可迭代)"
   ]
  },
  {
   "cell_type": "code",
   "execution_count": 129,
   "metadata": {},
   "outputs": [
    {
     "name": "stdout",
     "output_type": "stream",
     "text": [
      "蘋果\n",
      "香蕉\n"
     ]
    }
   ],
   "source": [
    "# 如英漢字典\n",
    "d1={'Apple':'蘋果', 'Banana':'香蕉'}\n",
    "print(d1['Apple'])\n",
    "print(d1['Banana'])"
   ]
  },
  {
   "cell_type": "code",
   "execution_count": 130,
   "metadata": {},
   "outputs": [
    {
     "name": "stdout",
     "output_type": "stream",
     "text": [
      "2.59\n",
      "3.19 \n",
      "\n",
      "2.59\n",
      "3.19\n"
     ]
    }
   ],
   "source": [
    "lst = [2.59, 3.19, 4.8]  # not so meaningful\n",
    "print(lst[0])\n",
    "print(lst[1], '\\n')\n",
    "\n",
    "d1={'Eggs':2.59, 'Milk':3.19, 'Cheese':4.8}  # egg, milk... 是不是更具可讀性?\n",
    "print(d1['Eggs'])\n",
    "print(d1['Milk'])"
   ]
  },
  {
   "cell_type": "markdown",
   "metadata": {},
   "source": [
    "><img src=\".\\img\\list-dict.png\"  style='height:400px; width:900px'>"
   ]
  },
  {
   "cell_type": "markdown",
   "metadata": {},
   "source": [
    "# 11-3"
   ]
  },
  {
   "cell_type": "code",
   "execution_count": 131,
   "metadata": {},
   "outputs": [
    {
     "name": "stdout",
     "output_type": "stream",
     "text": [
      "True\n",
      "False\n",
      "2558726230728\n",
      "2558726183176\n"
     ]
    },
    {
     "ename": "KeyError",
     "evalue": "'class'",
     "output_type": "error",
     "traceback": [
      "\u001b[1;31m---------------------------------------------------------------------------\u001b[0m",
      "\u001b[1;31mKeyError\u001b[0m                                  Traceback (most recent call last)",
      "\u001b[1;32m<ipython-input-131-e5307795a7dc>\u001b[0m in \u001b[0;36m<module>\u001b[1;34m\u001b[0m\n\u001b[0;32m      7\u001b[0m \u001b[0mprint\u001b[0m\u001b[1;33m(\u001b[0m\u001b[0mid\u001b[0m\u001b[1;33m(\u001b[0m\u001b[0md1\u001b[0m\u001b[1;33m)\u001b[0m\u001b[1;33m)\u001b[0m\u001b[1;33m\u001b[0m\u001b[1;33m\u001b[0m\u001b[0m\n\u001b[0;32m      8\u001b[0m \u001b[0mprint\u001b[0m\u001b[1;33m(\u001b[0m\u001b[0mid\u001b[0m\u001b[1;33m(\u001b[0m\u001b[0md2\u001b[0m\u001b[1;33m)\u001b[0m\u001b[1;33m)\u001b[0m\u001b[1;33m\u001b[0m\u001b[1;33m\u001b[0m\u001b[0m\n\u001b[1;32m----> 9\u001b[1;33m \u001b[0md2\u001b[0m\u001b[1;33m[\u001b[0m\u001b[1;34m'class'\u001b[0m\u001b[1;33m]\u001b[0m  \u001b[1;31m# error 'class' 不存在\u001b[0m\u001b[1;33m\u001b[0m\u001b[1;33m\u001b[0m\u001b[0m\n\u001b[0m",
      "\u001b[1;31mKeyError\u001b[0m: 'class'"
     ]
    }
   ],
   "source": [
    "# dict. no sequence, no slice, no index\n",
    "d1={'name':'John', 'age':30}\n",
    "d2={'age':30, 'name':'John'}\n",
    "\n",
    "print(d1==d2)   # check values, no sequence\n",
    "print(d1 is d2) # memory address diff\n",
    "print(id(d1))\n",
    "print(id(d2))\n",
    "d2['class']  # error 'class' 不存在"
   ]
  },
  {
   "cell_type": "markdown",
   "metadata": {},
   "source": [
    "# 11-4, 5"
   ]
  },
  {
   "cell_type": "code",
   "execution_count": 132,
   "metadata": {},
   "outputs": [
    {
     "name": "stdout",
     "output_type": "stream",
     "text": [
      "dict1\t\t\t: {'one': 1, 'two': 2, 'three': 3} \n",
      "\n",
      "dict1['four'] = 7\t: {'one': 1, 'two': 2, 'three': 3, 'four': 7}\n",
      "dict1['two'] = 7\t: {'one': 1, 'two': 7, 'three': 3, 'four': 7}\n",
      "del dict1['two']\t: {'one': 1, 'three': 3, 'four': 7}\n",
      "dict1['one']\t\t: 1\n"
     ]
    }
   ],
   "source": [
    "dict1 = dict(one=1, two=2, three=3)\n",
    "print('dict1\\t\\t\\t:', dict1, '\\n')    # 建立\n",
    "\n",
    "dict1['four']=7                       # 'four'不存在, 就新增\n",
    "print(\"dict1['four'] = 7\\t:\", dict1)    # 新增 \n",
    "\n",
    "dict1['two'] = 7\n",
    "print(\"dict1['two'] = 7\\t:\", dict1)    # 修改\n",
    "\n",
    "del dict1['two']                       # 刪除\n",
    "print(\"del dict1['two']\\t:\", dict1)\n",
    "\n",
    "print(\"dict1['one']\\t\\t:\", dict1['one'])  # 尋找"
   ]
  },
  {
   "cell_type": "code",
   "execution_count": 133,
   "metadata": {},
   "outputs": [
    {
     "name": "stdout",
     "output_type": "stream",
     "text": [
      "dict1[four] : 7\n"
     ]
    }
   ],
   "source": [
    "dict1 = {'one': 1, 'two': 2, 'three': 3, 'four':7}\n",
    "key = 'four'\n",
    "if(key in dict1):\n",
    "    print(f'dict1[{key}] : {dict1[key]}')\n",
    "else:\n",
    "    print('No', key)"
   ]
  },
  {
   "cell_type": "markdown",
   "metadata": {},
   "source": [
    "# iterable"
   ]
  },
  {
   "cell_type": "code",
   "execution_count": null,
   "metadata": {},
   "outputs": [],
   "source": [
    "Families = {'大明':'小明', '大華':'小華', '大雄':'小雄'}\n",
    "for Parent, Son in Families.items():\n",
    "    print(f\"{Parent} is {Son}'s Dad\")"
   ]
  },
  {
   "cell_type": "markdown",
   "metadata": {},
   "source": [
    "# 11-6"
   ]
  },
  {
   "cell_type": "code",
   "execution_count": 134,
   "metadata": {},
   "outputs": [
    {
     "name": "stdout",
     "output_type": "stream",
     "text": [
      "dict1\t\t\t: {'id': 'A001', 'eng': [67, 53, 79]}\n",
      "dict1['eng']\t\t: [67, 53, 79]\n",
      "dict1['eng'][0]\t\t: 67 \n",
      "\n",
      "dict['math']=[64,85,75]\t: {'id': 'A001', 'eng': [67, 53, 79], 'math': [64, 85, 75]}\n",
      "dict1['math'][1]\t: 85\n",
      "dict1['math'][1] = 88\t: {'id': 'A001', 'eng': [67, 53, 79], 'math': [64, 88, 75]}\n"
     ]
    }
   ],
   "source": [
    "dict1 = {'id':'A001', 'eng':[67,53,79]}\n",
    "\n",
    "print('dict1\\t\\t\\t:', dict1)\n",
    "print(\"dict1['eng']\\t\\t:\", dict1['eng'])\n",
    "print(\"dict1['eng'][0]\\t\\t:\", dict1['eng'][0], '\\n')\n",
    "\n",
    "dict1['math'] = [64,85,75]\n",
    "print(\"dict['math']=[64,85,75]\\t:\", dict1)\n",
    "print(\"dict1['math'][1]\\t:\", dict1['math'][1])\n",
    "\n",
    "dict1['math'][1] = 88\n",
    "print(\"dict1['math'][1] = 88\\t:\", dict1)"
   ]
  },
  {
   "cell_type": "markdown",
   "metadata": {},
   "source": [
    "# 11-7"
   ]
  },
  {
   "cell_type": "code",
   "execution_count": 135,
   "metadata": {},
   "outputs": [
    {
     "name": "stdout",
     "output_type": "stream",
     "text": [
      "del dict1['Class']\t: {'Name': 'III', 'Year': 1979}\n",
      "dict1.clear()\t\t: {}\n"
     ]
    },
    {
     "ename": "NameError",
     "evalue": "name 'dict1' is not defined",
     "output_type": "error",
     "traceback": [
      "\u001b[1;31m---------------------------------------------------------------------------\u001b[0m",
      "\u001b[1;31mNameError\u001b[0m                                 Traceback (most recent call last)",
      "\u001b[1;32m<ipython-input-135-dcd003557cd5>\u001b[0m in \u001b[0;36m<module>\u001b[1;34m\u001b[0m\n\u001b[0;32m      8\u001b[0m \u001b[1;33m\u001b[0m\u001b[0m\n\u001b[0;32m      9\u001b[0m \u001b[1;32mdel\u001b[0m \u001b[0mdict1\u001b[0m                          \u001b[1;31m# del dict1.  dict1 is gone\u001b[0m\u001b[1;33m\u001b[0m\u001b[1;33m\u001b[0m\u001b[0m\n\u001b[1;32m---> 10\u001b[1;33m \u001b[0mprint\u001b[0m\u001b[1;33m(\u001b[0m\u001b[1;34m'del clear()\\t\\t:'\u001b[0m\u001b[1;33m,\u001b[0m \u001b[0mdict1\u001b[0m\u001b[1;33m)\u001b[0m   \u001b[1;31m# error since no dict1 any more\u001b[0m\u001b[1;33m\u001b[0m\u001b[1;33m\u001b[0m\u001b[0m\n\u001b[0m",
      "\u001b[1;31mNameError\u001b[0m: name 'dict1' is not defined"
     ]
    }
   ],
   "source": [
    "dict1 = {'Name': 'III', 'Year': 1979, 'Class': 'A'}\n",
    "\n",
    "del dict1['Class']\n",
    "print(\"del dict1['Class']\\t:\", dict1)\n",
    "\n",
    "dict1.clear()                       # empty dict1\n",
    "print('dict1.clear()\\t\\t:', dict1)\n",
    "\n",
    "del dict1                          # del dict1.  dict1 is gone\n",
    "print('del clear()\\t\\t:', dict1)   # error since no dict1 any more"
   ]
  },
  {
   "cell_type": "markdown",
   "metadata": {},
   "source": [
    "# 11-10, 11, 12"
   ]
  },
  {
   "cell_type": "code",
   "execution_count": 136,
   "metadata": {},
   "outputs": [
    {
     "name": "stdout",
     "output_type": "stream",
     "text": [
      "a\t\t\t= {'num': 85, 'num1': 60, 'age': 44}\n",
      "len(a)\t\t\t: 3\n",
      "max(a)\t\t\t: num1\n",
      "min(a)\t\t\t: age\n",
      "sorted(a)\t\t: ['age', 'num', 'num1'] \n",
      "\n",
      "a.get('num')\t\t: 85\n",
      "a['num']\t\t: 85\n",
      "a.get('num', 'No item')\t: 85\n",
      "a.get('name', 'No item'): No item\n",
      "a.setdefault(num2, 10101): 10101\n"
     ]
    },
    {
     "data": {
      "text/plain": [
       "{'num': 85, 'num1': 60, 'age': 44, 'num2': 10101}"
      ]
     },
     "execution_count": 136,
     "metadata": {},
     "output_type": "execute_result"
    }
   ],
   "source": [
    "a= {'num':85, 'num1': 60, 'age': 44}  # dict\n",
    "\n",
    "print('a\\t\\t\\t=', a)\n",
    "print('len(a)\\t\\t\\t:', len(a))\n",
    "print('max(a)\\t\\t\\t:', max(a))                 # key ASCII code max, not so meaningful\n",
    "print('min(a)\\t\\t\\t:', min(a))\n",
    "print('sorted(a)\\t\\t:', sorted(a), '\\n')\n",
    "\n",
    "print(\"a.get('num')\\t\\t:\", a.get('num'))\n",
    "print(\"a['num']\\t\\t:\", a['num'])\n",
    "print(\"a.get('num', 'No item')\\t:\", a.get('num', 'No item'))  # get 'num' 如果 'num'不存在就show 'No item'\n",
    "print(\"a.get('name', 'No item'):\", a.get('name', 'No item')) # 'name'不存在, show 'No item'\n",
    "print('a.setdefault(num2, 10101):', a.setdefault('num2', 10101)) # num2 不存在, 自動加入 'num2': 10101\n",
    "a"
   ]
  },
  {
   "cell_type": "code",
   "execution_count": 137,
   "metadata": {},
   "outputs": [
    {
     "data": {
      "text/plain": [
       "{'two': 2, 'one': 1, 'three': 3}"
      ]
     },
     "execution_count": 137,
     "metadata": {},
     "output_type": "execute_result"
    }
   ],
   "source": [
    "dict([('two', 2), ('one', 1), ('three', 3)]) # list of tuple"
   ]
  },
  {
   "cell_type": "code",
   "execution_count": 138,
   "metadata": {},
   "outputs": [
    {
     "data": {
      "text/plain": [
       "{'two': 2, 'one': 1, 'three': 3}"
      ]
     },
     "execution_count": 138,
     "metadata": {},
     "output_type": "execute_result"
    }
   ],
   "source": [
    "dict((('two', 2), ('one', 1), ('three', 3))) # tuple of tuple"
   ]
  },
  {
   "cell_type": "markdown",
   "metadata": {},
   "source": [
    "# 11-13"
   ]
  },
  {
   "cell_type": "code",
   "execution_count": 139,
   "metadata": {},
   "outputs": [
    {
     "name": "stdout",
     "output_type": "stream",
     "text": [
      "dict_items([('Stars', 'John Doe'), ('Starwars', 'Jedi')])\n",
      "[('Stars', 'John Doe'), ('Starwars', 'Jedi')] \n",
      "\n",
      "dict_keys(['Stars', 'Starwars'])\n",
      "['Stars', 'Starwars'] \n",
      "\n",
      "dict_values(['John Doe', 'Jedi'])\n",
      "['John Doe', 'Jedi']\n"
     ]
    }
   ],
   "source": [
    "dict1 = {'Stars':'John Doe','Starwars':'Jedi'}\n",
    "\n",
    "print(dict1.items())\n",
    "print(list(dict1.items()), '\\n')\n",
    "\n",
    "print(dict1.keys())\n",
    "print(list(dict1.keys()), '\\n')\n",
    "\n",
    "print(dict1.values())\n",
    "print(list(dict1.values()))"
   ]
  },
  {
   "cell_type": "markdown",
   "metadata": {},
   "source": [
    "# 11-14"
   ]
  },
  {
   "cell_type": "code",
   "execution_count": 140,
   "metadata": {},
   "outputs": [
    {
     "name": "stdout",
     "output_type": "stream",
     "text": [
      "update(a)\t: {'Stars': 'John Doe', 'Starwars': 'Jedi', 'name': '77', 'num': '85'}\n",
      "pop(\"name\")\t: {'Stars': 'John Doe', 'Starwars': 'Jedi', 'num': '85'}\n",
      "popitem()\t: {'Stars': 'John Doe', 'Starwars': 'Jedi'}\n"
     ]
    }
   ],
   "source": [
    "dict1 = {'Stars':'John Doe', 'Starwars':'Jedi'}\n",
    "a={'name':'77', 'num':'85'}\n",
    "\n",
    "dict1.update(a)\n",
    "print('update(a)\\t:', dict1)\n",
    "\n",
    "dict1.pop('name')\n",
    "print('pop(\"name\")\\t:', dict1)\n",
    "\n",
    "dict1.popitem()  # 保證以LIFO 順序傳回 Last In First Out, 'num':85\n",
    "print('popitem()\\t:', dict1)"
   ]
  },
  {
   "cell_type": "code",
   "execution_count": 141,
   "metadata": {},
   "outputs": [
    {
     "name": "stdout",
     "output_type": "stream",
     "text": [
      "d1\t\t= {'a': 'apple', 'b': 'banana'} \n",
      "\n",
      "d2 (d1.copy())  : {'a': 'apple', 'b': 'banana'}\n",
      "dict1 is d2\t: False \n",
      "\n",
      "d3 (d3=d1)\t: {'a': 'apple', 'b': 'banana'}\n",
      "d3 is d1\t: True\n"
     ]
    }
   ],
   "source": [
    "d1 ={'a': 'apple', 'b':'banana'}\n",
    "print('d1\\t\\t=', d1, '\\n')\n",
    "\n",
    "d2 = d1.copy()                           # copy has diff memory address\n",
    "print('d2 (d1.copy())  :', d2)\n",
    "print('dict1 is d2\\t:', dict1 is d2, '\\n')\n",
    "\n",
    "d3 = d1                                  # point to same address\n",
    "print('d3 (d3=d1)\\t:', d3)\n",
    "print('d3 is d1\\t:', d3 is d1)"
   ]
  },
  {
   "cell_type": "code",
   "execution_count": 142,
   "metadata": {},
   "outputs": [
    {
     "name": "stdout",
     "output_type": "stream",
     "text": [
      "d1 =  {'a': 'amazon', 'b': 'banana'}\n",
      "d2 =  {'a': 'apple', 'b': 'banana'}\n",
      "d3 =  {'a': 'amazon', 'b': 'banana'}\n"
     ]
    }
   ],
   "source": [
    "d3['a'] = 'amazon'                     # change d3.  d1 changed too\n",
    "\n",
    "print('d1 = ', d1)\n",
    "print('d2 = ', d2)\n",
    "print('d3 = ', d3)"
   ]
  },
  {
   "cell_type": "code",
   "execution_count": 143,
   "metadata": {},
   "outputs": [
    {
     "name": "stdout",
     "output_type": "stream",
     "text": [
      "******** for key in dic1 *******\n",
      "AAAA\n",
      "BBBB\n",
      "CCCC\n",
      "\n",
      "******** for key in dic1.keys() *******\n",
      "AAAA\n",
      "BBBB\n",
      "CCCC\n",
      "\n",
      "******** for key in dic1.items() *******\n",
      "('AAAA', 0)\n",
      "('BBBB', 4)\n",
      "('CCCC', 7)\n",
      "\n",
      "******** for k, v in dic1 *******\n",
      "AAAA 0\n",
      "BBBB 4\n",
      "CCCC 7\n"
     ]
    }
   ],
   "source": [
    "# tup1 = (a, 1, b, 2, c, 3)\n",
    "# lst1 = [a, 1, b, 2, c, 3]\n",
    "dic1 = {'AAAA':0 , 'BBBB':4, 'CCCC':7}\n",
    "\n",
    "print('******** for key in dic1 *******')\n",
    "for key in dic1:\n",
    "    print(key)\n",
    "    \n",
    "print('\\n******** for key in dic1.keys() *******')    \n",
    "for key in dic1.keys():\n",
    "    print (key)\n",
    "    \n",
    "print('\\n******** for key in dic1.items() *******')    \n",
    "for key in dic1.items():\n",
    "    print (key)\n",
    "    \n",
    "print('\\n******** for k, v in dic1 *******')    \n",
    "for k, v in dic1.items():\n",
    "    print (k, v)"
   ]
  },
  {
   "cell_type": "code",
   "execution_count": 144,
   "metadata": {},
   "outputs": [
    {
     "data": {
      "text/plain": [
       "{'l': 1, 's': 1, 'r': 1, 'e': 2, 't': 2}"
      ]
     },
     "execution_count": 144,
     "metadata": {},
     "output_type": "execute_result"
    }
   ],
   "source": [
    "word = 'letters'\n",
    "char_counts = {char: word.count(char) for char in set(word)}\n",
    "char_counts"
   ]
  },
  {
   "cell_type": "markdown",
   "metadata": {},
   "source": [
    "---"
   ]
  },
  {
   "cell_type": "markdown",
   "metadata": {},
   "source": [
    "# Module_12_集合(Set)\n",
    ">## 集合(Set)像移除值(Value)的字典, 留下獨一無二的Key"
   ]
  },
  {
   "cell_type": "code",
   "execution_count": 146,
   "metadata": {},
   "outputs": [],
   "source": [
    "a = set()  # 空集合 "
   ]
  },
  {
   "cell_type": "code",
   "execution_count": 145,
   "metadata": {},
   "outputs": [
    {
     "data": {
      "text/plain": [
       "{'apple', 'banana', 'orange', 'pear'}"
      ]
     },
     "execution_count": 145,
     "metadata": {},
     "output_type": "execute_result"
    }
   ],
   "source": [
    "basket = {'apple', 'orange', 'apple', 'pear', 'orange', 'banana'}\n",
    "basket\n",
    "#basket[1]    # error no ordered, 唯一"
   ]
  },
  {
   "cell_type": "code",
   "execution_count": 147,
   "metadata": {},
   "outputs": [
    {
     "data": {
      "text/plain": [
       "True"
      ]
     },
     "execution_count": 147,
     "metadata": {},
     "output_type": "execute_result"
    }
   ],
   "source": [
    "'orange' in basket"
   ]
  },
  {
   "cell_type": "code",
   "execution_count": 148,
   "metadata": {},
   "outputs": [
    {
     "data": {
      "text/plain": [
       "False"
      ]
     },
     "execution_count": 148,
     "metadata": {},
     "output_type": "execute_result"
    }
   ],
   "source": [
    "'grape' in basket"
   ]
  },
  {
   "cell_type": "code",
   "execution_count": 149,
   "metadata": {},
   "outputs": [
    {
     "data": {
      "text/plain": [
       "4"
      ]
     },
     "execution_count": 149,
     "metadata": {},
     "output_type": "execute_result"
    }
   ],
   "source": [
    "#len(set(\"apple\"))\n",
    "#print(set('apple'))\n",
    "len(set(\"apple\"))"
   ]
  },
  {
   "cell_type": "code",
   "execution_count": 150,
   "metadata": {},
   "outputs": [
    {
     "name": "stdout",
     "output_type": "stream",
     "text": [
      "{'66316666'} 1\n",
      "{'3', '6', '1'} 3\n",
      "<class 'set'>\n",
      "<class 'set'>\n"
     ]
    }
   ],
   "source": [
    "s1={'66316666'};\n",
    "s2=set('66316666')\n",
    "print(s1, len(s1))\n",
    "print(s2, len(s2))\n",
    "print(type(s1))\n",
    "print(type(s2))"
   ]
  },
  {
   "cell_type": "markdown",
   "metadata": {},
   "source": [
    "# 12-5"
   ]
  },
  {
   "cell_type": "code",
   "execution_count": 151,
   "metadata": {},
   "outputs": [
    {
     "data": {
      "text/plain": [
       "3"
      ]
     },
     "execution_count": 151,
     "metadata": {},
     "output_type": "execute_result"
    }
   ],
   "source": [
    "'this letters is beautiful'.count('e')"
   ]
  },
  {
   "cell_type": "code",
   "execution_count": 152,
   "metadata": {},
   "outputs": [
    {
     "name": "stdout",
     "output_type": "stream",
     "text": [
      "{'l', 'b', 'u', 'a', 'f', 'e', 'r', 's', 'i', 'h', ' ', 't'} \n",
      "\n"
     ]
    },
    {
     "data": {
      "text/plain": [
       "{'l': 2,\n",
       " 'b': 1,\n",
       " 'u': 2,\n",
       " 'a': 1,\n",
       " 'f': 1,\n",
       " 'e': 3,\n",
       " 'r': 1,\n",
       " 's': 3,\n",
       " 'i': 3,\n",
       " 'h': 1,\n",
       " ' ': 3,\n",
       " 't': 4}"
      ]
     },
     "execution_count": 152,
     "metadata": {},
     "output_type": "execute_result"
    }
   ],
   "source": [
    "char_counts = {}\n",
    "word = 'this letters is beautiful'\n",
    "print(set(word),'\\n')  # 取出唯一\n",
    "\n",
    "for char in set(word):\n",
    "    char_counts[char] = word.count(char)  # 因為唯一而會向後加(append)\n",
    "    \n",
    "char_counts"
   ]
  },
  {
   "cell_type": "code",
   "execution_count": 153,
   "metadata": {},
   "outputs": [
    {
     "name": "stdout",
     "output_type": "stream",
     "text": [
      "{'l', 'b', 'u', 'a', 'i', 'f', 's', 'r', 'e', ' ', 't'}\n"
     ]
    },
    {
     "data": {
      "text/plain": [
       "{'l': 2,\n",
       " 'b': 1,\n",
       " 'u': 2,\n",
       " 'a': 1,\n",
       " 'i': 2,\n",
       " 'f': 1,\n",
       " 's': 2,\n",
       " 'r': 1,\n",
       " 'e': 3,\n",
       " ' ': 2,\n",
       " 't': 3}"
      ]
     },
     "execution_count": 153,
     "metadata": {},
     "output_type": "execute_result"
    }
   ],
   "source": [
    "word='letters is beautiful'\n",
    "print(set(word))  # 唯一\n",
    "\n",
    "char_counts = {x:word.count(x) for x in set(word)}\n",
    "char_counts"
   ]
  },
  {
   "cell_type": "markdown",
   "metadata": {},
   "source": [
    "# no sequence, iterable"
   ]
  },
  {
   "cell_type": "code",
   "execution_count": 154,
   "metadata": {},
   "outputs": [
    {
     "name": "stdout",
     "output_type": "stream",
     "text": [
      "2 3 5 6 7 "
     ]
    }
   ],
   "source": [
    "for x in {6,5,2,3,7,3} :   \n",
    "    print (x, end = ' ') "
   ]
  },
  {
   "cell_type": "markdown",
   "metadata": {},
   "source": [
    "><img src=\".\\img\\set.png\"  style='height:450px; width:750px'>"
   ]
  },
  {
   "cell_type": "code",
   "execution_count": 155,
   "metadata": {},
   "outputs": [
    {
     "name": "stdout",
     "output_type": "stream",
     "text": [
      "a = {1, 2, 3},\t\tb = {1, 2, 3, 4}\n",
      "\n",
      "a | b\t\t\t=  {1, 2, 3, 4}\n",
      "a union b\t\t=  {1, 2, 3, 4} \n",
      "\n",
      "a & b\t\t\t=  {1, 2, 3}\n",
      "a intersection b\t=  {1, 2, 3} \n",
      "\n",
      "a - b\t\t\t=  set()\n",
      "a difference b\t\t=  set() \n",
      "\n",
      "b - a\t\t\t=  {4}\n",
      "b differnece a\t\t=  {4} \n",
      "\n",
      "a ^ b\t\t\t=  {4}\n",
      "a symmatric_differnece b=  {4} \n",
      "\n",
      "a <= b\t\t\t=  True\n",
      "a issubset b\t\t=  True \n",
      "\n",
      "a >= b\t\t\t=  False\n",
      "a issuperset b\t\t=  False\n",
      "a.isdisjoint(b)\t\t=  False\n",
      "b.isdisjoint(a)\t\t=  False \n",
      "\n"
     ]
    }
   ],
   "source": [
    "a = {1, 2, 3};  b = {1, 2, 3, 4}\n",
    "print(f'a = {a},\\t\\tb = {b}\\n')\n",
    "print('a | b\\t\\t\\t= ', a | b)                          # 聯集\n",
    "print('a union b\\t\\t= ', a.union(b), '\\n')             # 聯集\n",
    "\n",
    "print('a & b\\t\\t\\t= ', a & b)                           # 交集\n",
    "print('a intersection b\\t= ', a.intersection(b), '\\n')  # 交集\n",
    "\n",
    "print('a - b\\t\\t\\t= ', a - b)                           # diff\n",
    "print('a difference b\\t\\t= ', a.difference(b), '\\n')    # 交集\n",
    "\n",
    "print('b - a\\t\\t\\t= ', b - a)                           # diff\n",
    "print('b differnece a\\t\\t= ', b.difference(a), '\\n')    # 交集\n",
    "\n",
    "print('a ^ b\\t\\t\\t= ', a ^ b)                           # symmetric diff\n",
    "print('a symmatric_differnece b= ', a.symmetric_difference(b), '\\n')  # 交集\n",
    "\n",
    "print('a <= b\\t\\t\\t= ', a <= b)                         # sub\n",
    "print('a issubset b\\t\\t= ', a.issubset(b), '\\n')        # sub\n",
    "\n",
    "print('a >= b\\t\\t\\t= ', a >= b)                         # sub\n",
    "print('a issuperset b\\t\\t= ', a.issuperset(b))          # sub\n",
    "\n",
    "print('a.isdisjoint(b)\\t\\t= ', a.isdisjoint(b))          # 沒交集\n",
    "print('b.isdisjoint(a)\\t\\t= ', b.isdisjoint(a), '\\n')"
   ]
  },
  {
   "cell_type": "code",
   "execution_count": 156,
   "metadata": {},
   "outputs": [
    {
     "data": {
      "text/plain": [
       "{1, 2, 3, 4, 5}"
      ]
     },
     "execution_count": 156,
     "metadata": {},
     "output_type": "execute_result"
    }
   ],
   "source": [
    "a = {1,2,3}; b = {3,4,5};\n",
    "a.update(b);\n",
    "a"
   ]
  },
  {
   "cell_type": "code",
   "execution_count": 157,
   "metadata": {},
   "outputs": [
    {
     "data": {
      "text/plain": [
       "{3}"
      ]
     },
     "execution_count": 157,
     "metadata": {},
     "output_type": "execute_result"
    }
   ],
   "source": [
    "a = {1,2,3}; b = {3,4,5};\n",
    "a.intersection_update(b);\n",
    "a                         #傳回與 b集合的交集"
   ]
  },
  {
   "cell_type": "code",
   "execution_count": 158,
   "metadata": {},
   "outputs": [
    {
     "data": {
      "text/plain": [
       "{1, 2, 3}"
      ]
     },
     "execution_count": 158,
     "metadata": {},
     "output_type": "execute_result"
    }
   ],
   "source": [
    "a = {1,2,3}; b = {3,4,5};\n",
    "a.add(1)  # how about add(4)\n",
    "a"
   ]
  },
  {
   "cell_type": "code",
   "execution_count": 159,
   "metadata": {},
   "outputs": [
    {
     "data": {
      "text/plain": [
       "{2, 3}"
      ]
     },
     "execution_count": 159,
     "metadata": {},
     "output_type": "execute_result"
    }
   ],
   "source": [
    "a = {1,2,3}; b = {3,4,5};\n",
    "a.remove(1);\n",
    "a"
   ]
  },
  {
   "cell_type": "code",
   "execution_count": 160,
   "metadata": {},
   "outputs": [
    {
     "ename": "KeyError",
     "evalue": "4",
     "output_type": "error",
     "traceback": [
      "\u001b[1;31m---------------------------------------------------------------------------\u001b[0m",
      "\u001b[1;31mKeyError\u001b[0m                                  Traceback (most recent call last)",
      "\u001b[1;32m<ipython-input-160-74441341728b>\u001b[0m in \u001b[0;36m<module>\u001b[1;34m\u001b[0m\n\u001b[0;32m      1\u001b[0m \u001b[0ma\u001b[0m \u001b[1;33m=\u001b[0m \u001b[1;33m{\u001b[0m\u001b[1;36m1\u001b[0m\u001b[1;33m,\u001b[0m\u001b[1;36m2\u001b[0m\u001b[1;33m,\u001b[0m\u001b[1;36m3\u001b[0m\u001b[1;33m}\u001b[0m\u001b[1;33m;\u001b[0m \u001b[0mb\u001b[0m \u001b[1;33m=\u001b[0m \u001b[1;33m{\u001b[0m\u001b[1;36m3\u001b[0m\u001b[1;33m,\u001b[0m\u001b[1;36m4\u001b[0m\u001b[1;33m,\u001b[0m\u001b[1;36m5\u001b[0m\u001b[1;33m}\u001b[0m\u001b[1;33m;\u001b[0m\u001b[1;33m\u001b[0m\u001b[1;33m\u001b[0m\u001b[0m\n\u001b[1;32m----> 2\u001b[1;33m \u001b[0ma\u001b[0m\u001b[1;33m.\u001b[0m\u001b[0mremove\u001b[0m\u001b[1;33m(\u001b[0m\u001b[1;36m4\u001b[0m\u001b[1;33m)\u001b[0m\u001b[1;33m;\u001b[0m\u001b[1;33m\u001b[0m\u001b[1;33m\u001b[0m\u001b[0m\n\u001b[0m\u001b[0;32m      3\u001b[0m \u001b[0ma\u001b[0m\u001b[1;33m\u001b[0m\u001b[1;33m\u001b[0m\u001b[0m\n",
      "\u001b[1;31mKeyError\u001b[0m: 4"
     ]
    }
   ],
   "source": [
    "a = {1,2,3}; b = {3,4,5};\n",
    "a.remove(4);\n",
    "a"
   ]
  },
  {
   "cell_type": "code",
   "execution_count": 162,
   "metadata": {},
   "outputs": [
    {
     "data": {
      "text/plain": [
       "{1, 2, 3}"
      ]
     },
     "execution_count": 162,
     "metadata": {},
     "output_type": "execute_result"
    }
   ],
   "source": [
    "a = {1,2,3}; b = {3,4,5};\n",
    "a.discard(4);\n",
    "a  # 如果 elem 存在於 s ，則將其移除。此方法不會觸發 KeyError 的例外"
   ]
  },
  {
   "cell_type": "code",
   "execution_count": 169,
   "metadata": {},
   "outputs": [
    {
     "data": {
      "text/plain": [
       "{-1, 1, 2, 3}"
      ]
     },
     "execution_count": 169,
     "metadata": {},
     "output_type": "execute_result"
    }
   ],
   "source": [
    "a = {-1, 0, 1, 2, 3}; b = {3,4,5};\n",
    "a.pop();    # 小心 沒有順序\n",
    "a"
   ]
  },
  {
   "cell_type": "markdown",
   "metadata": {},
   "source": [
    "><img src=\".\\img\\list-tuple-dict-set.png\"  style='height:300px; width:850px'>"
   ]
  },
  {
   "cell_type": "markdown",
   "metadata": {},
   "source": [
    "# 12-16"
   ]
  },
  {
   "cell_type": "code",
   "execution_count": 170,
   "metadata": {},
   "outputs": [
    {
     "data": {
      "text/plain": [
       "{1, 4, 7, 10, 13, 16, 19, 22}"
      ]
     },
     "execution_count": 170,
     "metadata": {},
     "output_type": "execute_result"
    }
   ],
   "source": [
    "s = {num for num in range(1, 25) if num % 3 == 1}\n",
    "s"
   ]
  },
  {
   "cell_type": "code",
   "execution_count": null,
   "metadata": {},
   "outputs": [],
   "source": []
  }
 ],
 "metadata": {
  "kernelspec": {
   "display_name": "Python 3",
   "language": "python",
   "name": "python3"
  },
  "language_info": {
   "codemirror_mode": {
    "name": "ipython",
    "version": 3
   },
   "file_extension": ".py",
   "mimetype": "text/x-python",
   "name": "python",
   "nbconvert_exporter": "python",
   "pygments_lexer": "ipython3",
   "version": "3.8.3"
  }
 },
 "nbformat": 4,
 "nbformat_minor": 4
}
