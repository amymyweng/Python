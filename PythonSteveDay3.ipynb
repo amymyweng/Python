{
 "cells": [
  {
   "cell_type": "markdown",
   "metadata": {},
   "source": [
    "# Module_13_函數(Function)設計\n",
    "## 使用函數/函式的好處 :\n",
    ">### 軟體重複使用\n",
    ">### 功能切割，模組化，結構化\n",
    ">### 簡化程式提高程式的可讀性\n",
    ">### 易於維護及管理\n",
    ">### 讓程式偵錯更容易\n",
    "\n",
    "><img src=\".\\img\\func.png\"  style='height:450px; width:700px'>"
   ]
  },
  {
   "cell_type": "markdown",
   "metadata": {},
   "source": [
    "# Python 程式架構如下(直譯式 : 一行一行解譯):\n",
    ">### * 程式在一開始執行時, 作業系統會先去找 __main__ program,\n",
    ">### * 當一個程式一被 \"載入\" 時, 如果沒有 if __name__ == __main__: 會直接載如 \"執行\"\n",
    ">### 有了 if __name__..., OS知道不是 main , 就只 \"載入\" 等待呼叫"
   ]
  },
  {
   "cell_type": "code",
   "execution_count": 1,
   "metadata": {},
   "outputs": [
    {
     "name": "stdout",
     "output_type": "stream",
     "text": [
      "hi\n",
      "hi return : None\n"
     ]
    }
   ],
   "source": [
    "def hi():\n",
    "     print('hi')\n",
    "\n",
    "# #呼叫function\n",
    "print('hi return :', hi())"
   ]
  },
  {
   "cell_type": "markdown",
   "metadata": {},
   "source": [
    "## 如果函數內沒有明確的使用return 敘述，預設為“return None”"
   ]
  },
  {
   "cell_type": "code",
   "execution_count": 2,
   "metadata": {},
   "outputs": [
    {
     "name": "stdout",
     "output_type": "stream",
     "text": [
      "面積： 1000\n"
     ]
    }
   ],
   "source": [
    "x = 10; y = 100\n",
    "def area(x, y):\n",
    "    print(\"面積：\", x * y)\n",
    "\n",
    "area(x, y)"
   ]
  },
  {
   "cell_type": "code",
   "execution_count": 5,
   "metadata": {},
   "outputs": [
    {
     "name": "stdout",
     "output_type": "stream",
     "text": [
      "hello\n"
     ]
    },
    {
     "data": {
      "text/plain": [
       "15"
      ]
     },
     "execution_count": 5,
     "metadata": {},
     "output_type": "execute_result"
    }
   ],
   "source": [
    "# \"print\" is a function too\n",
    "# function always has reture value even none\n",
    "\n",
    "#物件導向是建置在以函數為基礎(function base)的環境\n",
    "# obj.xxx()\n",
    "'a, b, c'.split(',')  # method\n",
    "\n",
    "# xxx(obj)          # function\n",
    "print('hello')\n",
    "sum([1,5,9])"
   ]
  },
  {
   "cell_type": "code",
   "execution_count": 1,
   "metadata": {
    "scrolled": true
   },
   "outputs": [
    {
     "name": "stdout",
     "output_type": "stream",
     "text": [
      "quack\n",
      "\n",
      "quack\n",
      "quack\n",
      "quack\n",
      "\n",
      "quack\n",
      "quack\n",
      "quack\n"
     ]
    }
   ],
   "source": [
    "# %run mod13/func_def1.py\n",
    "# Function definition\n",
    "import winsound\n",
    "\n",
    "class abc:\n",
    "    ''' This function print duck sound ''' \n",
    "    def make_a_sound():\n",
    "        ''' make a sound of quack '''\n",
    "        winsound.Beep(400, 1000)\n",
    "        print('quack')\n",
    "\n",
    "# Call function\n",
    "\n",
    "if __name__ == '__main__':\n",
    "    abc.make_a_sound()\n",
    "    print()\n",
    "    for i in range(3):\n",
    "        abc.make_a_sound()\n",
    "        \n",
    "    print()\n",
    "    \n",
    "    for _ in range(3):  #因為 i 沒用到\n",
    "        abc.make_a_sound()"
   ]
  },
  {
   "cell_type": "code",
   "execution_count": 8,
   "metadata": {
    "scrolled": true
   },
   "outputs": [
    {
     "data": {
      "text/plain": [
       "\u001b[1;31mSignature:\u001b[0m \u001b[0mabc\u001b[0m\u001b[1;33m.\u001b[0m\u001b[0mmake_a_sound\u001b[0m\u001b[1;33m(\u001b[0m\u001b[1;33m)\u001b[0m\u001b[1;33m\u001b[0m\u001b[1;33m\u001b[0m\u001b[0m\n",
       "\u001b[1;31mDocstring:\u001b[0m make a sound of quack \n",
       "\u001b[1;31mFile:\u001b[0m      c:\\users\\student\\2_python3days\\<ipython-input-7-61a676bfe4dd>\n",
       "\u001b[1;31mType:\u001b[0m      function\n"
      ]
     },
     "metadata": {},
     "output_type": "display_data"
    }
   ],
   "source": [
    "# same as shift tab\n",
    "abc.make_a_sound?"
   ]
  },
  {
   "cell_type": "code",
   "execution_count": 9,
   "metadata": {},
   "outputs": [
    {
     "data": {
      "text/plain": [
       "\u001b[1;31mInit signature:\u001b[0m \u001b[0mabc\u001b[0m\u001b[1;33m(\u001b[0m\u001b[1;33m)\u001b[0m\u001b[1;33m\u001b[0m\u001b[1;33m\u001b[0m\u001b[0m\n",
       "\u001b[1;31mDocstring:\u001b[0m      This function print duck sound \n",
       "\u001b[1;31mType:\u001b[0m           type\n",
       "\u001b[1;31mSubclasses:\u001b[0m     \n"
      ]
     },
     "metadata": {},
     "output_type": "display_data"
    }
   ],
   "source": [
    "abc?"
   ]
  },
  {
   "cell_type": "code",
   "execution_count": 10,
   "metadata": {},
   "outputs": [
    {
     "data": {
      "text/plain": [
       "\u001b[1;31mDocstring:\u001b[0m\n",
       "print(value, ..., sep=' ', end='\\n', file=sys.stdout, flush=False)\n",
       "\n",
       "Prints the values to a stream, or to sys.stdout by default.\n",
       "Optional keyword arguments:\n",
       "file:  a file-like object (stream); defaults to the current sys.stdout.\n",
       "sep:   string inserted between values, default a space.\n",
       "end:   string appended after the last value, default a newline.\n",
       "flush: whether to forcibly flush the stream.\n",
       "\u001b[1;31mType:\u001b[0m      builtin_function_or_method\n"
      ]
     },
     "metadata": {},
     "output_type": "display_data"
    }
   ],
   "source": [
    "print?"
   ]
  },
  {
   "cell_type": "markdown",
   "metadata": {},
   "source": [
    "# 13-9, 10, 11"
   ]
  },
  {
   "cell_type": "markdown",
   "metadata": {},
   "source": [
    "## Python is call by assignment,  使用C的Call-by-value的風格"
   ]
  },
  {
   "cell_type": "code",
   "execution_count": 11,
   "metadata": {},
   "outputs": [
    {
     "name": "stdout",
     "output_type": "stream",
     "text": [
      "myvar global id\t\t\t: 140720316511088\n",
      "In function, before change\t: 20 \n",
      "\n",
      "myvar local id before change\t: 140720316511088\n",
      "myvar local id after change\t: 140720316512048\n",
      "In function, after change\t: 50 \n",
      "\n",
      "Outside function\t\t: 20\n"
     ]
    }
   ],
   "source": [
    "# %run mod13/argument1.py\n",
    "# not require return 'Global and local'\n",
    "# Function definition\n",
    "def changeme(myvar):\n",
    "    print('In function, before change\\t:', myvar, '\\n')   # myvar = 20\n",
    "    print('myvar local id before change\\t:', id(myvar))\n",
    "\n",
    "    myvar = 50                                      # only in local\n",
    "    print('myvar local id after change\\t:', id(myvar))\n",
    "    print('In function, after change\\t:', myvar, '\\n')    # myvar = 50 define myvar\n",
    "    \n",
    "# Main Call function\n",
    "myvar = 20\n",
    "print('myvar global id\\t\\t\\t:', id(myvar))\n",
    "changeme(myvar)\n",
    "print('Outside function\\t\\t:', myvar)               # var = 20"
   ]
  },
  {
   "cell_type": "markdown",
   "metadata": {},
   "source": [
    "![CallByValue](.\\img\\CallByValue3.png)"
   ]
  },
  {
   "cell_type": "code",
   "execution_count": 12,
   "metadata": {
    "scrolled": true
   },
   "outputs": [
    {
     "name": "stdout",
     "output_type": "stream",
     "text": [
      "myvar global id\t\t\t: 2009290176392\n",
      "myvar local id before change\t: 2009290176392\n",
      "In function, before change\t: [10, 20, 30] \n",
      "\n",
      "myvar local id after change\t: 2009290176392\n",
      "In function, after change\t: [10, 20, 50]\n",
      "Outside function\t\t: [10, 20, 50]\n"
     ]
    }
   ],
   "source": [
    "# C 的指標陣列(array of pointer)\n",
    "# %run mod13/argument2.py\n",
    "# not require return 'Global and local'\n",
    "# Function definition\n",
    "def changeme(mylist):\n",
    "    print('myvar local id before change\\t:', id(mylist))\n",
    "    print('In function, before change\\t:', mylist, '\\n')\n",
    "    mylist[2] = 50\n",
    "    print('myvar local id after change\\t:', id(mylist))\n",
    "    print('In function, after change\\t:', mylist)\n",
    "\n",
    "# Main Call function\n",
    "mylist = [10, 20, 30]\n",
    "print('myvar global id\\t\\t\\t:', id(mylist))\n",
    "changeme(mylist)\n",
    "print('Outside function\\t\\t:',mylist)"
   ]
  },
  {
   "cell_type": "code",
   "execution_count": 13,
   "metadata": {},
   "outputs": [
    {
     "name": "stdout",
     "output_type": "stream",
     "text": [
      "Hello Python\n",
      "Python Programming\n",
      "\n",
      "sum_nums()\t: (55, 700)\n",
      "total, multi\t: 55 700\n"
     ]
    }
   ],
   "source": [
    "# C 的指標陣列(array of pointer)\n",
    "# %run mod13/func_def2.py\n",
    "# Function definition\n",
    "\n",
    "def printme(pstr):\n",
    "    \"\"\"This function print a string\"\"\"\n",
    "    print(pstr)\n",
    "\n",
    "def sum_nums(n1, n2):\n",
    "    \"\"\"This function return sum of two numbers\"\"\"\n",
    "    return n1+n2, n1*n2                      # 可以使用元組(tuple) 格式傳回多個資料 return tuple, 2 values\n",
    "    \n",
    "# Call function\n",
    "printme('Hello Python')\n",
    "printme('Python Programming\\n')\n",
    "\n",
    "total, multi = sum_nums(35, 20)\n",
    "\n",
    "print('sum_nums()\\t:',sum_nums(35, 20))\n",
    "print('total, multi\\t:',total, multi)"
   ]
  },
  {
   "cell_type": "markdown",
   "metadata": {},
   "source": [
    "---"
   ]
  },
  {
   "cell_type": "markdown",
   "metadata": {},
   "source": [
    "# Module_14_函數(Function)引數(argument), 複製到function內的為parameter"
   ]
  },
  {
   "cell_type": "markdown",
   "metadata": {},
   "source": [
    "### p14-4 位置引數"
   ]
  },
  {
   "cell_type": "code",
   "execution_count": 1,
   "metadata": {},
   "outputs": [
    {
     "name": "stdout",
     "output_type": "stream",
     "text": [
      "test\n"
     ]
    }
   ],
   "source": [
    "# Function definition\n",
    "def printme(pstr):\n",
    "    print(pstr)\n",
    "\n",
    "# Call function\n",
    "printme('test')"
   ]
  },
  {
   "cell_type": "code",
   "execution_count": 2,
   "metadata": {},
   "outputs": [
    {
     "name": "stdout",
     "output_type": "stream",
     "text": [
      "0.06363636363636363\n",
      "35.49\n",
      "45.0\n"
     ]
    }
   ],
   "source": [
    "def my_function(x, y, z=1.5):\n",
    "    if z > 1:\n",
    "        return z * (x + y)\n",
    "    else:\n",
    "        return z / (x + y)\n",
    "\n",
    "print(my_function(5, 6, z=0.7))\n",
    "print(my_function(3.14, 7, 3.5))\n",
    "print(my_function(10, 20))"
   ]
  },
  {
   "cell_type": "code",
   "execution_count": 3,
   "metadata": {
    "scrolled": true
   },
   "outputs": [
    {
     "name": "stdout",
     "output_type": "stream",
     "text": [
      "Area = 120\n"
     ]
    },
    {
     "ename": "TypeError",
     "evalue": "area() missing 1 required positional argument: 'width'",
     "output_type": "error",
     "traceback": [
      "\u001b[1;31m---------------------------------------------------------------------------\u001b[0m",
      "\u001b[1;31mTypeError\u001b[0m                                 Traceback (most recent call last)",
      "\u001b[1;32m<ipython-input-3-fa04ee8be948>\u001b[0m in \u001b[0;36m<module>\u001b[1;34m\u001b[0m\n\u001b[0;32m      9\u001b[0m \u001b[0mprint\u001b[0m\u001b[1;33m(\u001b[0m\u001b[1;34m'Area ='\u001b[0m\u001b[1;33m,\u001b[0m \u001b[0mresult\u001b[0m\u001b[1;33m)\u001b[0m\u001b[1;33m\u001b[0m\u001b[1;33m\u001b[0m\u001b[0m\n\u001b[0;32m     10\u001b[0m \u001b[1;33m\u001b[0m\u001b[0m\n\u001b[1;32m---> 11\u001b[1;33m \u001b[0mresult\u001b[0m \u001b[1;33m=\u001b[0m \u001b[0marea\u001b[0m\u001b[1;33m(\u001b[0m\u001b[1;36m8\u001b[0m\u001b[1;33m)\u001b[0m  \u001b[1;31m# error. argument missing\u001b[0m\u001b[1;33m\u001b[0m\u001b[1;33m\u001b[0m\u001b[0m\n\u001b[0m",
      "\u001b[1;31mTypeError\u001b[0m: area() missing 1 required positional argument: 'width'"
     ]
    }
   ],
   "source": [
    "# 位置引數\n",
    "# %run mod14/require_arg.py\n",
    "# Function definition\n",
    "def area(length, width):  # parameter\n",
    "    return length*width\n",
    "\n",
    "# Call function\n",
    "result = area(15, 8)\n",
    "print('Area =', result)\n",
    "\n",
    "result = area(8)  # error. argument missing"
   ]
  },
  {
   "cell_type": "markdown",
   "metadata": {},
   "source": [
    "### p14-6 關鍵字引數"
   ]
  },
  {
   "cell_type": "code",
   "execution_count": 4,
   "metadata": {},
   "outputs": [
    {
     "name": "stdout",
     "output_type": "stream",
     "text": [
      "DB Name:\t MSSQL\n",
      "Port:\t\t 1433\n",
      "DB Name:\t MySQL\n",
      "Port:\t\t 3306\n"
     ]
    }
   ],
   "source": [
    "# 關鍵字引數\n",
    "# Function definition\n",
    "def printinfo(dbname, port):\n",
    "    print('DB Name:\\t', dbname)\n",
    "    print('Port:\\t\\t', port)\n",
    "\n",
    "# Call function\n",
    "printinfo('MSSQL', 1433)    # postional\n",
    "printinfo(port=3306, dbname='MySQL') # key word argumant"
   ]
  },
  {
   "cell_type": "code",
   "execution_count": 5,
   "metadata": {
    "scrolled": true
   },
   "outputs": [
    {
     "name": "stdout",
     "output_type": "stream",
     "text": [
      "Name:\t Harris\n",
      "Age:\t 40 \n",
      "\n",
      "Name:\t Mary\n",
      "Age:\t 20 \n",
      "\n"
     ]
    }
   ],
   "source": [
    "# %run mod14/keyword_arg.py\n",
    "# Function definition\n",
    "def printinfo(name, age):\n",
    "    print('Name:\\t', name)\n",
    "    print('Age:\\t', age, '\\n')\n",
    "\n",
    "# MAIN\n",
    "# Call function\n",
    "printinfo('Harris', 40)          # positional \n",
    "printinfo(age=20, name='Mary')  # keyword"
   ]
  },
  {
   "cell_type": "markdown",
   "metadata": {},
   "source": [
    "### p14-7 預設引數"
   ]
  },
  {
   "cell_type": "code",
   "execution_count": 7,
   "metadata": {},
   "outputs": [
    {
     "ename": "SyntaxError",
     "evalue": "positional argument follows keyword argument (<ipython-input-7-c67030ddebcb>, line 2)",
     "output_type": "error",
     "traceback": [
      "\u001b[1;36m  File \u001b[1;32m\"<ipython-input-7-c67030ddebcb>\"\u001b[1;36m, line \u001b[1;32m2\u001b[0m\n\u001b[1;33m    print(end=' ','abc')\u001b[0m\n\u001b[1;37m                  ^\u001b[0m\n\u001b[1;31mSyntaxError\u001b[0m\u001b[1;31m:\u001b[0m positional argument follows keyword argument\n"
     ]
    }
   ],
   "source": [
    "print('abc', end=' ')\n",
    "print(end=' ','abc')"
   ]
  },
  {
   "cell_type": "code",
   "execution_count": 8,
   "metadata": {},
   "outputs": [
    {
     "data": {
      "text/plain": [
       "60"
      ]
     },
     "execution_count": 8,
     "metadata": {},
     "output_type": "execute_result"
    }
   ],
   "source": [
    "def sum(a, b, c = 0):\n",
    "    return a + b + c\n",
    "\n",
    "sum(c = 30, a = 10, b = 20)"
   ]
  },
  {
   "cell_type": "code",
   "execution_count": 9,
   "metadata": {},
   "outputs": [
    {
     "name": "stdout",
     "output_type": "stream",
     "text": [
      "Hello world  \n",
      "Hi  Jack  \n",
      "Hi  Jack  Hi  Jack  \n",
      "Hi world  Hi world  Hi world  \n",
      "Hi sky  Hi sky  Hi sky  \n"
     ]
    }
   ],
   "source": [
    "# 函式的參數\n",
    "def fun(s1, s2='world', count=1):\n",
    "    s = s1+' ' + s2+ '  '\n",
    "    print(s * count)\n",
    "\n",
    "fun('Hello')\n",
    "fun('Hi',' Jack')\n",
    "fun('Hi',' Jack', 2)\n",
    "fun('Hi', count=3)\n",
    "fun('Hi', count=3, s2='sky')"
   ]
  },
  {
   "cell_type": "code",
   "execution_count": null,
   "metadata": {},
   "outputs": [],
   "source": [
    "# Function definition\n",
    "def printinfo(tblname, dbname='MySQL', port=3306):\n",
    "    print('Table Name:\\t', tblname)\n",
    "    print('DB Name:\\t', dbname)\n",
    "    print('Port:\\t\\t', port, '\\n')\n",
    "\n",
    "printinfo('person')                            # 1 positional argument\n",
    "printinfo(tblname='person')                    # 1 keyword argument"
   ]
  },
  {
   "cell_type": "code",
   "execution_count": 10,
   "metadata": {},
   "outputs": [
    {
     "ename": "TypeError",
     "evalue": "printinfo() got an unexpected keyword argument 'port'",
     "output_type": "error",
     "traceback": [
      "\u001b[1;31m---------------------------------------------------------------------------\u001b[0m",
      "\u001b[1;31mTypeError\u001b[0m                                 Traceback (most recent call last)",
      "\u001b[1;32m<ipython-input-10-92cf88d46ace>\u001b[0m in \u001b[0;36m<module>\u001b[1;34m\u001b[0m\n\u001b[1;32m----> 1\u001b[1;33m \u001b[0mprintinfo\u001b[0m\u001b[1;33m(\u001b[0m\u001b[0mport\u001b[0m\u001b[1;33m=\u001b[0m\u001b[1;36m3330\u001b[0m\u001b[1;33m,\u001b[0m \u001b[0mtblname\u001b[0m\u001b[1;33m=\u001b[0m\u001b[1;34m'products'\u001b[0m\u001b[1;33m)\u001b[0m    \u001b[1;31m# 2 keyword arguments\u001b[0m\u001b[1;33m\u001b[0m\u001b[1;33m\u001b[0m\u001b[0m\n\u001b[0m",
      "\u001b[1;31mTypeError\u001b[0m: printinfo() got an unexpected keyword argument 'port'"
     ]
    }
   ],
   "source": [
    "printinfo(port=3330, tblname='products')    # 2 keyword arguments"
   ]
  },
  {
   "cell_type": "code",
   "execution_count": null,
   "metadata": {},
   "outputs": [],
   "source": [
    "printinfo('person', 'MSSQL', 1433)          # 3 positional arguments"
   ]
  },
  {
   "cell_type": "code",
   "execution_count": 11,
   "metadata": {},
   "outputs": [
    {
     "ename": "TypeError",
     "evalue": "printinfo() got an unexpected keyword argument 'port'",
     "output_type": "error",
     "traceback": [
      "\u001b[1;31m---------------------------------------------------------------------------\u001b[0m",
      "\u001b[1;31mTypeError\u001b[0m                                 Traceback (most recent call last)",
      "\u001b[1;32m<ipython-input-11-b7eb368b897d>\u001b[0m in \u001b[0;36m<module>\u001b[1;34m\u001b[0m\n\u001b[1;32m----> 1\u001b[1;33m \u001b[0mprintinfo\u001b[0m\u001b[1;33m(\u001b[0m\u001b[1;34m'products'\u001b[0m\u001b[1;33m,\u001b[0m \u001b[0mport\u001b[0m\u001b[1;33m=\u001b[0m\u001b[1;36m3330\u001b[0m\u001b[1;33m)\u001b[0m            \u001b[1;31m# 1 positional, 1 keyword\u001b[0m\u001b[1;33m\u001b[0m\u001b[1;33m\u001b[0m\u001b[0m\n\u001b[0m",
      "\u001b[1;31mTypeError\u001b[0m: printinfo() got an unexpected keyword argument 'port'"
     ]
    }
   ],
   "source": [
    "printinfo('products', port=3330)            # 1 positional, 1 keyword "
   ]
  },
  {
   "cell_type": "code",
   "execution_count": 12,
   "metadata": {},
   "outputs": [
    {
     "name": "stdout",
     "output_type": "stream",
     "text": [
      "Name: Calvin\n",
      "Age 50 \n",
      "\n",
      "Name: Calvin\n",
      "Age 35 \n",
      "\n"
     ]
    }
   ],
   "source": [
    "# %run mod14/default_arg.py\n",
    "# Function definition \n",
    "def printinfo(name, age=35):\n",
    "    print('Name:', name)\n",
    "    print('Age', age, '\\n')\n",
    "\n",
    "# MAIN\n",
    "# Call function\n",
    "printinfo(age=50, name='Calvin')   # age is 50\n",
    "printinfo(name='Calvin')           # age is 35"
   ]
  },
  {
   "cell_type": "markdown",
   "metadata": {},
   "source": [
    "### p14-9 預設引數 錯誤用法"
   ]
  },
  {
   "cell_type": "code",
   "execution_count": 13,
   "metadata": {},
   "outputs": [
    {
     "ename": "TypeError",
     "evalue": "printinfo() missing 1 required positional argument: 'name'",
     "output_type": "error",
     "traceback": [
      "\u001b[1;31m---------------------------------------------------------------------------\u001b[0m",
      "\u001b[1;31mTypeError\u001b[0m                                 Traceback (most recent call last)",
      "\u001b[1;32m<ipython-input-13-10b54ec728ed>\u001b[0m in \u001b[0;36m<module>\u001b[1;34m\u001b[0m\n\u001b[0;32m      4\u001b[0m     \u001b[0mprint\u001b[0m\u001b[1;33m(\u001b[0m\u001b[1;34m'Age'\u001b[0m\u001b[1;33m,\u001b[0m \u001b[0mage\u001b[0m\u001b[1;33m)\u001b[0m\u001b[1;33m\u001b[0m\u001b[1;33m\u001b[0m\u001b[0m\n\u001b[0;32m      5\u001b[0m \u001b[1;33m\u001b[0m\u001b[0m\n\u001b[1;32m----> 6\u001b[1;33m \u001b[0mprintinfo\u001b[0m\u001b[1;33m(\u001b[0m\u001b[1;33m)\u001b[0m  \u001b[1;31m# error\u001b[0m\u001b[1;33m\u001b[0m\u001b[1;33m\u001b[0m\u001b[0m\n\u001b[0m",
      "\u001b[1;31mTypeError\u001b[0m: printinfo() missing 1 required positional argument: 'name'"
     ]
    }
   ],
   "source": [
    "# required argument missing\n",
    "def printinfo(name, age=35):\n",
    "    print('Name:', name)\n",
    "    print('Age', age)\n",
    "\n",
    "printinfo()  # error"
   ]
  },
  {
   "cell_type": "code",
   "execution_count": 14,
   "metadata": {},
   "outputs": [
    {
     "ename": "SyntaxError",
     "evalue": "positional argument follows keyword argument (<ipython-input-14-2074ee1f2414>, line 7)",
     "output_type": "error",
     "traceback": [
      "\u001b[1;36m  File \u001b[1;32m\"<ipython-input-14-2074ee1f2414>\"\u001b[1;36m, line \u001b[1;32m7\u001b[0m\n\u001b[1;33m    printinfo(port=8888, 'person')\u001b[0m\n\u001b[1;37m                         ^\u001b[0m\n\u001b[1;31mSyntaxError\u001b[0m\u001b[1;31m:\u001b[0m positional argument follows keyword argument\n"
     ]
    }
   ],
   "source": [
    "# positional after keyword argument\n",
    "def printinfo(tblname, dbname='MySQL', port=3306):\n",
    "    print('Table Name:', tblname)\n",
    "    print('DB Name:', dbname)\n",
    "    print('Port:', port)\n",
    "    \n",
    "printinfo(port=8888, 'person')  "
   ]
  },
  {
   "cell_type": "code",
   "execution_count": 15,
   "metadata": {},
   "outputs": [
    {
     "ename": "TypeError",
     "evalue": "printinfo() got multiple values for argument 'tblname'",
     "output_type": "error",
     "traceback": [
      "\u001b[1;31m---------------------------------------------------------------------------\u001b[0m",
      "\u001b[1;31mTypeError\u001b[0m                                 Traceback (most recent call last)",
      "\u001b[1;32m<ipython-input-15-921716d72f88>\u001b[0m in \u001b[0;36m<module>\u001b[1;34m\u001b[0m\n\u001b[0;32m      5\u001b[0m     \u001b[0mprint\u001b[0m\u001b[1;33m(\u001b[0m\u001b[1;34m'Port:'\u001b[0m\u001b[1;33m,\u001b[0m \u001b[0mport\u001b[0m\u001b[1;33m)\u001b[0m\u001b[1;33m\u001b[0m\u001b[1;33m\u001b[0m\u001b[0m\n\u001b[0;32m      6\u001b[0m \u001b[1;33m\u001b[0m\u001b[0m\n\u001b[1;32m----> 7\u001b[1;33m \u001b[0mprintinfo\u001b[0m\u001b[1;33m(\u001b[0m\u001b[1;34m'person'\u001b[0m\u001b[1;33m,\u001b[0m \u001b[0mtblname\u001b[0m\u001b[1;33m=\u001b[0m\u001b[1;34m'products'\u001b[0m\u001b[1;33m)\u001b[0m\u001b[1;33m\u001b[0m\u001b[1;33m\u001b[0m\u001b[0m\n\u001b[0m",
      "\u001b[1;31mTypeError\u001b[0m: printinfo() got multiple values for argument 'tblname'"
     ]
    }
   ],
   "source": [
    "# duplicate arguments 2 tblnames\n",
    "def printinfo(tblname, dbname='MySQL', port=3306):\n",
    "    print('Table Name:', tblname)\n",
    "    print('DB Name:', dbname)\n",
    "    print('Port:', port)\n",
    "    \n",
    "printinfo('person', tblname='products')     "
   ]
  },
  {
   "cell_type": "markdown",
   "metadata": {},
   "source": [
    "# 14-11"
   ]
  },
  {
   "cell_type": "markdown",
   "metadata": {},
   "source": [
    "## 用*炸開/收集 位置arguments"
   ]
  },
  {
   "cell_type": "code",
   "execution_count": 16,
   "metadata": {},
   "outputs": [
    {
     "name": "stdout",
     "output_type": "stream",
     "text": [
      "(1, 2, 3, 4, 5)\n",
      "15\n"
     ]
    }
   ],
   "source": [
    "# 參數名稱前面加上*，可以接受所有剩餘的傳入資料(位置型參數)，產生元組 tuple\n",
    "\n",
    "def count(*add_all):    # *args\n",
    "    print(add_all)      #(1, 2, 3, 4, 5)\n",
    "    count = 0\n",
    "    for i in add_all:\n",
    "        count += i\n",
    "    return count\n",
    "\n",
    "print(count(1, 2, 3, 4, 5))"
   ]
  },
  {
   "cell_type": "code",
   "execution_count": 17,
   "metadata": {},
   "outputs": [
    {
     "name": "stdout",
     "output_type": "stream",
     "text": [
      "Output is: \n",
      "10\n",
      "\n",
      "Output is: \n",
      "70\n",
      "60\n",
      "50\n",
      "40\n",
      "\n"
     ]
    }
   ],
   "source": [
    "# Function definition varlen_arg.py\n",
    "def printinfo(arg1, *vartuple):\n",
    "    print('Output is: ')\n",
    "    print(arg1)\n",
    "    for var in vartuple:\n",
    "        print(var)\n",
    "    print()\n",
    "\n",
    "printinfo(10)\n",
    "printinfo(70, 60, 50, 40)"
   ]
  },
  {
   "cell_type": "markdown",
   "metadata": {},
   "source": [
    "## 用**炸開/收集 關鍵字arguments"
   ]
  },
  {
   "cell_type": "code",
   "execution_count": 18,
   "metadata": {},
   "outputs": [
    {
     "name": "stdout",
     "output_type": "stream",
     "text": [
      "{'name': 'Tom', 'age': 30}\n",
      "<class 'dict'>\n"
     ]
    }
   ],
   "source": [
    "# 參數名稱前面加上**，可以接受所有剩餘的傳入資料(關鍵字參數)，產生字典\n",
    "\n",
    "def info(**dict):                # **kwargs\n",
    "    print(dict)                  # {'name': 'Tom', 'age': 30}\n",
    "    print(type(dict))            # dict\n",
    "    \n",
    "info(name=\"Tom\", age=30)"
   ]
  },
  {
   "cell_type": "code",
   "execution_count": 19,
   "metadata": {},
   "outputs": [
    {
     "name": "stdout",
     "output_type": "stream",
     "text": [
      "start= 1\n",
      "*args= (2, 3)\n",
      "**kwargs= {'a': 4, 'b': 5}\n"
     ]
    }
   ],
   "source": [
    "# start、args、kwargs 分別會得到什麼結果?\n",
    "\n",
    "def fun1(start, *args, **kwargs):\n",
    "    print(\"start=\", start)\n",
    "    print(\"*args=\", args)\n",
    "    print(\"**kwargs=\", kwargs)\n",
    "\n",
    "fun1(1, 2 ,3 , a=4, b=5)"
   ]
  },
  {
   "cell_type": "markdown",
   "metadata": {},
   "source": [
    "---"
   ]
  },
  {
   "cell_type": "markdown",
   "metadata": {},
   "source": [
    "# Module_15_匿名函數與變數可見度"
   ]
  },
  {
   "cell_type": "code",
   "execution_count": 20,
   "metadata": {},
   "outputs": [
    {
     "name": "stdout",
     "output_type": "stream",
     "text": [
      "30\n"
     ]
    }
   ],
   "source": [
    "sum_data = lambda arg1, arg2 : arg1+arg2   # like func (arg1, arg2) return arg1 + arg2\n",
    "print(sum_data(10, 20))"
   ]
  },
  {
   "cell_type": "code",
   "execution_count": 21,
   "metadata": {},
   "outputs": [
    {
     "name": "stdout",
     "output_type": "stream",
     "text": [
      "14\n"
     ]
    }
   ],
   "source": [
    "# need to compare to 三元運算  XX if yy else zz\n",
    "x = lambda a, b : a + b\n",
    "print(x(5, 9))"
   ]
  },
  {
   "cell_type": "code",
   "execution_count": 22,
   "metadata": {},
   "outputs": [
    {
     "name": "stdout",
     "output_type": "stream",
     "text": [
      "8\n"
     ]
    }
   ],
   "source": [
    "# lambda <args> : <return Value> if <condition > ( <return value > if <condition> else <return value>)\n",
    "# need to compare to 三元運算  XX if yy else zz\n",
    "data = lambda x : x**2 if x > 3 else x**3\n",
    "print(data(2))"
   ]
  },
  {
   "cell_type": "code",
   "execution_count": 23,
   "metadata": {},
   "outputs": [
    {
     "data": {
      "text/plain": [
       "'x != 3'"
      ]
     },
     "execution_count": 23,
     "metadata": {},
     "output_type": "execute_result"
    }
   ],
   "source": [
    "x = 4\n",
    "\n",
    "result= lambda x : 'x==3' if x==3 else 'x != 3'\n",
    "result(x)"
   ]
  },
  {
   "cell_type": "code",
   "execution_count": 24,
   "metadata": {},
   "outputs": [
    {
     "data": {
      "text/plain": [
       "[36, 49, 64, 81]"
      ]
     },
     "execution_count": 24,
     "metadata": {},
     "output_type": "execute_result"
    }
   ],
   "source": [
    "[(lambda x: x*x)(x) for x in range(10) if x >5]"
   ]
  },
  {
   "cell_type": "code",
   "execution_count": 25,
   "metadata": {},
   "outputs": [
    {
     "data": {
      "text/plain": [
       "[36, 49, 64, 81]"
      ]
     },
     "execution_count": 25,
     "metadata": {},
     "output_type": "execute_result"
    }
   ],
   "source": [
    "[x*x for x in range(10) if x >5]  # 另外寫法"
   ]
  },
  {
   "cell_type": "markdown",
   "metadata": {},
   "source": [
    "# 15-5"
   ]
  },
  {
   "cell_type": "code",
   "execution_count": 26,
   "metadata": {},
   "outputs": [
    {
     "name": "stdout",
     "output_type": "stream",
     "text": [
      "operate_on(16, 20, sum_data)\t\t=  36\n",
      "operate_on(10, 40, anonymous_function)\t=  50\n"
     ]
    }
   ],
   "source": [
    "# function: return sum of two values\n",
    "def sum_data(a, b):\n",
    "    return a+b\n",
    "\n",
    "# function: using function as parameter\n",
    "def operate_on(x, y, func):   # func 是函數\n",
    "    return func(x, y)\n",
    "\n",
    "r = operate_on(16, 20, sum_data) # call function\n",
    "print('operate_on(16, 20, sum_data)\\t\\t= ',r)\n",
    "\n",
    "r = operate_on(10, 40, lambda a, b : a + b) # with lambda function\n",
    "print('operate_on(10, 40, anonymous_function)\\t= ', r)"
   ]
  },
  {
   "cell_type": "markdown",
   "metadata": {},
   "source": [
    "# 15-11"
   ]
  },
  {
   "cell_type": "code",
   "execution_count": 27,
   "metadata": {},
   "outputs": [
    {
     "name": "stdout",
     "output_type": "stream",
     "text": [
      "In function local total\t\t: 30\n",
      "Outside function global total\t: 0\n"
     ]
    }
   ],
   "source": [
    "# mod15/global_var.py\n",
    "# Using global variable\n",
    "total = 0   # This is global variable\n",
    "\n",
    "# Function definition\n",
    "def sum_data(arg1, arg2):\n",
    "    total = arg1 + arg2; # total is local variable\n",
    "    # print 30\n",
    "    print('In function local total\\t\\t:', total)\n",
    "\n",
    "# MAIN    \n",
    "# Call function\n",
    "sum_data(10, 20)\n",
    "\n",
    "# print 0\n",
    "print('Outside function global total\\t:', total)"
   ]
  },
  {
   "cell_type": "markdown",
   "metadata": {},
   "source": [
    "# 15-12\n",
    "># local variables 可減少記憶體的使用"
   ]
  },
  {
   "cell_type": "code",
   "execution_count": 28,
   "metadata": {},
   "outputs": [
    {
     "name": "stdout",
     "output_type": "stream",
     "text": [
      "42\n",
      "42\n",
      "spam\n",
      "spam\n"
     ]
    }
   ],
   "source": [
    "# mod15/global_var.py\n",
    "# even you add return.  is it still local variable? check\n",
    "\n",
    "eggs = 42        # this is the global\n",
    "def ham():\n",
    "    print(eggs)  # this is the global\n",
    "\n",
    "def bacon():\n",
    "    eggs = 'bacon'   # local assign.  local variable  \n",
    "    \n",
    "def spam():\n",
    "    global eggs\n",
    "    eggs = 'spam'    # this is the global\n",
    "\n",
    "# ------- main program ---------\n",
    "ham()\n",
    "# print(id(eggs))\n",
    "\n",
    "bacon()\n",
    "print(eggs)      # 42\n",
    "\n",
    "spam()\n",
    "print(eggs)      # spam \n",
    "ham()"
   ]
  },
  {
   "cell_type": "code",
   "execution_count": 29,
   "metadata": {},
   "outputs": [
    {
     "name": "stdout",
     "output_type": "stream",
     "text": [
      "0 1 2 3 4 5 6 7 8 9 "
     ]
    },
    {
     "data": {
      "text/plain": [
       "9"
      ]
     },
     "execution_count": 29,
     "metadata": {},
     "output_type": "execute_result"
    }
   ],
   "source": [
    "for i in range(10):\n",
    "    print(i, end=' ')\n",
    "\n",
    "i  # it's still globle after for... loop"
   ]
  },
  {
   "cell_type": "markdown",
   "metadata": {},
   "source": [
    "# 產生器generator, generator function(return yield)"
   ]
  },
  {
   "cell_type": "code",
   "execution_count": 8,
   "metadata": {},
   "outputs": [
    {
     "name": "stdout",
     "output_type": "stream",
     "text": [
      "<function my_range at 0x000002CCDC010EE0>\n",
      "<generator object my_range at 0x000002CCDC00CF90>\n",
      "x= 1\n",
      "x= 2\n",
      "x= 3\n",
      "x= 4\n"
     ]
    }
   ],
   "source": [
    "def my_range(first=0, last=10, step=1):\n",
    "    num = first;\n",
    "    while num <last:\n",
    "        yield num\n",
    "        num += step\n",
    "        \n",
    "print(my_range) # is a function\n",
    "\n",
    "ranger = my_range(1,5)\n",
    "print(ranger) # is a generator object\n",
    "\n",
    "for x in ranger:\n",
    "    print('x=',x)"
   ]
  },
  {
   "cell_type": "code",
   "execution_count": 10,
   "metadata": {},
   "outputs": [],
   "source": [
    "for try_again in ranger:  #不能用了!!!產生器只能執行一次\n",
    "    print(try_again)"
   ]
  },
  {
   "cell_type": "markdown",
   "metadata": {},
   "source": [
    "# 裝飾器decorator\n",
    "### decorator是一種function,會接收一個function,return另一個function。\n",
    "### document_it()"
   ]
  },
  {
   "cell_type": "code",
   "execution_count": 21,
   "metadata": {},
   "outputs": [
    {
     "name": "stdout",
     "output_type": "stream",
     "text": [
      "add_ints(5,10):\t 15\n",
      "document_it(add_ints):\t <function document_it.<locals>.new_function at 0x000002CCDC029430>\n",
      "Running: add_ints\n"
     ]
    },
    {
     "data": {
      "text/plain": [
       "8"
      ]
     },
     "execution_count": 21,
     "metadata": {},
     "output_type": "execute_result"
    }
   ],
   "source": [
    "def document_it(func):\n",
    "    def new_function(*args, **kwargs):\n",
    "        print(\"Running:\", func.__name__)\n",
    "        print(\"\")\n",
    "        return func(*args, **kwargs)\n",
    "    return new_function\n",
    "\n",
    "def add_ints(a,b):\n",
    "    return a+b\n",
    "\n",
    "print('add_ints(5,10):\\t',add_ints(5,10))\n",
    "print('document_it(add_ints):\\t', document_it(add_ints))\n",
    "cooler =  document_it(add_ints)\n",
    "cooler(3,5)"
   ]
  },
  {
   "cell_type": "markdown",
   "metadata": {},
   "source": [
    "# namespace名稱空間: locals(), globals()"
   ]
  },
  {
   "cell_type": "code",
   "execution_count": 17,
   "metadata": {},
   "outputs": [
    {
     "data": {
      "text/plain": [
       "{'__name__': '__main__',\n",
       " '__doc__': 'Automatically created module for IPython interactive environment',\n",
       " '__package__': None,\n",
       " '__loader__': None,\n",
       " '__spec__': None,\n",
       " '__builtin__': <module 'builtins' (built-in)>,\n",
       " '__builtins__': <module 'builtins' (built-in)>,\n",
       " '_ih': ['',\n",
       "  'locals()',\n",
       "  \"animal = 'lion'\\nlocals()\",\n",
       "  \"animal = 'lion'\\nprint(locals())\",\n",
       "  \"animal = 'lion'\\nglobals()\",\n",
       "  \"animal = 'lion'\\n# locals()\\nglobals()\",\n",
       "  \"animal = 'lion'\\nprint('locals:',locals())\\n# globals()\",\n",
       "  \"animal = 'lion'\\nprint('locals:',locals('locals'))\\n# globals()\",\n",
       "  \"animal = 'lion'\\nprint('locals:',locals())\\n# globals()\",\n",
       "  \"animal = 'lion'\\nprint('locals:',locals(__name__))\\n# globals()\",\n",
       "  \"animal = 'lion'\\nprint('locals:',locals())\\n# globals()\",\n",
       "  \"animal = 'lion'\\nprint('locals:',locals()['locals'])\\n# globals()\",\n",
       "  \"animal = 'lion'\\nprint('locals:',locals()['local'])\\n# globals()\",\n",
       "  \"animal = 'lion'\\nprint('locals:',locals())\\n# globals()\",\n",
       "  \"animal = 'lion'\\nprint('locals:',locals()['__name__'])\\n# globals()\",\n",
       "  \"animal = 'lion'\\nprint('locals:',locals()['local'])\\n# globals()\",\n",
       "  \"animal = 'lion'\\nlocals()\\n# print('locals:',locals()['local'])\\n# globals()\",\n",
       "  \"animal = 'lion'\\n# locals()\\n# print('locals:',locals()['local'])\\nglobals()\"],\n",
       " '_oh': {1: {...}, 2: {...}, 4: {...}, 5: {...}, 16: {...}},\n",
       " '_dh': ['C:\\\\Users\\\\Student\\\\2_Python3days'],\n",
       " 'In': ['',\n",
       "  'locals()',\n",
       "  \"animal = 'lion'\\nlocals()\",\n",
       "  \"animal = 'lion'\\nprint(locals())\",\n",
       "  \"animal = 'lion'\\nglobals()\",\n",
       "  \"animal = 'lion'\\n# locals()\\nglobals()\",\n",
       "  \"animal = 'lion'\\nprint('locals:',locals())\\n# globals()\",\n",
       "  \"animal = 'lion'\\nprint('locals:',locals('locals'))\\n# globals()\",\n",
       "  \"animal = 'lion'\\nprint('locals:',locals())\\n# globals()\",\n",
       "  \"animal = 'lion'\\nprint('locals:',locals(__name__))\\n# globals()\",\n",
       "  \"animal = 'lion'\\nprint('locals:',locals())\\n# globals()\",\n",
       "  \"animal = 'lion'\\nprint('locals:',locals()['locals'])\\n# globals()\",\n",
       "  \"animal = 'lion'\\nprint('locals:',locals()['local'])\\n# globals()\",\n",
       "  \"animal = 'lion'\\nprint('locals:',locals())\\n# globals()\",\n",
       "  \"animal = 'lion'\\nprint('locals:',locals()['__name__'])\\n# globals()\",\n",
       "  \"animal = 'lion'\\nprint('locals:',locals()['local'])\\n# globals()\",\n",
       "  \"animal = 'lion'\\nlocals()\\n# print('locals:',locals()['local'])\\n# globals()\",\n",
       "  \"animal = 'lion'\\n# locals()\\n# print('locals:',locals()['local'])\\nglobals()\"],\n",
       " 'Out': {1: {...}, 2: {...}, 4: {...}, 5: {...}, 16: {...}},\n",
       " 'get_ipython': <bound method InteractiveShell.get_ipython of <ipykernel.zmqshell.ZMQInteractiveShell object at 0x0000023D1248F3D0>>,\n",
       " 'exit': <IPython.core.autocall.ZMQExitAutocall at 0x23d12525c40>,\n",
       " 'quit': <IPython.core.autocall.ZMQExitAutocall at 0x23d12525c40>,\n",
       " '_': {...},\n",
       " '__': {...},\n",
       " '___': {...},\n",
       " '_i': \"animal = 'lion'\\nlocals()\\n# print('locals:',locals()['local'])\\n# globals()\",\n",
       " '_ii': \"animal = 'lion'\\nprint('locals:',locals()['local'])\\n# globals()\",\n",
       " '_iii': \"animal = 'lion'\\nprint('locals:',locals()['__name__'])\\n# globals()\",\n",
       " '_i1': 'locals()',\n",
       " '_1': {...},\n",
       " '_i2': \"animal = 'lion'\\nlocals()\",\n",
       " 'animal': 'lion',\n",
       " '_2': {...},\n",
       " '_i3': \"animal = 'lion'\\nprint(locals())\",\n",
       " '_i4': \"animal = 'lion'\\nglobals()\",\n",
       " '_4': {...},\n",
       " '_i5': \"animal = 'lion'\\n# locals()\\nglobals()\",\n",
       " '_5': {...},\n",
       " '_i6': \"animal = 'lion'\\nprint('locals:',locals())\\n# globals()\",\n",
       " '_i7': \"animal = 'lion'\\nprint('locals:',locals('locals'))\\n# globals()\",\n",
       " '_i8': \"animal = 'lion'\\nprint('locals:',locals())\\n# globals()\",\n",
       " '_i9': \"animal = 'lion'\\nprint('locals:',locals(__name__))\\n# globals()\",\n",
       " '_i10': \"animal = 'lion'\\nprint('locals:',locals())\\n# globals()\",\n",
       " '_i11': \"animal = 'lion'\\nprint('locals:',locals()['locals'])\\n# globals()\",\n",
       " '_i12': \"animal = 'lion'\\nprint('locals:',locals()['local'])\\n# globals()\",\n",
       " '_i13': \"animal = 'lion'\\nprint('locals:',locals())\\n# globals()\",\n",
       " '_i14': \"animal = 'lion'\\nprint('locals:',locals()['__name__'])\\n# globals()\",\n",
       " '_i15': \"animal = 'lion'\\nprint('locals:',locals()['local'])\\n# globals()\",\n",
       " '_i16': \"animal = 'lion'\\nlocals()\\n# print('locals:',locals()['local'])\\n# globals()\",\n",
       " '_16': {...},\n",
       " '_i17': \"animal = 'lion'\\n# locals()\\n# print('locals:',locals()['local'])\\nglobals()\"}"
      ]
     },
     "execution_count": 17,
     "metadata": {},
     "output_type": "execute_result"
    }
   ],
   "source": [
    "animal = 'lion'\n",
    "# locals()\n",
    "# print('locals:',locals()['local'])\n",
    "globals()"
   ]
  },
  {
   "cell_type": "markdown",
   "metadata": {},
   "source": [
    "# Module_16_模組(Module)設計與使用\n",
    ">## class (類別) 跟 def 是組成模組功能的最基本架構\n",
    "![class](.\\img\\class.png)"
   ]
  },
  {
   "cell_type": "code",
   "execution_count": 30,
   "metadata": {},
   "outputs": [
    {
     "name": "stdout",
     "output_type": "stream",
     "text": [
      "x =  1\n",
      "python world\n"
     ]
    }
   ],
   "source": [
    "# Python 完整程式 class 類別結構\n",
    "\n",
    "# import numpy\n",
    "# import pandas\n",
    "\n",
    "class abc :\n",
    "    ''' Beautiful is better than ugly.      優美勝於醜陋（Python 以編寫優美的代碼為目標）\n",
    "        Explicit is better than implicit.   明瞭勝於晦澀（優美的代碼應當是明瞭的，命名規範，風格相似)\n",
    "        Simple is better than complex.      簡潔勝於複雜（優美的代碼應當是簡潔的，不要有複雜的內部實現)\n",
    "        Complex is better than complicated. 複雜勝於淩亂（如果複雜不可避免，那代碼間也不能有難懂的關係，要保持介面簡潔）\n",
    "        Flat is better than nested.         扁平勝於嵌套（優美的代碼應當是扁平的，不能有太多的嵌套)\n",
    "        Sparse is better than dense.        間隔勝於緊湊（優美的代碼有適當的間隔，不要奢望一行代碼解決問題）\n",
    "        Readability counts                  可讀性很重要（優美的代碼是可讀的）\n",
    "        .....\n",
    "    '''\n",
    "    def __init__(self):\n",
    "        pass\n",
    "    def func(x):\n",
    "        ''' hello python '''\n",
    "        print('x = ', x)\n",
    "        return  \n",
    "\n",
    "    def func1():\n",
    "        '''python world'''\n",
    "        print('python world')\n",
    "    \n",
    "# ---------- main program -----------------    \n",
    "if __name__ == '__main__' :         # 供外部呼叫時使用\n",
    "    for x in range(5):    # x = 1 ~ 5 one by one\n",
    "        if x == 1:        # comments\n",
    "            abc.func(x)\n",
    "            abc.func1()"
   ]
  },
  {
   "cell_type": "code",
   "execution_count": 31,
   "metadata": {},
   "outputs": [
    {
     "name": "stdout",
     "output_type": "stream",
     "text": [
      "John \n",
      "\n",
      "18 \n",
      "\n",
      "talk self.name :  John\n",
      "Good !! \n",
      "\n",
      "say self.age   :  18\n",
      "Enjoy !!\n"
     ]
    },
    {
     "data": {
      "text/plain": [
       "'1234'"
      ]
     },
     "execution_count": 31,
     "metadata": {},
     "output_type": "execute_result"
    }
   ],
   "source": [
    "class jojo:\n",
    "    def __init__(self, name, age):\n",
    "        self.age = age\n",
    "        self.name = name\n",
    "        self.visa = '1234'\n",
    "        \n",
    "    def talk(self):\n",
    "        print('talk self.name : ', self.name)\n",
    "        return \"Good !!\"\n",
    "    \n",
    "    def say(self):\n",
    "        print('say self.age   : ', self.age)\n",
    "        return \"Enjoy !!\"\n",
    "    \n",
    "John = jojo(name='John', age=27) # 宣告成新物件\n",
    "Mary = jojo(name='Mary', age=18) # 宣告成新物件\n",
    "\n",
    "print(John.name, '\\n')  # John -> self\n",
    "print(Mary.age, '\\n')\n",
    "print(John.talk(), '\\n')\n",
    "print(Mary.say())\n",
    "Mary.visa"
   ]
  },
  {
   "cell_type": "markdown",
   "metadata": {},
   "source": [
    "# 16-6 import support.py"
   ]
  },
  {
   "cell_type": "code",
   "execution_count": 32,
   "metadata": {},
   "outputs": [
    {
     "ename": "ModuleNotFoundError",
     "evalue": "No module named 'support'",
     "output_type": "error",
     "traceback": [
      "\u001b[1;31m---------------------------------------------------------------------------\u001b[0m",
      "\u001b[1;31mModuleNotFoundError\u001b[0m                       Traceback (most recent call last)",
      "\u001b[1;32m<ipython-input-32-1ef5e9ced415>\u001b[0m in \u001b[0;36m<module>\u001b[1;34m\u001b[0m\n\u001b[0;32m     11\u001b[0m \u001b[0msys\u001b[0m\u001b[1;33m.\u001b[0m\u001b[0mpath\u001b[0m\u001b[1;33m.\u001b[0m\u001b[0minsert\u001b[0m\u001b[1;33m(\u001b[0m\u001b[1;36m1\u001b[0m\u001b[1;33m,\u001b[0m \u001b[1;34m'./mod16'\u001b[0m\u001b[1;33m)\u001b[0m\u001b[1;33m\u001b[0m\u001b[1;33m\u001b[0m\u001b[0m\n\u001b[0;32m     12\u001b[0m \u001b[1;33m\u001b[0m\u001b[0m\n\u001b[1;32m---> 13\u001b[1;33m \u001b[1;32mimport\u001b[0m \u001b[0msupport\u001b[0m \u001b[1;32mas\u001b[0m \u001b[0mup\u001b[0m\u001b[1;33m\u001b[0m\u001b[1;33m\u001b[0m\u001b[0m\n\u001b[0m\u001b[0;32m     14\u001b[0m \u001b[1;31m# call defined function\u001b[0m\u001b[1;33m\u001b[0m\u001b[1;33m\u001b[0m\u001b[1;33m\u001b[0m\u001b[0m\n\u001b[0;32m     15\u001b[0m \u001b[0mup\u001b[0m\u001b[1;33m.\u001b[0m\u001b[0mprint_func\u001b[0m\u001b[1;33m(\u001b[0m\u001b[1;34m'Rose'\u001b[0m\u001b[1;33m)\u001b[0m\u001b[1;33m\u001b[0m\u001b[1;33m\u001b[0m\u001b[0m\n",
      "\u001b[1;31mModuleNotFoundError\u001b[0m: No module named 'support'"
     ]
    }
   ],
   "source": [
    "# support.py\n",
    "# Module support defintion\n",
    "# def print_func(arg):\n",
    "#     \"\"\"Print Hello message to arg argument\"\"\"\n",
    "#     print (__name__)\n",
    "#     print ('Hello :',arg)\n",
    "\n",
    "# --------------------------\n",
    "# %run mod16/ex16_1.py   \n",
    "import sys\n",
    "sys.path.insert(1, './mod16')\n",
    "\n",
    "import support as up\n",
    "# call defined function \n",
    "up.print_func('Rose')\n",
    "\n",
    "print(__name__)"
   ]
  },
  {
   "cell_type": "markdown",
   "metadata": {},
   "source": [
    "# 16-8"
   ]
  },
  {
   "cell_type": "code",
   "execution_count": 33,
   "metadata": {},
   "outputs": [
    {
     "data": {
      "text/plain": [
       "['__doc__',\n",
       " '__loader__',\n",
       " '__name__',\n",
       " '__package__',\n",
       " '__spec__',\n",
       " 'acos',\n",
       " 'acosh',\n",
       " 'asin',\n",
       " 'asinh',\n",
       " 'atan',\n",
       " 'atan2',\n",
       " 'atanh',\n",
       " 'ceil',\n",
       " 'comb',\n",
       " 'copysign',\n",
       " 'cos',\n",
       " 'cosh',\n",
       " 'degrees',\n",
       " 'dist',\n",
       " 'e',\n",
       " 'erf',\n",
       " 'erfc',\n",
       " 'exp',\n",
       " 'expm1',\n",
       " 'fabs',\n",
       " 'factorial',\n",
       " 'floor',\n",
       " 'fmod',\n",
       " 'frexp',\n",
       " 'fsum',\n",
       " 'gamma',\n",
       " 'gcd',\n",
       " 'hypot',\n",
       " 'inf',\n",
       " 'isclose',\n",
       " 'isfinite',\n",
       " 'isinf',\n",
       " 'isnan',\n",
       " 'isqrt',\n",
       " 'ldexp',\n",
       " 'lgamma',\n",
       " 'log',\n",
       " 'log10',\n",
       " 'log1p',\n",
       " 'log2',\n",
       " 'modf',\n",
       " 'nan',\n",
       " 'perm',\n",
       " 'pi',\n",
       " 'pow',\n",
       " 'prod',\n",
       " 'radians',\n",
       " 'remainder',\n",
       " 'sin',\n",
       " 'sinh',\n",
       " 'sqrt',\n",
       " 'tan',\n",
       " 'tanh',\n",
       " 'tau',\n",
       " 'trunc']"
      ]
     },
     "execution_count": 33,
     "metadata": {},
     "output_type": "execute_result"
    }
   ],
   "source": [
    "import math\n",
    "dir(math)  # 列出所有的函數, "
   ]
  },
  {
   "cell_type": "code",
   "execution_count": 34,
   "metadata": {},
   "outputs": [
    {
     "name": "stdout",
     "output_type": "stream",
     "text": [
      "-0.9999999999730151\n"
     ]
    }
   ],
   "source": [
    "from math import cos  # 只匯入你會用到的那一個, 避免全部匯入, 變數同名相衝突\n",
    "print(cos(3.1416))\n",
    "# print(sin(3.1416))"
   ]
  },
  {
   "cell_type": "markdown",
   "metadata": {},
   "source": [
    "# 16-10 "
   ]
  },
  {
   "cell_type": "code",
   "execution_count": 35,
   "metadata": {},
   "outputs": [
    {
     "ename": "Exception",
     "evalue": "File `'mod16/bmi.py'` not found.",
     "output_type": "error",
     "traceback": [
      "\u001b[1;31m---------------------------------------------------------------------------\u001b[0m",
      "\u001b[1;31mOSError\u001b[0m                                   Traceback (most recent call last)",
      "\u001b[1;32m~\\anaconda3\\lib\\site-packages\\IPython\\core\\magics\\execution.py\u001b[0m in \u001b[0;36mrun\u001b[1;34m(self, parameter_s, runner, file_finder)\u001b[0m\n\u001b[0;32m    696\u001b[0m             \u001b[0mfpath\u001b[0m \u001b[1;33m=\u001b[0m \u001b[0marg_lst\u001b[0m\u001b[1;33m[\u001b[0m\u001b[1;36m0\u001b[0m\u001b[1;33m]\u001b[0m\u001b[1;33m\u001b[0m\u001b[1;33m\u001b[0m\u001b[0m\n\u001b[1;32m--> 697\u001b[1;33m             \u001b[0mfilename\u001b[0m \u001b[1;33m=\u001b[0m \u001b[0mfile_finder\u001b[0m\u001b[1;33m(\u001b[0m\u001b[0mfpath\u001b[0m\u001b[1;33m)\u001b[0m\u001b[1;33m\u001b[0m\u001b[1;33m\u001b[0m\u001b[0m\n\u001b[0m\u001b[0;32m    698\u001b[0m         \u001b[1;32mexcept\u001b[0m \u001b[0mIndexError\u001b[0m\u001b[1;33m:\u001b[0m\u001b[1;33m\u001b[0m\u001b[1;33m\u001b[0m\u001b[0m\n",
      "\u001b[1;32m~\\anaconda3\\lib\\site-packages\\IPython\\utils\\path.py\u001b[0m in \u001b[0;36mget_py_filename\u001b[1;34m(name, force_win32)\u001b[0m\n\u001b[0;32m    108\u001b[0m     \u001b[1;32melse\u001b[0m\u001b[1;33m:\u001b[0m\u001b[1;33m\u001b[0m\u001b[1;33m\u001b[0m\u001b[0m\n\u001b[1;32m--> 109\u001b[1;33m         \u001b[1;32mraise\u001b[0m \u001b[0mIOError\u001b[0m\u001b[1;33m(\u001b[0m\u001b[1;34m'File `%r` not found.'\u001b[0m \u001b[1;33m%\u001b[0m \u001b[0mname\u001b[0m\u001b[1;33m)\u001b[0m\u001b[1;33m\u001b[0m\u001b[1;33m\u001b[0m\u001b[0m\n\u001b[0m\u001b[0;32m    110\u001b[0m \u001b[1;33m\u001b[0m\u001b[0m\n",
      "\u001b[1;31mOSError\u001b[0m: File `'mod16/bmi.py'` not found.",
      "\nDuring handling of the above exception, another exception occurred:\n",
      "\u001b[1;31mException\u001b[0m                                 Traceback (most recent call last)",
      "\u001b[1;32m<ipython-input-35-4da68ca2fef3>\u001b[0m in \u001b[0;36m<module>\u001b[1;34m\u001b[0m\n\u001b[1;32m----> 1\u001b[1;33m \u001b[0mget_ipython\u001b[0m\u001b[1;33m(\u001b[0m\u001b[1;33m)\u001b[0m\u001b[1;33m.\u001b[0m\u001b[0mrun_line_magic\u001b[0m\u001b[1;33m(\u001b[0m\u001b[1;34m'run'\u001b[0m\u001b[1;33m,\u001b[0m \u001b[1;34m'mod16/bmi.py'\u001b[0m\u001b[1;33m)\u001b[0m\u001b[1;33m\u001b[0m\u001b[1;33m\u001b[0m\u001b[0m\n\u001b[0m\u001b[0;32m      2\u001b[0m \u001b[1;31m# import bmi\u001b[0m\u001b[1;33m\u001b[0m\u001b[1;33m\u001b[0m\u001b[1;33m\u001b[0m\u001b[0m\n",
      "\u001b[1;32m~\\anaconda3\\lib\\site-packages\\IPython\\core\\interactiveshell.py\u001b[0m in \u001b[0;36mrun_line_magic\u001b[1;34m(self, magic_name, line, _stack_depth)\u001b[0m\n\u001b[0;32m   2324\u001b[0m                 \u001b[0mkwargs\u001b[0m\u001b[1;33m[\u001b[0m\u001b[1;34m'local_ns'\u001b[0m\u001b[1;33m]\u001b[0m \u001b[1;33m=\u001b[0m \u001b[0msys\u001b[0m\u001b[1;33m.\u001b[0m\u001b[0m_getframe\u001b[0m\u001b[1;33m(\u001b[0m\u001b[0mstack_depth\u001b[0m\u001b[1;33m)\u001b[0m\u001b[1;33m.\u001b[0m\u001b[0mf_locals\u001b[0m\u001b[1;33m\u001b[0m\u001b[1;33m\u001b[0m\u001b[0m\n\u001b[0;32m   2325\u001b[0m             \u001b[1;32mwith\u001b[0m \u001b[0mself\u001b[0m\u001b[1;33m.\u001b[0m\u001b[0mbuiltin_trap\u001b[0m\u001b[1;33m:\u001b[0m\u001b[1;33m\u001b[0m\u001b[1;33m\u001b[0m\u001b[0m\n\u001b[1;32m-> 2326\u001b[1;33m                 \u001b[0mresult\u001b[0m \u001b[1;33m=\u001b[0m \u001b[0mfn\u001b[0m\u001b[1;33m(\u001b[0m\u001b[1;33m*\u001b[0m\u001b[0margs\u001b[0m\u001b[1;33m,\u001b[0m \u001b[1;33m**\u001b[0m\u001b[0mkwargs\u001b[0m\u001b[1;33m)\u001b[0m\u001b[1;33m\u001b[0m\u001b[1;33m\u001b[0m\u001b[0m\n\u001b[0m\u001b[0;32m   2327\u001b[0m             \u001b[1;32mreturn\u001b[0m \u001b[0mresult\u001b[0m\u001b[1;33m\u001b[0m\u001b[1;33m\u001b[0m\u001b[0m\n\u001b[0;32m   2328\u001b[0m \u001b[1;33m\u001b[0m\u001b[0m\n",
      "\u001b[1;32m<decorator-gen-60>\u001b[0m in \u001b[0;36mrun\u001b[1;34m(self, parameter_s, runner, file_finder)\u001b[0m\n",
      "\u001b[1;32m~\\anaconda3\\lib\\site-packages\\IPython\\core\\magic.py\u001b[0m in \u001b[0;36m<lambda>\u001b[1;34m(f, *a, **k)\u001b[0m\n\u001b[0;32m    185\u001b[0m     \u001b[1;31m# but it's overkill for just that one bit of state.\u001b[0m\u001b[1;33m\u001b[0m\u001b[1;33m\u001b[0m\u001b[1;33m\u001b[0m\u001b[0m\n\u001b[0;32m    186\u001b[0m     \u001b[1;32mdef\u001b[0m \u001b[0mmagic_deco\u001b[0m\u001b[1;33m(\u001b[0m\u001b[0marg\u001b[0m\u001b[1;33m)\u001b[0m\u001b[1;33m:\u001b[0m\u001b[1;33m\u001b[0m\u001b[1;33m\u001b[0m\u001b[0m\n\u001b[1;32m--> 187\u001b[1;33m         \u001b[0mcall\u001b[0m \u001b[1;33m=\u001b[0m \u001b[1;32mlambda\u001b[0m \u001b[0mf\u001b[0m\u001b[1;33m,\u001b[0m \u001b[1;33m*\u001b[0m\u001b[0ma\u001b[0m\u001b[1;33m,\u001b[0m \u001b[1;33m**\u001b[0m\u001b[0mk\u001b[0m\u001b[1;33m:\u001b[0m \u001b[0mf\u001b[0m\u001b[1;33m(\u001b[0m\u001b[1;33m*\u001b[0m\u001b[0ma\u001b[0m\u001b[1;33m,\u001b[0m \u001b[1;33m**\u001b[0m\u001b[0mk\u001b[0m\u001b[1;33m)\u001b[0m\u001b[1;33m\u001b[0m\u001b[1;33m\u001b[0m\u001b[0m\n\u001b[0m\u001b[0;32m    188\u001b[0m \u001b[1;33m\u001b[0m\u001b[0m\n\u001b[0;32m    189\u001b[0m         \u001b[1;32mif\u001b[0m \u001b[0mcallable\u001b[0m\u001b[1;33m(\u001b[0m\u001b[0marg\u001b[0m\u001b[1;33m)\u001b[0m\u001b[1;33m:\u001b[0m\u001b[1;33m\u001b[0m\u001b[1;33m\u001b[0m\u001b[0m\n",
      "\u001b[1;32m~\\anaconda3\\lib\\site-packages\\IPython\\core\\magics\\execution.py\u001b[0m in \u001b[0;36mrun\u001b[1;34m(self, parameter_s, runner, file_finder)\u001b[0m\n\u001b[0;32m    706\u001b[0m             \u001b[1;32mif\u001b[0m \u001b[0mos\u001b[0m\u001b[1;33m.\u001b[0m\u001b[0mname\u001b[0m \u001b[1;33m==\u001b[0m \u001b[1;34m'nt'\u001b[0m \u001b[1;32mand\u001b[0m \u001b[0mre\u001b[0m\u001b[1;33m.\u001b[0m\u001b[0mmatch\u001b[0m\u001b[1;33m(\u001b[0m\u001b[1;34mr\"^'.*'$\"\u001b[0m\u001b[1;33m,\u001b[0m\u001b[0mfpath\u001b[0m\u001b[1;33m)\u001b[0m\u001b[1;33m:\u001b[0m\u001b[1;33m\u001b[0m\u001b[1;33m\u001b[0m\u001b[0m\n\u001b[0;32m    707\u001b[0m                 \u001b[0mwarn\u001b[0m\u001b[1;33m(\u001b[0m\u001b[1;34m'For Windows, use double quotes to wrap a filename: %run \"mypath\\\\myfile.py\"'\u001b[0m\u001b[1;33m)\u001b[0m\u001b[1;33m\u001b[0m\u001b[1;33m\u001b[0m\u001b[0m\n\u001b[1;32m--> 708\u001b[1;33m             \u001b[1;32mraise\u001b[0m \u001b[0mException\u001b[0m\u001b[1;33m(\u001b[0m\u001b[0mmsg\u001b[0m\u001b[1;33m)\u001b[0m\u001b[1;33m\u001b[0m\u001b[1;33m\u001b[0m\u001b[0m\n\u001b[0m\u001b[0;32m    709\u001b[0m         \u001b[1;32mexcept\u001b[0m \u001b[0mTypeError\u001b[0m\u001b[1;33m:\u001b[0m\u001b[1;33m\u001b[0m\u001b[1;33m\u001b[0m\u001b[0m\n\u001b[0;32m    710\u001b[0m             \u001b[1;32mif\u001b[0m \u001b[0mfpath\u001b[0m \u001b[1;32min\u001b[0m \u001b[0msys\u001b[0m\u001b[1;33m.\u001b[0m\u001b[0mmeta_path\u001b[0m\u001b[1;33m:\u001b[0m\u001b[1;33m\u001b[0m\u001b[1;33m\u001b[0m\u001b[0m\n",
      "\u001b[1;31mException\u001b[0m: File `'mod16/bmi.py'` not found."
     ]
    }
   ],
   "source": [
    "%run mod16/bmi.py\n",
    "# import bmi"
   ]
  },
  {
   "cell_type": "markdown",
   "metadata": {},
   "source": [
    "---"
   ]
  },
  {
   "cell_type": "markdown",
   "metadata": {},
   "source": [
    "# Module_17_異常處理\n",
    ">## 異常是一個事件，該事件會在程序執行過程中發生，影響了程序的正常執行。\n",
    ">## 即使語法是正確的，但是在執行時仍可能會引發錯誤\n",
    ">## try -> except -> finally\n",
    ">## try -> else -> finally"
   ]
  },
  {
   "cell_type": "code",
   "execution_count": 1,
   "metadata": {},
   "outputs": [
    {
     "name": "stdout",
     "output_type": "stream",
     "text": [
      "Enter a number: sdf\n"
     ]
    },
    {
     "ename": "NameError",
     "evalue": "name 'sdf' is not defined",
     "output_type": "error",
     "traceback": [
      "\u001b[1;31m---------------------------------------------------------------------------\u001b[0m",
      "\u001b[1;31mNameError\u001b[0m                                 Traceback (most recent call last)",
      "\u001b[1;32m<ipython-input-1-879460870bb6>\u001b[0m in \u001b[0;36m<module>\u001b[1;34m\u001b[0m\n\u001b[0;32m      1\u001b[0m \u001b[1;31m# 如果不處理\u001b[0m\u001b[1;33m\u001b[0m\u001b[1;33m\u001b[0m\u001b[1;33m\u001b[0m\u001b[0m\n\u001b[1;32m----> 2\u001b[1;33m \u001b[0mnum\u001b[0m \u001b[1;33m=\u001b[0m \u001b[0meval\u001b[0m\u001b[1;33m(\u001b[0m\u001b[0minput\u001b[0m\u001b[1;33m(\u001b[0m\u001b[1;34m'Enter a number: '\u001b[0m\u001b[1;33m)\u001b[0m\u001b[1;33m)\u001b[0m\u001b[1;33m\u001b[0m\u001b[1;33m\u001b[0m\u001b[0m\n\u001b[0m\u001b[0;32m      3\u001b[0m \u001b[0mprint\u001b[0m\u001b[1;33m(\u001b[0m\u001b[1;34m'value is'\u001b[0m\u001b[1;33m,\u001b[0m \u001b[0mnum\u001b[0m\u001b[1;33m)\u001b[0m\u001b[1;33m\u001b[0m\u001b[1;33m\u001b[0m\u001b[0m\n",
      "\u001b[1;32m<string>\u001b[0m in \u001b[0;36m<module>\u001b[1;34m\u001b[0m\n",
      "\u001b[1;31mNameError\u001b[0m: name 'sdf' is not defined"
     ]
    }
   ],
   "source": [
    "# 如果不處理    \n",
    "num = eval(input('Enter a number: '))\n",
    "print('value is', num)"
   ]
  },
  {
   "cell_type": "code",
   "execution_count": 2,
   "metadata": {},
   "outputs": [
    {
     "name": "stdout",
     "output_type": "stream",
     "text": [
      "Enter a number: kjh\n",
      "Error:  name 'kjh' is not defined\n"
     ]
    }
   ],
   "source": [
    "# exception\n",
    "try:\n",
    "    num = eval(input('Enter a number: '))\n",
    "    print('value is', num)    \n",
    "except NameError as e:\n",
    "    print('Error: ',e)"
   ]
  },
  {
   "cell_type": "markdown",
   "metadata": {},
   "source": [
    "# Python 標準異常\n",
    "#### https://codertw.com/%E7%A8%8B%E5%BC%8F%E8%AA%9E%E8%A8%80/373004/"
   ]
  },
  {
   "cell_type": "code",
   "execution_count": 5,
   "metadata": {},
   "outputs": [
    {
     "name": "stdout",
     "output_type": "stream",
     "text": [
      "Input two integers(n1,n2): 1/0\n",
      "Error: Devided by zero!\n",
      "finally\n"
     ]
    }
   ],
   "source": [
    "# exception\n",
    "try:\n",
    "    n1,n2 = eval(input('Input two integers(n1,n2): '))\n",
    "    r = n1/n2\n",
    "    print('r =', r)    \n",
    "except SyntaxError:\n",
    "    print('Error: Please separate input data by comma!')\n",
    "except ZeroDivisionError:\n",
    "    print('Error: Devided by zero!')\n",
    "# except (SyntaxError, ZeroDivisionError):\n",
    "#     print('Error: Please separate input data by comma! or Devided by zero!')\n",
    "except:\n",
    "    print('Error: Input error!')\n",
    "else:\n",
    "    print('Else: No error !')\n",
    "finally:\n",
    "    print('finally')"
   ]
  },
  {
   "cell_type": "code",
   "execution_count": 3,
   "metadata": {},
   "outputs": [
    {
     "name": "stdout",
     "output_type": "stream",
     "text": [
      "Enter an index: 5\n",
      "Index Error : Index out of range\n",
      "Enter an index: 2\n",
      "Value is 3\n"
     ]
    }
   ],
   "source": [
    "# exception\n",
    "while True:\n",
    "    try:\n",
    "        lst1 = [1,2,3,4]\n",
    "        idx = int(input('Enter an index: '))\n",
    "        if not 0<=idx<4:\n",
    "            raise IndexError('Index out of range')\n",
    "        print('Value is',lst1[idx])\n",
    "        break\n",
    "    except IndexError as e:\n",
    "        print('Index Error :', e)"
   ]
  },
  {
   "cell_type": "markdown",
   "metadata": {},
   "source": [
    "---"
   ]
  },
  {
   "cell_type": "markdown",
   "metadata": {},
   "source": [
    "# Module_18_檔案的讀寫與組織管理\n",
    ">## 輸出(Output)到檔案, 從檔案輸入(Input)"
   ]
  },
  {
   "cell_type": "code",
   "execution_count": 6,
   "metadata": {},
   "outputs": [
    {
     "name": "stdout",
     "output_type": "stream",
     "text": [
      "Write two data to note.txt!\n",
      "Append one data to note.txt!\n"
     ]
    }
   ],
   "source": [
    "# file write\n",
    "\n",
    "fp = open('note.txt', 'w', encoding='utf-8') #  Unicode轉換格式（Unicode Transformation Format，簡稱為 UTF\n",
    "fp.write('資策會\\n')\n",
    "fp.write('iiiedu\\n')\n",
    "\n",
    "print('Write two data to note.txt!')\n",
    "fp.close()\n",
    "\n",
    "fp = open('note.txt', 'a')  # append\n",
    "fp.write('iii.org.tw\\n')   # 後來加入\n",
    "print('Append one data to note.txt!')\n",
    "\n",
    "print('iii.org.tw iii.org.tw', file = fp)  # print 也行\n",
    "fp.close()"
   ]
  },
  {
   "cell_type": "code",
   "execution_count": 28,
   "metadata": {},
   "outputs": [
    {
     "name": "stdout",
     "output_type": "stream",
     "text": [
      "<_io.TextIOWrapper name='note.txt' mode='r' encoding='utf-8'>\n",
      "\n",
      "\n",
      "資策會\n",
      "\n",
      "iiiedu\n",
      "\n",
      "iii.org.tw\n",
      "\n",
      "iii.org.tw iii.org.tw\n",
      "\n",
      "today is 2020-10-15.today is 2020-10-15.today is 2020-10-15.today is 2020-10-15.\n",
      "file closed\t: True\n"
     ]
    }
   ],
   "source": [
    "data = open ('note.txt','r',encoding=\"utf-8\");\n",
    "# data.write('today is 2020-10-15.');\n",
    "context = data.readlines();\n",
    "print(data)\n",
    "print(\"\\n\")\n",
    "for i in range(0, len(context)):\n",
    "               print(context[i]);\n",
    "data.close();\n",
    "print('file closed\\t:', data.closed)\n"
   ]
  },
  {
   "cell_type": "code",
   "execution_count": 8,
   "metadata": {},
   "outputs": [
    {
     "name": "stdout",
     "output_type": "stream",
     "text": [
      "檔案開啟成功!!\n",
      "file name\t: note.txt\n",
      "file mode\t: r\n",
      "file encoding\t: utf-8\n",
      "file closed\t: False\n"
     ]
    }
   ],
   "source": [
    "# file informatin\n",
    "fp = open('note.txt', 'r', encoding='utf-8')\n",
    "# fp = open('PythonSteveDay1.ipynb')\n",
    "\n",
    "if fp != None :\n",
    "    print(\"檔案開啟成功!!\")\n",
    "    print('file name\\t:', fp.name)\n",
    "    print('file mode\\t:', fp.mode)  #r\n",
    "    print('file encoding\\t:',fp.encoding) #utf-8\n",
    "    print('file closed\\t:', fp.closed) #False\n",
    "    \n",
    "\n",
    "fp.close() "
   ]
  },
  {
   "cell_type": "markdown",
   "metadata": {},
   "source": [
    "https://oxygentw.net/blog/computer/python-file-utf8-encoding/"
   ]
  },
  {
   "cell_type": "code",
   "execution_count": 27,
   "metadata": {},
   "outputs": [
    {
     "name": "stdout",
     "output_type": "stream",
     "text": [
      "Content(with new line):\n",
      "資策會\n",
      "\n",
      "iiiedu\n",
      "\n",
      "iii.org.tw\n",
      "\n",
      "iii.org.tw iii.org.tw\n",
      "\n",
      "today is 2020-10-15.today is 2020-10-15.today is 2020-10-15.today is 2020-10-15.\n"
     ]
    }
   ],
   "source": [
    "# file read all  一次全部讀\n",
    "fp = open('note.txt', 'r', encoding='utf-8')\n",
    "print('Content(with new line):')\n",
    "\n",
    "for line in fp: \n",
    "    print(line)\n",
    "fp.close() "
   ]
  },
  {
   "cell_type": "code",
   "execution_count": 29,
   "metadata": {},
   "outputs": [
    {
     "name": "stdout",
     "output_type": "stream",
     "text": [
      "Content(no new line):\n",
      "資策會\n",
      "iiiedu\n",
      "iii.org.tw\n",
      "iii.org.tw iii.org.tw\n",
      "today is 2020-10-15.today is 2020-10-15.today is 2020-10-15.today is 2020-10-15.\n"
     ]
    }
   ],
   "source": [
    "fp = open('note.txt', 'r',  encoding='utf-8')   \n",
    "print('Content(no new line):')\n",
    "\n",
    "for line in fp:   # fp.readlines\n",
    "    print(line, end='')    \n",
    "fp.close()\n",
    "print()"
   ]
  },
  {
   "cell_type": "code",
   "execution_count": 30,
   "metadata": {},
   "outputs": [
    {
     "name": "stdout",
     "output_type": "stream",
     "text": [
      "<_io.TextIOWrapper name='note.txt' mode='r' encoding='utf-8'>\n",
      "Content(readline):\n",
      "fd mode :  r \n",
      "\n",
      "資策會\n",
      "iiiedu\n",
      "iii.org.tw\n",
      "iii.org.tw iii.org.tw\n",
      "today is 2020-10-15.today is 2020-10-15.today is 2020-10-15.today is 2020-10-15."
     ]
    },
    {
     "data": {
      "text/plain": [
       "True"
      ]
     },
     "execution_count": 30,
     "metadata": {},
     "output_type": "execute_result"
    }
   ],
   "source": [
    "# 一次一行直到讀不到為止\n",
    "fp = open('note.txt', 'r', encoding='utf-8')\n",
    "print(fp)\n",
    "print('Content(readline):')\n",
    "print('fd mode : ', fp.mode, '\\n')\n",
    "\n",
    "while True: \n",
    "    line=fp.readline() # 一次一行\n",
    "    if not line:\n",
    "        break\n",
    "    print(line, end='')    \n",
    "fp.close()\n",
    "fp.closed  # check 檔案是否關閉"
   ]
  },
  {
   "cell_type": "code",
   "execution_count": 33,
   "metadata": {},
   "outputs": [
    {
     "name": "stdout",
     "output_type": "stream",
     "text": [
      "Content:\n",
      "資策會\n",
      "iiiedu\n",
      "iii.org.tw\n",
      "iii.org.tw iii.org.tw\n",
      "today is 2020-10-15.today is 2020-10-15.today is 2020-10-15.today is 2020-10-15.\n"
     ]
    }
   ],
   "source": [
    "# With the \"with\" statement, you get better syntax and exceptions handling. \n",
    "# The with statement simplifies exception handling by encapsulating common\n",
    "# preparation and cleanup tasks.\n",
    "\n",
    "try:\n",
    "    fp = open('note.txt', 'r', encoding='utf-8')\n",
    "    data = fp.read()  # fp.read(6) 字節數量\n",
    "    print('Content:')\n",
    "    print(data) \n",
    "except:\n",
    "    print('Error: File I/O error!')\n",
    "finally:\n",
    "    fp.close()"
   ]
  },
  {
   "cell_type": "code",
   "execution_count": 38,
   "metadata": {},
   "outputs": [
    {
     "ename": "FileNotFoundError",
     "evalue": "[Errno 2] No such file or directory: '1note.txt'",
     "output_type": "error",
     "traceback": [
      "\u001b[1;31m---------------------------------------------------------------------------\u001b[0m",
      "\u001b[1;31mFileNotFoundError\u001b[0m                         Traceback (most recent call last)",
      "\u001b[1;32m<ipython-input-38-3b43dba3457f>\u001b[0m in \u001b[0;36m<module>\u001b[1;34m\u001b[0m\n\u001b[1;32m----> 1\u001b[1;33m \u001b[1;32mwith\u001b[0m \u001b[0mopen\u001b[0m\u001b[1;33m(\u001b[0m\u001b[1;34m'1note.txt'\u001b[0m\u001b[1;33m,\u001b[0m \u001b[1;34m'r'\u001b[0m\u001b[1;33m,\u001b[0m \u001b[0mencoding\u001b[0m\u001b[1;33m=\u001b[0m\u001b[1;34m'utf-8'\u001b[0m\u001b[1;33m)\u001b[0m \u001b[1;32mas\u001b[0m \u001b[0mfp\u001b[0m\u001b[1;33m:\u001b[0m\u001b[1;33m\u001b[0m\u001b[1;33m\u001b[0m\u001b[0m\n\u001b[0m\u001b[0;32m      2\u001b[0m     \u001b[0mdata\u001b[0m \u001b[1;33m=\u001b[0m \u001b[0mfp\u001b[0m\u001b[1;33m.\u001b[0m\u001b[0mread\u001b[0m\u001b[1;33m(\u001b[0m\u001b[1;33m)\u001b[0m\u001b[1;33m\u001b[0m\u001b[1;33m\u001b[0m\u001b[0m\n\u001b[0;32m      3\u001b[0m     \u001b[0mprint\u001b[0m\u001b[1;33m(\u001b[0m\u001b[1;34m'Content:'\u001b[0m\u001b[1;33m)\u001b[0m\u001b[1;33m\u001b[0m\u001b[1;33m\u001b[0m\u001b[0m\n\u001b[0;32m      4\u001b[0m     \u001b[0mprint\u001b[0m\u001b[1;33m(\u001b[0m\u001b[0mdata\u001b[0m\u001b[1;33m)\u001b[0m\u001b[1;33m\u001b[0m\u001b[1;33m\u001b[0m\u001b[0m\n",
      "\u001b[1;31mFileNotFoundError\u001b[0m: [Errno 2] No such file or directory: '1note.txt'"
     ]
    }
   ],
   "source": [
    "with open('1note.txt', 'r', encoding='utf-8') as fp:\n",
    "    data = fp.read()\n",
    "    print('Content:')\n",
    "    print(data)"
   ]
  },
  {
   "cell_type": "code",
   "execution_count": 37,
   "metadata": {},
   "outputs": [
    {
     "name": "stdout",
     "output_type": "stream",
     "text": [
      "Content(no new line):\n",
      "資策會\n",
      "iiiedu\n",
      "iii.org.tw\n",
      "iii.org.tw iii.org.tw\n",
      "today is 2020-10-15.today is 2020-10-15.today is 2020-10-15.today is 2020-10-15."
     ]
    }
   ],
   "source": [
    "# file read\n",
    "fname='note.txt'\n",
    "\n",
    "with open(fname, 'r', encoding='utf-8') as fp:\n",
    "    print('Content(no new line):')\n",
    "\n",
    "    for line in fp:\n",
    "        print(line, end='') "
   ]
  },
  {
   "cell_type": "code",
   "execution_count": null,
   "metadata": {},
   "outputs": [],
   "source": []
  }
 ],
 "metadata": {
  "kernelspec": {
   "display_name": "Python 3",
   "language": "python",
   "name": "python3"
  },
  "language_info": {
   "codemirror_mode": {
    "name": "ipython",
    "version": 3
   },
   "file_extension": ".py",
   "mimetype": "text/x-python",
   "name": "python",
   "nbconvert_exporter": "python",
   "pygments_lexer": "ipython3",
   "version": "3.8.3"
  }
 },
 "nbformat": 4,
 "nbformat_minor": 4
}
